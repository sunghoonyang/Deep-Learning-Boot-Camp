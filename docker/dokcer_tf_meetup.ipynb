{
 "cells": [
  {
   "cell_type": "markdown",
   "metadata": {},
   "source": [
    "## Docker +TF  + Goolge Compute meetup \n",
    "\n",
    "https://github.com/QuantScientist/deep-ml-meetups/blob/master/nice-docker/README.md\n",
    "\n",
    "https://console.cloud.google.com/compute/instances?project=tf-docker\n",
    "\n"
   ]
  },
  {
   "cell_type": "code",
   "execution_count": null,
   "metadata": {
    "collapsed": true
   },
   "outputs": [],
   "source": []
  },
  {
   "cell_type": "code",
   "execution_count": 4,
   "metadata": {},
   "outputs": [
    {
     "name": "stdout",
     "output_type": "stream",
     "text": [
      "TF version:1.0.1\n"
     ]
    }
   ],
   "source": [
    "%reset -f\n",
    "import matplotlib.pyplot as plt\n",
    "import pandas as pd\n",
    "import numpy as np\n",
    "import pandas as pd\n",
    "%matplotlib inline\n",
    "import seaborn as sns\n",
    "sns.set(style=\"whitegrid\", palette=\"muted\", color_codes=True)\n",
    "\n",
    "\n",
    "import tensorflow as tf; \n",
    "print('TF version:' + tf.__version__)"
   ]
  },
  {
   "cell_type": "markdown",
   "metadata": {},
   "source": [
    "## Versions"
   ]
  },
  {
   "cell_type": "code",
   "execution_count": 3,
   "metadata": {},
   "outputs": [
    {
     "name": "stdout",
     "output_type": "stream",
     "text": [
      "Path at terminal when executing this file\n",
      "/root/sharedfolder/dev/cto-gamma_2472/CTO/data-science/jupyter/docker\n",
      "\n",
      "2017-05-21 \n",
      "\n",
      "CPython 2.7.6\n",
      "IPython 5.3.0\n",
      "\n",
      "pandas 0.18.1\n",
      "scipy 0.19.0\n",
      "matplotlib 2.0.0\n",
      "\n",
      "compiler   : GCC 4.8.4\n",
      "system     : Linux\n",
      "release    : 3.13.0-112-generic\n",
      "machine    : x86_64\n",
      "processor  : x86_64\n",
      "CPU cores  : 40\n",
      "interpreter: 64bit\n"
     ]
    }
   ],
   "source": [
    "import os\n",
    "print(\"Path at terminal when executing this file\")\n",
    "print(os.getcwd() + \"\\n\")\n",
    "\n",
    "%matplotlib inline\n",
    "%load_ext watermark\n",
    "%watermark -d -v -m -p pandas,scipy,matplotlib"
   ]
  },
  {
   "cell_type": "markdown",
   "metadata": {},
   "source": [
    "# Docker commands building a CPU based docker"
   ]
  },
  {
   "cell_type": "markdown",
   "metadata": {},
   "source": [
    "## Install Docker"
   ]
  },
  {
   "cell_type": "markdown",
   "metadata": {},
   "source": [
    "### Linux\n",
    "apt-get install docker.io\n",
    "\n",
    "### OSX\n",
    "https://download.docker.com/mac/stable/Docker.dmg\n",
    "\n",
    "#### OR\n",
    "\n",
    "##### Install Homebrew\n",
    "ruby -e \"$(curl -fsSL https://raw.githubusercontent.com/Homebrew/install/master/install)\"\n",
    "#####  Install Cask\n",
    "brew install caskroom/cask/brew-cask\n",
    "##### Install docker toolbox\n",
    "brew cask install docker-toolbox"
   ]
  },
  {
   "cell_type": "markdown",
   "metadata": {},
   "source": [
    "## To allow your user to run docker commands without the sudo prefix"
   ]
  },
  {
   "cell_type": "raw",
   "metadata": {},
   "source": [
    "sudo usermod -aG docker shlomo"
   ]
  },
  {
   "cell_type": "markdown",
   "metadata": {},
   "source": [
    "## Base Image"
   ]
  },
  {
   "cell_type": "code",
   "execution_count": null,
   "metadata": {
    "collapsed": true
   },
   "outputs": [],
   "source": [
    "Base images are images that have no parent image, usually images with an OS like ubuntu, busybox or debian.\n",
    "We start with specifying our base image. Use the FROM keyword to do that\n",
    "FROM ubuntu:16.04\n",
    "\n",
    "docker pull ubuntu:12.04"
   ]
  },
  {
   "cell_type": "markdown",
   "metadata": {},
   "source": [
    "## The next step usually is to write the commands of copying the files and installing the dependencies."
   ]
  },
  {
   "cell_type": "markdown",
   "metadata": {},
   "source": [
    "## Install TensorFlow CPU version from central repo"
   ]
  },
  {
   "cell_type": "code",
   "execution_count": null,
   "metadata": {
    "collapsed": true
   },
   "outputs": [],
   "source": [
    "\n",
    "RUN pip --no-cache-dir install \\\n",
    "    http://storage.googleapis.com/tensorflow/linux/cpu/tensorflow-0.0.0-cp27-none-linux_x86_64.whl"
   ]
  },
  {
   "cell_type": "markdown",
   "metadata": {},
   "source": [
    "## Pick up TF dependencies"
   ]
  },
  {
   "cell_type": "code",
   "execution_count": null,
   "metadata": {
    "collapsed": true
   },
   "outputs": [],
   "source": [
    "\n",
    "RUN apt-get update && apt-get install -y --no-install-recommends \\\n",
    "        build-essential \\\n",
    "        curl \\\n",
    "        libfreetype6-dev \\\n",
    "        libpng12-dev \\\n",
    "        libzmq3-dev \\\n",
    "        pkg-config \\\n",
    "        python \\\n",
    "        python-dev \\\n",
    "        rsync \\\n",
    "        software-properties-common \\\n",
    "        unzip \\\n",
    "        && \\\n",
    "    apt-get clean && \\\n",
    "    rm -rf /var/lib/apt/lists/*"
   ]
  },
  {
   "cell_type": "markdown",
   "metadata": {},
   "source": [
    "## Install PIP"
   ]
  },
  {
   "cell_type": "code",
   "execution_count": null,
   "metadata": {
    "collapsed": true
   },
   "outputs": [],
   "source": [
    "RUN curl -O https://bootstrap.pypa.io/get-pip.py && \\\n",
    "    python get-pip.py && \\\n",
    "    rm get-pip.py"
   ]
  },
  {
   "cell_type": "markdown",
   "metadata": {},
   "source": [
    "## Install Python libs"
   ]
  },
  {
   "cell_type": "code",
   "execution_count": null,
   "metadata": {
    "collapsed": true
   },
   "outputs": [],
   "source": [
    "RUN pip --no-cache-dir install \\\n",
    "        ipykernel \\\n",
    "        jupyter \\\n",
    "        matplotlib \\\n",
    "        numpy \\\n",
    "        scipy \\\n",
    "        sklearn \\\n",
    "        pandas \\\n",
    "        Pillow \\\n",
    "        && \\\n",
    "    python -m ipykernel.kernelspec"
   ]
  },
  {
   "cell_type": "markdown",
   "metadata": {},
   "source": [
    "## Set up our notebook config\n"
   ]
  },
  {
   "cell_type": "code",
   "execution_count": null,
   "metadata": {
    "collapsed": true
   },
   "outputs": [],
   "source": [
    "COPY jupyter_notebook_config.py /root/.jupyter/"
   ]
  },
  {
   "cell_type": "markdown",
   "metadata": {},
   "source": [
    "## Open ports"
   ]
  },
  {
   "cell_type": "code",
   "execution_count": null,
   "metadata": {
    "collapsed": true
   },
   "outputs": [],
   "source": [
    "# TensorBoard\n",
    "EXPOSE 6006\n",
    "# IPython\n",
    "EXPOSE 8888"
   ]
  },
  {
   "cell_type": "markdown",
   "metadata": {},
   "source": [
    "## Jupyter config"
   ]
  },
  {
   "cell_type": "code",
   "execution_count": null,
   "metadata": {
    "collapsed": true
   },
   "outputs": [],
   "source": [
    "# jupyter_notebook_config.py\n",
    "\n",
    "import os\n",
    "from IPython.lib import passwd\n",
    "\n",
    "c.NotebookApp.ip = '*'\n",
    "c.NotebookApp.port = int(os.getenv('PORT', 8888))\n",
    "c.NotebookApp.open_browser = False\n",
    "\n",
    "# sets a password if PASSWORD is set in the environment\n",
    "if 'PASSWORD' in os.environ:\n",
    "  c.NotebookApp.password = passwd(os.environ['PASSWORD'])\n",
    "  del os.environ['PASSWORD']\n"
   ]
  },
  {
   "cell_type": "markdown",
   "metadata": {},
   "source": [
    "## Docker components\n",
    "Docker consists of the following components:\n",
    "\n",
    "Images\n",
    "\n",
    "Containers\n",
    "\n",
    "Daemon\n",
    "\n",
    "Clients\n",
    "\n",
    "Registries\n",
    "\n",
    "##  Images\n",
    "Images are read-only templates which provide functionality for running an instance of this image (container). An example for a image is the latest release of Ubuntu. Images are defined as layers, for example, you can add Java to the Ubuntu image and get another image based on this.\n",
    "\n",
    "The Docker hub provides lot of pre-configured images. You can modify existing images and save these modifications as new image.\n",
    "\n",
    "##  Containers\n",
    "Container are the started components based on images. They contain the actual application and dependencies but share the same kernel. They can be started, stopped, paused, deleted. Containers are immutable and disposable.\n",
    "\n",
    "##  Docker Daemon\n",
    "Is used to manage the container. It runs natively on Linux and inside a VM on Windows and Mac OS X. To start it use the docker command.\n",
    "\n",
    "##  Docker Clients\n",
    "Clients (CLI, IDE) run on host VM. They provide the tools to interact with container, i.e., to start them.\n",
    "\n",
    "##  Registries\n",
    "Images are saved in a registry and have an ID with consists of a repository and a tag. For example, fedora:22, is an image which contains the Fedora 22 OS from the fedora repository.\n",
    "\n",
    "To use an image you have to pull it from a registry, to share an image with others you have to push it to one. The default Docker registry is the Docker Hub. You can upload your personal images to Github, in this case you add your user name as prefix to the image, e.g., vogella/fedore:22\n"
   ]
  },
  {
   "cell_type": "markdown",
   "metadata": {},
   "source": [
    "# Docker commands - after the docker script is ready"
   ]
  },
  {
   "cell_type": "markdown",
   "metadata": {},
   "source": [
    "## Search for a docker image"
   ]
  },
  {
   "cell_type": "code",
   "execution_count": null,
   "metadata": {
    "collapsed": true
   },
   "outputs": [],
   "source": [
    "root@shlomo::~# docker search --stars=5 \"postgresql-9.3\"\n",
    "Flag --stars has been deprecated, use --filter=stars=3 instead\n",
    "NAME                     DESCRIPTION                     STARS     OFFICIAL   AUTOMATED\n",
    "helmi03/docker-postgis   PostGIS 2.1 in PostgreSQL 9.3   24                   [OK]\n"
   ]
  },
  {
   "cell_type": "markdown",
   "metadata": {},
   "source": [
    "## Build an image"
   ]
  },
  {
   "cell_type": "code",
   "execution_count": null,
   "metadata": {
    "collapsed": true
   },
   "outputs": [],
   "source": [
    "docker build -t quantscientist/deep-ml-meetups -f Dockerfile.cpu ."
   ]
  },
  {
   "cell_type": "markdown",
   "metadata": {},
   "source": [
    "## View available images"
   ]
  },
  {
   "cell_type": "code",
   "execution_count": null,
   "metadata": {
    "collapsed": true
   },
   "outputs": [],
   "source": [
    "root@shlomo:~# docker images\n",
    "REPOSITORY                          TAG                     IMAGE ID            CREATED              VIRTUAL SIZE\n",
    "quantscientist/deep-ml-meetups      latest                  3871333c6375        5 weeks ago          5.146 GB\n"
   ]
  },
  {
   "cell_type": "code",
   "execution_count": null,
   "metadata": {
    "collapsed": true
   },
   "outputs": [],
   "source": [
    "root@shlomo:~# docker images\n",
    "REPOSITORY             TAG                 IMAGE ID            CREATED             SIZE\n",
    "docker-airflow         latest              8117652bf8e8        7 weeks ago         1.22 GB\n",
    "debian                 jessie              8cedef9d7368        2 months ago        123 MB\n",
    "tylerfowler/superset   latest              224639f0ff97        4 months ago        879 MB\n",
    "uifd/ui-for-docker     latest              965940f98fa5        8 months ago        8.1 MB\n",
    "cloudera/clusterdock   latest              3e15a0e12577        8 months ago        463 MB\n",
    "zhicwu/presto          latest              a1fe6f0241a4        12 months ago       2.05 GB\n",
    "cloudera/quickstart    latest              4239cd2958c6        13 months ago       6.34 GB"
   ]
  },
  {
   "cell_type": "markdown",
   "metadata": {},
   "source": [
    "## Stop all docker containers - Bash"
   ]
  },
  {
   "cell_type": "code",
   "execution_count": null,
   "metadata": {
    "collapsed": true
   },
   "outputs": [],
   "source": [
    " \n",
    "#!/bin/bash\n",
    "# Delete all containers\n",
    "docker rm $(docker ps -a -q)\n",
    "# Delete all images\n",
    "docker rmi $(docker images -q)"
   ]
  },
  {
   "cell_type": "code",
   "execution_count": null,
   "metadata": {
    "collapsed": true
   },
   "outputs": [],
   "source": [
    "# Delete all stopped containers\n",
    "docker rm $( docker ps -q -f status=exited)\n",
    "# Delete all dangling (unused) images\n",
    "docker rmi $( docker images -q -f dangling=true)"
   ]
  },
  {
   "cell_type": "markdown",
   "metadata": {},
   "source": [
    "## \"Login\" into a container"
   ]
  },
  {
   "cell_type": "code",
   "execution_count": null,
   "metadata": {
    "collapsed": true
   },
   "outputs": [],
   "source": [
    "docker exec -it <containerIdOrName> bash\n",
    "( Docker version 1.3 or greater)\n"
   ]
  },
  {
   "cell_type": "code",
   "execution_count": null,
   "metadata": {
    "collapsed": true
   },
   "outputs": [],
   "source": [
    "docker network ls"
   ]
  },
  {
   "cell_type": "code",
   "execution_count": null,
   "metadata": {
    "collapsed": true
   },
   "outputs": [],
   "source": [
    "FROM nvidia/cuda:8.0-cudnn5-devel-ubuntu16.04"
   ]
  },
  {
   "cell_type": "markdown",
   "metadata": {},
   "source": [
    "# References\n",
    "https://prakhar.me/docker-curriculum/\n"
   ]
  },
  {
   "cell_type": "markdown",
   "metadata": {},
   "source": [
    "# Verbatim bash script"
   ]
  },
  {
   "cell_type": "code",
   "execution_count": null,
   "metadata": {
    "collapsed": true
   },
   "outputs": [],
   "source": [
    "shlomokashani@tf-docker-meetup:~/dev/deep-ml-meetups/nice-docker$ history\n",
    "    1  mkdir dev\n",
    "    2  cd dev/\n",
    "    3  apt-get install docker.io\n",
    "    4  sudo apt-get install docker.io\n",
    "    5  git clone git@github.com:QuantScientist/deep-ml-meetups.git\n",
    "    6  ssh-keygen -t rsa -b 4096 -C \"shlomokashani@gmail.com\"\n",
    "    7  cat /home/shlomokashani/.ssh/id_rsa.pub\n",
    "    8  ssh-keygen -t rsa -b 4096 -C \"shlomokashani@gmail.com\"\n",
    "    9  git clone git@github.com:QuantScientist/deep-ml-meetups.git\n",
    "   10  cd deep-ml-meetups/nice-docker/\n",
    "   11  docker build -t quantscientist/deep-ml-meetups -f Dockerfile.cpu .\n",
    "   12  sudo docker build -t quantscientist/deep-ml-meetups -f Dockerfile.cpu .\n",
    "   13  docker ps\n",
    "   14  sudo usermod -aG docker shlomokashani\n",
    "   15  history"
   ]
  },
  {
   "cell_type": "code",
   "execution_count": null,
   "metadata": {
    "collapsed": true
   },
   "outputs": [],
   "source": [
    "docker run -it -p 5555:5555 -p 7842:7842 -p 8787:8787 -p 8786:8786 -p 8788:8788 -v ~/dev/:/root/sharedfolder  quantscientist/deep-ml-meetups bash"
   ]
  },
  {
   "cell_type": "markdown",
   "metadata": {},
   "source": [
    "# Data Lab - ON GOOGLE"
   ]
  },
  {
   "cell_type": "code",
   "execution_count": null,
   "metadata": {
    "collapsed": true
   },
   "outputs": [],
   "source": [
    "shlomokashani@cloudshell:~$ gcloud config set project tf-docker\n",
    "Updated property [core/project].\n",
    "\n",
    "shlomokashani@tf-docker:~$ datalab create tf-docker-datalab\n",
    "    "
   ]
  },
  {
   "cell_type": "markdown",
   "metadata": {},
   "source": [
    "# Data Lab - LOCAL"
   ]
  },
  {
   "cell_type": "code",
   "execution_count": null,
   "metadata": {
    "collapsed": true
   },
   "outputs": [],
   "source": [
    "git clone https://github.com/GoogleCloudPlatform/datalab.git\n",
    "cd datalab/containers/datalab\n",
    "# Replace the MyProjectID value in the next line with your project ID\n",
    "PROJECT_ID=MyProjectID\n",
    "./build.sh && ./run.sh"
   ]
  }
 ],
 "metadata": {
  "kernelspec": {
   "display_name": "Python 2",
   "language": "python",
   "name": "python2"
  },
  "language_info": {
   "codemirror_mode": {
    "name": "ipython",
    "version": 2
   },
   "file_extension": ".py",
   "mimetype": "text/x-python",
   "name": "python",
   "nbconvert_exporter": "python",
   "pygments_lexer": "ipython2",
   "version": "2.7.6"
  }
 },
 "nbformat": 4,
 "nbformat_minor": 2
}
