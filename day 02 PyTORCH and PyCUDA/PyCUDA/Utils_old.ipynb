{
 "cells": [
  {
   "cell_type": "code",
   "execution_count": 24,
   "metadata": {
    "collapsed": true
   },
   "outputs": [],
   "source": [
    "# import pycuda.autoinit\n",
    "# import pycuda.driver as drv\n",
    "# import pycuda.gpuarray as ga\n",
    "# import numpy as np\n",
    "# from pycuda.compiler import SourceModule\n",
    "\n",
    "# mod = SourceModule(open(\"vector_types.cu\").read())\n",
    "# print_coordinates = mod.get_function(\"print_coordinates\")"
   ]
  },
  {
   "cell_type": "code",
   "execution_count": null,
   "metadata": {
    "collapsed": true
   },
   "outputs": [],
   "source": [
    "# mod = drv.SourceModule(\"\"\" <your kernel code here> \"\"\")\n",
    "# func = mod.get_function(\"<name of your kernel function here>\")\n",
    "# elapsed = func(<your parameters>, time_kernel=True)"
   ]
  },
  {
   "cell_type": "code",
   "execution_count": null,
   "metadata": {
    "collapsed": true
   },
   "outputs": [],
   "source": [
    "# import pycuda.autoinit\n",
    "# import pycuda.driver as drv\n",
    "# import numpy\n",
    "# import Image\n",
    "# import time\n",
    "# import sys, getopt\n",
    "\n",
    "# import matplotlib.pyplot as plt\n",
    "# import matplotlib.image as mpimg \n",
    "# from pycuda.compiler import SourceModule\n",
    "\n",
    "# start_time=0.0\n",
    "\n",
    "# def startTimer( funcname, quiet ):\n",
    "#     global start_time\n",
    "#     if not quiet:\n",
    "#         sys.stdout.write(funcname)\n",
    "#         sys.stdout.flush()  \n",
    "#     start_time = time.time()\n",
    "\n",
    "        \n",
    "# def stopTimer(quiet):\n",
    "#     elapsed_time = time.time() - start_time\n",
    "#     if not quiet:\n",
    "#         print 'DONE in {0:.3f} seconds.'.format(elapsed_time)  \n",
    "\n",
    "        \n",
    "# def loadKernel():                   \n",
    "#     module = drv.module_from_file(\"ssgls.ptx\")      \n",
    "#     glsKernel    = module.get_function(\"doGLS_kernel\")   \n",
    "#     return module, glsKernel\n",
    "\n",
    "# startTimer(\"Load CUDA kernel ........... \", quiet)\n",
    "# module, glsKernel = loadKernel()\n",
    "# stopTimer(quiet)  \n",
    "  \n",
    "# startTimer(\"Init Input data ............ \", quiet)\n",
    "# w, h, normals, positions = initInputData (imgNormPath, imgwcPath)\n",
    "# stopTimer(quiet)    "
   ]
  },
  {
   "cell_type": "code",
   "execution_count": null,
   "metadata": {
    "collapsed": true
   },
   "outputs": [],
   "source": [
    "# image_slice_red =  scaled_image_data[:,:,0]\n",
    "# image_slice_green =  scaled_image_data[:,:,1]\n",
    "# image_slice_blue =  scaled_image_data[:,:,2]"
   ]
  },
  {
   "cell_type": "markdown",
   "metadata": {},
   "source": [
    "A standard machine learning situation. Train on batches of images and augment each batch via crop, horizontal flip (\"Fliplr\") and gaussian blur:"
   ]
  }
 ],
 "metadata": {
  "kernelspec": {
   "display_name": "Python 2",
   "language": "python",
   "name": "python2"
  },
  "language_info": {
   "codemirror_mode": {
    "name": "ipython",
    "version": 2
   },
   "file_extension": ".py",
   "mimetype": "text/x-python",
   "name": "python",
   "nbconvert_exporter": "python",
   "pygments_lexer": "ipython2",
   "version": "2.7.12"
  }
 },
 "nbformat": 4,
 "nbformat_minor": 2
}
