{
 "cells": [
  {
   "cell_type": "markdown",
   "metadata": {
    "slideshow": {
     "slide_type": "slide"
    }
   },
   "source": [
    "# Deep Learning Bootcamp November 2017, GPU Computing for Data Scientists\n",
    "\n",
    "<img src=\"images/bcamp.png\" align=\"center\">\n",
    "\n",
    "## Using CUDA, Jupyter, PyCUDA and PyTorch\n",
    "\n",
    "### 03 PyCUDA Sigmoid()\n",
    "\n",
    "Web: https://www.meetup.com/Tel-Aviv-Deep-Learning-Bootcamp/events/241762893/\n",
    "\n",
    "Notebooks: <a href=\"https://github.com/QuantScientist/Data-Science-PyCUDA-GPU\"> On GitHub</a>\n",
    "\n",
    "*Shlomo Kashani*\n",
    "\n",
    "<img src=\"images/gtx.png\" width=\"35%\" align=\"center\">"
   ]
  },
  {
   "cell_type": "markdown",
   "metadata": {
    "collapsed": true,
    "slideshow": {
     "slide_type": "slide"
    }
   },
   "source": [
    "# PyCUDA Imports"
   ]
  },
  {
   "cell_type": "code",
   "execution_count": 1,
   "metadata": {
    "slideshow": {
     "slide_type": "skip"
    }
   },
   "outputs": [
    {
     "ename": "Error",
     "evalue": "cuInit failed: unknown error",
     "output_type": "error",
     "traceback": [
      "\u001b[0;31m---------------------------------------------------------------------------\u001b[0m",
      "\u001b[0;31mError\u001b[0m                                     Traceback (most recent call last)",
      "\u001b[0;32m<ipython-input-1-0bc07944403d>\u001b[0m in \u001b[0;36m<module>\u001b[0;34m()\u001b[0m\n\u001b[1;32m      9\u001b[0m \u001b[0;32mfrom\u001b[0m \u001b[0mpycuda\u001b[0m\u001b[0;34m.\u001b[0m\u001b[0mcompiler\u001b[0m \u001b[0;32mimport\u001b[0m \u001b[0mSourceModule\u001b[0m\u001b[0;34m\u001b[0m\u001b[0m\n\u001b[1;32m     10\u001b[0m \u001b[0;34m\u001b[0m\u001b[0m\n\u001b[0;32m---> 11\u001b[0;31m \u001b[0mcuda\u001b[0m\u001b[0;34m.\u001b[0m\u001b[0minit\u001b[0m\u001b[0;34m(\u001b[0m\u001b[0;34m)\u001b[0m\u001b[0;34m\u001b[0m\u001b[0m\n\u001b[0m\u001b[1;32m     12\u001b[0m \u001b[0;32mprint\u001b[0m\u001b[0;34m(\u001b[0m\u001b[0;34m\"%d device(s) found.\"\u001b[0m \u001b[0;34m%\u001b[0m \u001b[0mcuda\u001b[0m\u001b[0;34m.\u001b[0m\u001b[0mDevice\u001b[0m\u001b[0;34m.\u001b[0m\u001b[0mcount\u001b[0m\u001b[0;34m(\u001b[0m\u001b[0;34m)\u001b[0m\u001b[0;34m)\u001b[0m\u001b[0;34m\u001b[0m\u001b[0m\n\u001b[1;32m     13\u001b[0m \u001b[0;32mfor\u001b[0m \u001b[0mordinal\u001b[0m \u001b[0;32min\u001b[0m \u001b[0mrange\u001b[0m\u001b[0;34m(\u001b[0m\u001b[0mcuda\u001b[0m\u001b[0;34m.\u001b[0m\u001b[0mDevice\u001b[0m\u001b[0;34m.\u001b[0m\u001b[0mcount\u001b[0m\u001b[0;34m(\u001b[0m\u001b[0;34m)\u001b[0m\u001b[0;34m)\u001b[0m\u001b[0;34m:\u001b[0m\u001b[0;34m\u001b[0m\u001b[0m\n",
      "\u001b[0;31mError\u001b[0m: cuInit failed: unknown error"
     ]
    }
   ],
   "source": [
    "# !pip install pycuda\n",
    "%reset -f\n",
    "import pycuda\n",
    "from pycuda import compiler\n",
    "import pycuda.driver as cuda\n",
    "import numpy\n",
    "import numpy as np\n",
    "\n",
    "from pycuda.compiler import SourceModule\n",
    "\n",
    "cuda.init()\n",
    "print(\"%d device(s) found.\" % cuda.Device.count())           \n",
    "for ordinal in range(cuda.Device.count()):\n",
    "    dev = cuda.Device(ordinal)\n",
    "    print \"Device #%d: %s\" % (ordinal, dev.name())    \n",
    "\n",
    "print cuda"
   ]
  },
  {
   "cell_type": "code",
   "execution_count": 5,
   "metadata": {},
   "outputs": [
    {
     "name": "stdout",
     "output_type": "stream",
     "text": [
      "\u001b[?1l\u001b>6m[0]\u001b[m \u001b[34mGeForce GTX 1080\u001b[m |\u001b[31m 37'C\u001b[m, \u001b[32m  0 %\u001b[m | \u001b[33m\u001b[1m  778\u001b[m / \u001b[33m 8111\u001b[m MB |\u001b[24;80H\u001b[m\u001b[1;74H11\u001b[3;33H1\u001b[24;80H\u001b[m\u001b[1;75H2\u001b[3;33H2\u001b[24;80H\u001b[m\u001b[1;75H3\u001b[3;33H4\u001b[24;80H\u001b[m\u001b[1;75H5\u001b[3;33H5\u001b[24;80H\u001b[m\u001b[1;75H6\u001b[3;33H6\u001b[24;80H\u001b[m\u001b[1;75H7\u001b[3;33H7\u001b[24;80H\u001b[m\u001b[1;75H8\u001b[3;33H9\u001b[\u001b[32m3\u001b[24;80H\u001b[m\u001b[m\u001b[1;74H20\u001b[3;32H20\u001b[\u001b[32m0\u001b[24;80H\u001b[m\u001b[m\u001b[1;75H1\u001b[3;33H1\u001b[24;80H\u001b[m\u001b[1;75H2\u001b[3;33H2\u001b[\u001b[32m3\u001b[24;80H\u001b[m\u001b[m\u001b[1;75H3\u001b[3;33H3\u001b[\u001b[32m0\u001b[24;80H\u001b[m\u001b[m\u001b[1;75H4\u001b[3;33H5\u001b[24;80H\u001b[m\u001b[1;75H6\u001b[3;33H6\u001b[24;80H\u001b[m\u001b[1;75H7\u001b[3;33H7\u001b[24;80H\u001b[m\u001b[1;75H8\u001b[3;33H8\u001b[24;80H\u001b[m\u001b[1;75H9\u001b[3;33H9\u001b[24;80H\u001b[m\u001b[1;74H30\u001b[3;32H30\u001b[24;80H\u001b[m\u001b[1;75H1\u001b[3;33H1\u001b[24;80H\u001b[m\u001b[1;75H2\u001b[3;33H2\u001b[24;80H\u001b[m\u001b[1;75H3\u001b[3;33H3\u001b[24;80H\u001b[m\u001b[1;75H4\u001b[3;33H4\u001b[24;80H\u001b[m\u001b[1;75H5\u001b[3;33H6\u001b[24;80H\u001b[m\u001b[1;75H7\u001b[3;33H7\u001b[24;80H\u001b[m\u001b[1;75H8\u001b[3;33H8\u001b[24;80H\u001b[m\u001b[1;75H9\u001b[3;33H9\u001b[24;80H\u001b[m\u001b[1;74H40\u001b[3;32H40\u001b[4;25H\u001b[31m8\u001b[24;80H\u001b[m\u001b[m\u001b[1;75H1\u001b[3;33H1\u001b[4;25H\u001b[31m7\u001b[24;80H\u001b[m\u001b[m\u001b[1;75H2\u001b[3;33H2\u001b[24;80H\u001b[m\u001b[1;75H3\u001b[3;33H3\u001b[24;80H\u001b[m\u001b[1;75H4\u001b[3;33H4\u001b[24;80H\u001b[m\u001b[1;75H5\u001b[3;33H5\u001b[24;80H\u001b[m\u001b[1;75H6\u001b[3;33H6\u001b[24;80H\u001b[m\u001b[1;75H7\u001b[3;33H8\u001b[24;80H\u001b[m\u001b[1;75H9\u001b[3;33H9\u001b[24;80H\u001b[m\u001b[1;74H50\u001b[3;32H50\u001b[24;80H\u001b[m\u001b[1;75H1\u001b[3;33H1\u001b[24;80H\u001b[m\u001b[1;75H2\u001b[3;33H2\u001b[24;80H\u001b[m\u001b[1;75H3\u001b[3;33H3\u001b[24;80H\u001b[m\u001b[1;75H4\u001b[3;33H4\u001b[24;80H\u001b[m\u001b[1;75H5\u001b[3;33H5\u001b[24;80H\u001b[m\u001b[1;75H6\u001b[3;33H6\u001b[24;80H\u001b[m\u001b[1;75H7\u001b[3;33H7\u001b[24;80H\u001b[m\u001b[1;75H8\u001b[3;33H8\u001b[24;80H\u001b[m\u001b[1;75H9\u001b[3;30H2:00\u001b[24;80H\u001b[m\u001b[1;72H2:01\u001b[3;33H1\u001b[24;80H\u001b[m\u001b[1;75H2\u001b[3;33H2\u001b[24;80H\u001b[m\u001b[1;75H3\u001b[3;33H3\u001b[24;80H\u001b[m\u001b[1;75H4\u001b[3;33H4\u001b[24;80H\u001b[m\u001b[1;75H5\u001b[3;33H5\u001b[24;80H\u001b[m\u001b[1;75H6\u001b[3;33H6\u001b[4;25H\u001b[31m8\u001b[24;80H\u001b[m\u001b[m\u001b[1;75H7\u001b[3;33H7\u001b[4;25H\u001b[31m7\u001b[24;80H\u001b[m\u001b[m\u001b[1;75H8\u001b[3;33H8\u001b[24;80H\u001b[m\u001b[1;75H9\u001b[3;33H9\u001b[24;80H\u001b[m\u001b[1;74H10\u001b[3;32H10\u001b[24;80H\u001b[m\u001b[1;75H1\u001b[3;33H2\u001b[\u001b[32m4\u001b[24;80H\u001b[m\u001b[m\u001b[1;75H3\u001b[3;33H3\u001b[\u001b[32m0\u001b[24;80H\u001b[m\u001b[m\u001b[1;75H4\u001b[3;33H4\u001b[24;80H\u001b[m\u001b[1;75H5\u001b[3;33H5\u001b[24;80H\u001b[m\u001b[1;75H6\u001b[3;33H6\u001b[24;80H\u001b[m\u001b[1;75H7\u001b[3;33H7\u001b[24;80H\u001b[m\u001b[1;75H8\u001b[3;33H8\u001b[24;80H\u001b[m\u001b[1;75H9\u001b[3;33H9\u001b[24;80H\u001b[m\u001b[1;74H20\u001b[3;32H20\u001b[24;80H\u001b[m\u001b[1;75H1\u001b[3;33H1\u001b[24;80H\u001b[m\u001b[1;75H2\u001b[3;33H2\u001b[24;80H\u001b[m\u001b[1;75H3\u001b[3;33H4\u001b[24;80H\u001b[m\u001b[1;75H5\u001b[3;33H5\u001b[24;80H\u001b[m\u001b[1;75H6\u001b[3;33H6\u001b[24;80H\u001b[m\u001b[1;75H7\u001b[3;33H7\u001b[24;80H\u001b[m\u001b[1;75H8\u001b[3;33H8\u001b[24;80H\u001b[m\u001b[1;75H9\u001b[3;33H9\u001b[24;80H\u001b[m\u001b[1;74H30\u001b[3;32H30\u001b[24;80H\u001b[m\u001b[1;75H1\u001b[3;33H1\u001b[24;80H\u001b[m\u001b[1;75H2\u001b[3;33H2\u001b[24;80H\u001b[m\u001b[1;75H3\u001b[3;33H3\u001b[24;80H\u001b[m\u001b[1;75H4\u001b[3;33H4\u001b[24;80H\u001b[m\u001b[1;75H5\u001b[3;33H6\u001b[24;80H\u001b[m\u001b[1;75H7\u001b[3;33H7\u001b[24;80H\u001b[m\u001b[1;75H8\u001b[3;33H8\u001b[24;80H\u001b[m\u001b[1;75H9\u001b[3;33H9\u001b[24;80H\u001b[m\u001b[1;74H40\u001b[3;32H40\u001b[24;80H\u001b[m\u001b[1;75H1\u001b[3;33H1\u001b[24;80H\u001b[m\u001b[1;75H2\u001b[3;33H2\u001b[24;80H\u001b[m\u001b[1;75H3\u001b[3;33H3\u001b[24;80H\u001b[m\u001b[1;75H4\u001b[3;33H4\u001b[24;80H\u001b[m\u001b[1;75H5\u001b[3;33H5\u001b[24;80H\u001b[m\u001b[1;75H6\u001b[3;33H6\u001b[24;80H\u001b[m\u001b[1;75H7\u001b[3;33H8\u001b[24;80H\u001b[m\u001b[1;75H9\u001b[3;33H9\u001b[24;80H\u001b[m\u001b[1;74H50\u001b[3;32H50\u001b[24;80H\u001b[m\u001b[1;75H1\u001b[3;33H1\u001b[24;80H\u001b[m\u001b[1;75H2\u001b[3;33H2\u001b[24;80H\u001b[m\u001b[1;75H3\u001b[3;33H3\u001b[24;80H\u001b[m\u001b[1;75H4\u001b[3;33H4\u001b[24;80H\u001b[m\u001b[1;75H5\u001b[3;33H5\u001b[24;80H\u001b[m\u001b[1;75H6\u001b[3;33H6\u001b[24;80H\u001b[m\u001b[1;75H7\u001b[3;33H7\u001b[24;80H\u001b[m\u001b[1;75H8\u001b[3;33H9\u001b[24;80H\u001b[m\u001b[1;72H3:00\u001b[3;30H3:00\u001b[24;80H\u001b[m\u001b[1;75H1\u001b[3;33H1\u001b[24;80H\u001b[m\u001b[1;75H2\u001b[3;33H2\u001b[24;80H\u001b[m\u001b[1;75H3\u001b[3;33H3\u001b[24;80H\u001b[m\u001b[1;75H4\u001b[3;33H4\u001b[24;80H\u001b[m\u001b[1;75H5\u001b[3;33H5\u001b[24;80H\u001b[m\u001b[1;75H6\u001b[3;33H6\u001b[24;80H\u001b[m\u001b[1;75H7\u001b[3;33H7\u001b[24;80H\u001b[m\u001b[1;75H8\u001b[3;33H8\u001b[24;80H\u001b[m\u001b[1;75H9\u001b[3;33H9\u001b[24;80H\u001b[m\u001b[1;74H10\u001b[3;32H11\u001b[24;80H\u001b[m\u001b[1;75H2\u001b[3;33H2\u001b[24;80H\u001b[m\u001b[1;75H3\u001b[3;33H3\u001b[24;80H\u001b[m\u001b[1;75H4\u001b[3;33H4\u001b[4;25H\u001b[31m8\u001b[24;80H\u001b[m\u001b[m\u001b[1;75H5\u001b[3;33H5\u001b[4;25H\u001b[31m7\u001b[24;80H\u001b[m\u001b[m\u001b[1;75H6\u001b[3;33H6\u001b[24;80H\u001b[m\u001b[1;75H7\u001b[3;33H7\u001b[24;80H\u001b[m\u001b[1;75H8\u001b[3;33H8\u001b[4;25H\u001b[31m8\u001b[24;80H\u001b[m\u001b[m\u001b[1;75H9\u001b[3;33H9\u001b[4;25H\u001b[31m7\u001b[24;80H\u001b[m\u001b[m\u001b[1;74H20\u001b[3;32H20\u001b[24;80H\u001b[m\u001b[1;75H1\u001b[3;33H1\u001b[4;25H\u001b[31m8\u001b[24;80H\u001b[m\u001b[m\u001b[1;75H2\u001b[3;33H3\u001b[4;25H\u001b[31m7\u001b[24;80H\u001b[m\u001b[m\u001b[1;75H4\u001b[3;33H4\u001b[24;80H\u001b[m\u001b[1;75H5\u001b[3;33H5\u001b[24;80H\u001b[m\u001b[1;75H6\u001b[3;33H6\u001b[24;80H\u001b[m\u001b[1;75H7\u001b[3;33H7\u001b[24;80H\u001b[m\u001b[1;75H8\u001b[3;33H8\u001b[24;80H\u001b[m\u001b[1;75H9\u001b[3;33H9\u001b[24;80H\u001b[m\u001b[1;74H30\u001b[3;32H30\u001b[24;80H\u001b[m\u001b[1;75H1\u001b[3;33H1\u001b[24;80H\u001b[m\u001b[1;75H2\u001b[3;33H2\u001b[24;80H\u001b[m\u001b[1;75H3\u001b[3;33H3\u001b[4;25H\u001b[31m8\u001b[24;80H\u001b[m\u001b[m\u001b[1;75H4\u001b[3;33H5\u001b[4;25H\u001b[31m7\u001b[24;80H\u001b[m\u001b[m\u001b[1;75H6\u001b[3;33H6\u001b[24;80H\u001b[m\u001b[1;75H7\u001b[3;33H7\u001b[24;80H\u001b[m\u001b[1;75H8\u001b[3;33H8\u001b[24;80H\u001b[m\u001b[1;75H9\u001b[3;33H9\u001b[24;80H\u001b[m\u001b[1;74H40\u001b[3;32H40\u001b[4;25H\u001b[31m8\u001b[24;80H\u001b[m\u001b[m\u001b[1;75H1\u001b[3;33H1\u001b[24;80H\u001b[m\u001b[1;75H2\u001b[3;33H2\u001b[4;25H\u001b[31m7\u001b[24;80H\u001b[m\u001b[m\u001b[1;75H3\u001b[3;33H3\u001b[24;80H\u001b[m\u001b[1;75H4\u001b[3;33H4\u001b[24;80H\u001b[m\u001b[1;75H5\u001b[3;33H5\u001b[24;80H\u001b[m\u001b[1;75H6\u001b[3;33H7\u001b[24;80H\u001b[m\u001b[1;75H8\u001b[3;33H8\u001b[4;25H\u001b[31m8\u001b[24;80H\u001b[m\u001b[m\u001b[1;75H9\u001b[3;33H9\u001b[24;80H\u001b[m\u001b[1;74H50\u001b[3;32H50\u001b[4;25H\u001b[31m7\u001b[24;80H\u001b[m\u001b[m\u001b[1;75H1\u001b[3;33H1\u001b[24;80H\u001b[m\u001b[1;75H2\u001b[3;33H2\u001b[4;25H\u001b[31m8\u001b[24;80H\u001b[m\u001b[m\u001b[1;75H3\u001b[3;33H3\u001b[4;25H\u001b[31m7\u001b[24;80H\u001b[m\u001b[m\u001b[1;75H4\u001b[3;33H4\u001b[24;80H\u001b[m\u001b[1;75H5\u001b[3;33H5\u001b[4;25H\u001b[31m8\u001b[24;80H\u001b[m\u001b[m\u001b[1;75H6\u001b[3;33H6\u001b[4;25H\u001b[31m7\u001b[24;80H\u001b[m\u001b[m\u001b[1;75H7\u001b[3;33H7\u001b[24;80H\u001b[m\u001b[1;75H8\u001b[3;33H9\u001b[24;80H\u001b[m\u001b[1;72H4:00\u001b[3;30H4:00\u001b[4;25H\u001b[31m8\u001b[6C\u001b[32m2\u001b[24;80H\u001b[m\u001b[m\u001b[1;75H1\u001b[3;33H1\u001b[\u001b[32m0\u001b[24;80H\u001b[m\u001b[m\u001b[1;75H2\u001b[3;33H2\u001b[4;25H\u001b[31m7\u001b[24;80H\u001b[m\u001b[m\u001b[1;75H3\u001b[3;33H3\u001b[4;25H\u001b[31m8\u001b[24;80H\u001b[m\u001b[m\u001b[1;75H4\u001b[3;33H4\u001b[4;25H\u001b[31m7\u001b[24;80H\u001b[m\u001b[m\u001b[1;75H5\u001b[3;33H5\u001b[4;25H\u001b[31m8\u001b[24;80H\u001b[m\u001b[m\u001b[24;1H\u001b[2J\u001b[?47l\u001b8"
     ]
    }
   ],
   "source": [
    "! watch --color -n1.0 gpustat"
   ]
  },
  {
   "cell_type": "markdown",
   "metadata": {
    "collapsed": true,
    "slideshow": {
     "slide_type": "slide"
    }
   },
   "source": [
    "# Simple addition on the GPU: CUDA Kernel definition"
   ]
  },
  {
   "cell_type": "code",
   "execution_count": 15,
   "metadata": {},
   "outputs": [
    {
     "name": "stdout",
     "output_type": "stream",
     "text": [
      "200000\n"
     ]
    }
   ],
   "source": [
    "import pycuda.autoinit\n",
    "# a = np.random.uniform(low=1, high=20, size=(10,))\n",
    "a = numpy.arange(-100000, 100000, 1)\n",
    "a = a.astype(numpy.float32)\n",
    "\n",
    "ARR_SIZE = numpy.int32(a.shape[-1])\n",
    "print ARR_SIZE \n",
    "\n",
    "a_gpu = cuda.mem_alloc(a.nbytes)\n",
    "xout_gpu = cuda.mem_alloc(a.nbytes)\n",
    "\n",
    "cuda.memcpy_htod(a_gpu, a)\n",
    "xout_gpu=cuda.mem_alloc_like(a)\n",
    "# size_gpu=cuda.mem_alloc_like(size)\n",
    "\n",
    "mod = SourceModule(\"\"\"  \n",
    "  \n",
    "  __global__ void sigmoid(float* a, float* b, int size)\n",
    "    {\n",
    "        int index = blockDim.x * blockIdx.x + threadIdx.x;\n",
    "        if (index < size)\n",
    "            b[index] = 1.0f / (1.0f + exp(-1.0f * a[index]));\n",
    "    }\n",
    "  \"\"\")\n",
    "\n",
    "func = mod.get_function(\"sigmoid\")\n",
    "\n",
    "def sigmoidGPU():\n",
    "    func(a_gpu, xout_gpu,ARR_SIZE, block=(ARR_SIZE/1024,1,1))\n",
    "    a_sigmoid = numpy.empty_like(a)\n",
    "    cuda.memcpy_dtoh(a_sigmoid, xout_gpu)\n",
    "    return a_sigmoid\n",
    "\n",
    "# print sigmoidGPU()\n",
    "\n",
    "from scipy.special import expit\n",
    "y = expit(a)\n",
    "# print (\"__________________________________\")\n",
    "# print y"
   ]
  },
  {
   "cell_type": "markdown",
   "metadata": {
    "collapsed": true,
    "slideshow": {
     "slide_type": "slide"
    }
   },
   "source": [
    "# Plot the Sigmoid function"
   ]
  },
  {
   "cell_type": "code",
   "execution_count": 16,
   "metadata": {},
   "outputs": [
    {
     "data": {
      "image/png": "[encoded data removed]",
      "text/plain": [
       "<matplotlib.figure.Figure at 0x7f97dd8d0e50>"
      ]
     },
     "metadata": {},
     "output_type": "display_data"
    }
   ],
   "source": [
    "import matplotlib.pyplot as plt\n",
    "\n",
    "plt.plot(a,y)\n",
    "plt.text(4,0.8,r'$\\sigma(x)=\\frac{1}{1+e^{-x}}$',fontsize=15)\n",
    "plt.legend(loc='lower right')\n",
    "plt.show()"
   ]
  },
  {
   "cell_type": "markdown",
   "metadata": {
    "collapsed": true,
    "slideshow": {
     "slide_type": "slide"
    }
   },
   "source": [
    "# Timing Numpy vs. PyCUDA ..."
   ]
  },
  {
   "cell_type": "code",
   "execution_count": 17,
   "metadata": {},
   "outputs": [
    {
     "name": "stdout",
     "output_type": "stream",
     "text": [
      "numpy 1.91676592827\n",
      "pycuda 0.144371032715\n"
     ]
    }
   ],
   "source": [
    "import timeit\n",
    "n_iter = ARR_SIZE\n",
    "rounds = 1000  # for timeit\n",
    "\n",
    "print 'numpy', timeit.timeit(lambda: \n",
    "                              expit(a), \n",
    "                              number=rounds)\n",
    "\n",
    "print 'pycuda', timeit.timeit(lambda: \n",
    "                              sigmoidGPU(), \n",
    "                              number=rounds)"
   ]
  },
  {
   "cell_type": "code",
   "execution_count": null,
   "metadata": {
    "collapsed": true
   },
   "outputs": [],
   "source": []
  }
 ],
 "metadata": {
  "celltoolbar": "Slideshow",
  "kernelspec": {
   "display_name": "Python 2",
   "language": "python",
   "name": "python2"
  },
  "language_info": {
   "codemirror_mode": {
    "name": "ipython",
    "version": 2
   },
   "file_extension": ".py",
   "mimetype": "text/x-python",
   "name": "python",
   "nbconvert_exporter": "python",
   "pygments_lexer": "ipython2",
   "version": "2.7.12"
  },
  "livereveal": {
   "controls": "true",
   "history": "true",
   "mouseWheel": "true",
   "overview": "true",
   "progress": "true",
   "scroll": "true",
   "start_slideshow_at": "selected"
  }
 },
 "nbformat": 4,
 "nbformat_minor": 2
}
