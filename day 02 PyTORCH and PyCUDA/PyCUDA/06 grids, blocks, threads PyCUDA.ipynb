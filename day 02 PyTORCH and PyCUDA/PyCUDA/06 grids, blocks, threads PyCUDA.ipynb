{
 "cells": [
  {
   "cell_type": "markdown",
   "metadata": {},
   "source": [
    "# GPU Computing for Data Scientists\n",
    "## 06\n",
    "#### Using CUDA, Jupyter, PyCUDA, ArrayFire and Thrust\n",
    "\n",
    "\n",
    "https://github.com/QuantScientist/Data-Science-ArrayFire-GPU"
   ]
  },
  {
   "cell_type": "code",
   "execution_count": 1,
   "metadata": {},
   "outputs": [
    {
     "name": "stderr",
     "output_type": "stream",
     "text": [
      "/usr/lib/python2.7/dist-packages/matplotlib/font_manager.py:273: UserWarning: Matplotlib is building the font cache using fc-list. This may take a moment.\n",
      "  warnings.warn('Matplotlib is building the font cache using fc-list. This may take a moment.')\n"
     ]
    },
    {
     "name": "stdout",
     "output_type": "stream",
     "text": [
      "tensorflow:1.2.1\n",
      "MAXCPU:8\n"
     ]
    }
   ],
   "source": [
    "# !pip install pycuda\n",
    "%reset -f\n",
    "import numpy\n",
    "import numpy as np\n",
    "\n",
    "# imports\n",
    "import numpy as np                     # numeric python lib\n",
    "import matplotlib.image as mpimg       # reading images to numpy arrays\n",
    "\n",
    "%matplotlib inline\n",
    "from pylab import rcParams\n",
    "rcParams['figure.figsize'] = (6, 6)      # setting default size of plots\n",
    "\n",
    "import tensorflow as tf \n",
    "print(\"tensorflow:\" + tf.__version__)\n",
    "!set \"KERAS_BACKEND=tensorflow\"\n",
    "\n",
    "import numpy as np\n",
    "import matplotlib.pyplot as plt\n",
    "\n",
    "import cv2\n",
    "import numpy as np\n",
    "\n",
    "import numpy as np\n",
    "import matplotlib.pyplot as plot   # Library to plot\n",
    "import matplotlib.cm as colormap   # Library to plot\n",
    "import caffe\n",
    "from caffe import layers as L\n",
    "from caffe import params as P\n",
    "caffe.set_device(0)\n",
    "caffe.set_mode_gpu()\n",
    "# http://christopher5106.github.io/deep/learning/2015/09/04/Deep-learning-tutorial-on-Caffe-Technology.html\n",
    "import time\n",
    "\n",
    "import multiprocessing\n",
    "import threading\n",
    "import sys\n",
    "import os\n",
    "import time\n",
    "import gc\n",
    "from multiprocessing import Process, Pipe, sharedctypes, Lock\n",
    "from threading import Thread\n",
    "\n",
    "MAXCPU=0\n",
    "try:\n",
    "    MAXCPU = multiprocessing.cpu_count()\n",
    "except:\n",
    "    MAXCPU = 0\n",
    "print 'MAXCPU:' + str(MAXCPU)"
   ]
  },
  {
   "cell_type": "code",
   "execution_count": 2,
   "metadata": {},
   "outputs": [
    {
     "name": "stdout",
     "output_type": "stream",
     "text": [
      "1 device(s) found.\n",
      "Device #0: GeForce GTX 1080\n",
      "<type 'list'>\n",
      "<module 'pycuda.driver' from '/usr/local/lib/python2.7/dist-packages/pycuda/driver.pyc'>\n"
     ]
    }
   ],
   "source": [
    "from pycuda.compiler import SourceModule\n",
    "import pycuda\n",
    "from pycuda import compiler\n",
    "import pycuda.driver as cuda\n",
    "import pycuda.autoinit             # PyCuda autoinit\n",
    "import pycuda.driver as cuda       # PyCuda In, Out helpers\n",
    "import matplotlib.pyplot as plot   # Library to plot\n",
    "import matplotlib.cm as colormap   # Library to plot\n",
    "import numpy                       # Fast math library\n",
    "import time\n",
    "import pycuda.driver as drv\n",
    "drv.init()\n",
    "MAX_THREADS_PER_BLOCK=512 # backward compatible\n",
    "print(\"%d device(s) found.\" % cuda.Device.count())           \n",
    "\n",
    "# All GPU attributes\n",
    "for ordinal in range(drv.Device.count()):\n",
    "    dev = drv.Device(ordinal)    \n",
    "    print \"Device #%d: %s\" % (ordinal, dev.name())   \n",
    "    \n",
    "    atts = [(str(att), value) \n",
    "            for att, value in dev.get_attributes().iteritems()]    \n",
    "    atts.sort    \n",
    "    print type(atts)\n",
    "\n",
    "# MAX_THREADS_PER_BLOCK=filter(lambda s: s == 'MAX_THREADS_PER_BLOCK' , atts) \n",
    "# print 'MAX_THREADS_PER_BLOCK:' + str(MAX_THREADS_PER_BLOCK)\n",
    "    \n",
    "print cuda\n",
    "\n",
    "# Get the max possible therads per block limit\n",
    "# MAX_THREADS_PER_BLOCK"
   ]
  },
  {
   "cell_type": "code",
   "execution_count": 9,
   "metadata": {},
   "outputs": [
    {
     "name": "stdout",
     "output_type": "stream",
     "text": [
      "<pycuda.compiler.SourceModule object at 0x7f58e05846d0>\n",
      "<pycuda._driver.Function object at 0x7f58800c8830>\n"
     ]
    }
   ],
   "source": [
    "#Kernel text\n",
    "kernel = \"\"\"\n",
    " \n",
    " // Block width for CUDA kernels\n",
    "#define BW 128\n",
    "//#include \"opencv2/opencv.hpp\"\n",
    "//#include <cuda_runtime.h>\n",
    "//#include <time.h>\n",
    "    /**\n",
    " * Fills a floating-point array with ones.\n",
    " *\n",
    " * @param vec The array to fill.\n",
    " * @param size The number of elements in the array.\n",
    " */\n",
    "__global__ void FillOnes(float *vec, int size)\n",
    "{\n",
    "    int idx = blockIdx.x * blockDim.x + threadIdx.x;\n",
    "    if (idx >= size)\n",
    "        return;\n",
    "\n",
    "    vec[idx] = 1.0f;\n",
    "}   \n",
    "    \"\"\"\n",
    " \n",
    "#Compile and get kernel function\n",
    "mod = SourceModule(kernel)\n",
    "print mod\n",
    "func = mod.get_function(\"FillOnes\")\n",
    "print func"
   ]
  },
  {
   "cell_type": "code",
   "execution_count": 41,
   "metadata": {
    "collapsed": true
   },
   "outputs": [],
   "source": [
    "import PIL\n",
    "from PIL import Image as PILImage\n",
    "\n",
    "def filterImageOnGPU(inPath, filterFunc):              \n",
    "    im = PILImage.open(inPath)            \n",
    "    px = numpy.array(im).astype(numpy.float32)\n",
    "        \n",
    "    print 'Size:' + str(im.size)\n",
    "    print 'Pixels:' + str (im.size[0]*im.size[1])\n",
    "    \n",
    "    d_px = cuda.mem_alloc(px.nbytes)\n",
    "    cuda.memcpy_htod(d_px, px)\n",
    "      \n",
    "    BLOCK_SIZE = 1024\n",
    "    block = (BLOCK_SIZE,1,1)\n",
    "    print ('Block:' + str (block))\n",
    "    totalPixels = numpy.int32(im.size[0]*im.size[1])\n",
    "    print ('TotalPixels:' + str (totalPixels))\n",
    "    gridRounded=int(im.size[0]*im.size[1]/BLOCK_SIZE)+1\n",
    "    print ('GridRounded:' + str (gridRounded))\n",
    "    print ('BLOCK_SIZE * GridRounded:' + str (gridRounded*BLOCK_SIZE))\n",
    "    grid = (gridRounded,1,1)\n",
    "    print ('Grid:' + str (grid))\n",
    "   \n",
    "    filterFunc(d_px,totalPixels, block=block,grid = grid)\n",
    "   \n",
    "    bwPx = numpy.empty_like(px)\n",
    "    cuda.memcpy_dtoh(bwPx, d_px)\n",
    "    # On monochrome images, Pixels are uint8 [0,255].    \n",
    "#     numpy.clip(bwPx, 0, 255, out=bwPx)\n",
    "#     bwPx = bwPx.astype('uint8')\n",
    "    bwPx = (numpy.uint8(bwPx))       \n",
    "    pil_im = PILImage.fromarray(bwPx,mode =\"RGB\")           \n",
    "    return pil_im"
   ]
  },
  {
   "cell_type": "code",
   "execution_count": 42,
   "metadata": {},
   "outputs": [
    {
     "name": "stdout",
     "output_type": "stream",
     "text": [
      "Size:(10700, 7600)\n",
      "Pixels:81320000\n",
      "Block:(1024, 1, 1)\n",
      "TotalPixels:81320000\n",
      "GridRounded:79415\n",
      "BLOCK_SIZE * GridRounded:81320960\n",
      "Grid:(79415, 1, 1)\n"
     ]
    },
    {
     "name": "stderr",
     "output_type": "stream",
     "text": [
      "IOPub data rate exceeded.\n",
      "The notebook server will temporarily stop sending output\n",
      "to the client in order to avoid crashing it.\n",
      "To change this limit, set the config variable\n",
      "`--NotebookApp.iopub_data_rate_limit`.\n"
     ]
    },
    {
     "data": {
      "text/plain": [
       "<matplotlib.figure.Figure at 0x7fefb972e2d0>"
      ]
     },
     "metadata": {},
     "output_type": "display_data"
    }
   ],
   "source": [
    "figure = plot.figure()\n",
    "figure.set_size_inches(10, 10)\n",
    "filterImageOnGPU('images/nematode.jpg',func)"
   ]
  },
  {
   "cell_type": "code",
   "execution_count": null,
   "metadata": {
    "collapsed": true
   },
   "outputs": [],
   "source": [
    ""
   ]
  }
 ],
 "metadata": {
  "kernelspec": {
   "display_name": "Python 2",
   "language": "python",
   "name": "python2"
  },
  "language_info": {
   "codemirror_mode": {
    "name": "ipython",
    "version": 2.0
   },
   "file_extension": ".py",
   "mimetype": "text/x-python",
   "name": "python",
   "nbconvert_exporter": "python",
   "pygments_lexer": "ipython2",
   "version": "2.7.12"
  }
 },
 "nbformat": 4,
 "nbformat_minor": 0
}