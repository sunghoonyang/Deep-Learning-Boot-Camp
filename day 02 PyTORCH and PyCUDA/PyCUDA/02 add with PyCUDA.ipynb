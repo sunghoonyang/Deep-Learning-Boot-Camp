{
 "cells": [
  {
   "cell_type": "markdown",
   "metadata": {},
   "source": [
    "# GPU Computing for Data Scientists\n",
    "#### Using CUDA, Jupyter, PyCUDA, ArrayFire and Thrust\n",
    "\n",
    "\n",
    "https://github.com/QuantScientist/Data-Science-ArrayFire-GPU"
   ]
  },
  {
   "cell_type": "code",
   "execution_count": 6,
   "metadata": {},
   "outputs": [
    {
     "name": "stdout",
     "output_type": "stream",
     "text": [
      "\n"
     ]
    }
   ],
   "source": [
    "%reset -f\n",
    "import pycuda\n",
    "from pycuda import compiler\n",
    "import pycuda.driver as drv\n",
    "import pycuda.driver as cuda"
   ]
  },
  {
   "cell_type": "markdown",
   "metadata": {},
   "source": [
    "# Make sure we have CUDA"
   ]
  },
  {
   "cell_type": "code",
   "execution_count": 7,
   "metadata": {},
   "outputs": [
    {
     "name": "stdout",
     "output_type": "stream",
     "text": [
      "1 device(s) found.\n",
      "Device #0: GeForce GTX 1080\n"
     ]
    },
    {
     "data": {
      "text/plain": [
       "<module 'pycuda.driver' from '/usr/local/lib/python2.7/dist-packages/pycuda/driver.pyc'>"
      ]
     },
     "execution_count": 7,
     "metadata": {},
     "output_type": "execute_result"
    }
   ],
   "source": [
    "drv.init()\n",
    "print(\"%d device(s) found.\" % drv.Device.count())           \n",
    "for ordinal in range(drv.Device.count()):\n",
    "    dev = drv.Device(ordinal)\n",
    "    print \"Device #%d: %s\" % (ordinal, dev.name())    \n",
    "\n",
    "drv"
   ]
  },
  {
   "cell_type": "markdown",
   "metadata": {
    "collapsed": true
   },
   "source": [
    "## Simple addition the GPU: compilation"
   ]
  },
  {
   "cell_type": "code",
   "execution_count": 8,
   "metadata": {},
   "outputs": [
    {
     "name": "stdout",
     "output_type": "stream",
     "text": [
      "<pycuda.compiler.SourceModule object at 0x7f8b08036890>\n"
     ]
    }
   ],
   "source": [
    "import pycuda.autoinit\n",
    "import numpy\n",
    "\n",
    "from pycuda.compiler import SourceModule\n",
    "\n",
    "srcGPU = \"\"\"\n",
    "    #include <stdio.h>\n",
    "   __global__ void multGPU(float *dest, float *a, float *b)\n",
    "{\n",
    "  const int i = threadIdx.x;  \n",
    "  dest[i] = a[i] * b[i];\n",
    "  //dest[i] = threadIdx.x + threadIdx.y + blockDim.x;\n",
    "  //dest[i] = blockDim.x;\n",
    "  //printf(\"I am %d.%d\\\\n\", threadIdx.x, threadIdx.y);\n",
    "  \n",
    "}\n",
    "\"\"\"\n",
    "\n",
    "srcGPUModule = SourceModule(srcGPU)\n",
    "\n",
    "print srcGPUModule"
   ]
  },
  {
   "cell_type": "markdown",
   "metadata": {},
   "source": [
    "# Simple addition on the GPU: Host memory allocation"
   ]
  },
  {
   "cell_type": "code",
   "execution_count": 9,
   "metadata": {
    "collapsed": true
   },
   "outputs": [],
   "source": [
    "ARR_SIZE=16\n",
    "\n",
    "a = numpy.random.randn(ARR_SIZE).astype(numpy.float32)\n",
    "a=numpy.ones_like(a)*3\n",
    "b = numpy.random.randn(ARR_SIZE).astype(numpy.float32)\n",
    "b=numpy.ones_like(b)*2\n",
    "\n",
    "dest = numpy.zeros_like(a)\n",
    "# print dest"
   ]
  },
  {
   "cell_type": "markdown",
   "metadata": {},
   "source": [
    "## Simple addition on the GPU: execution"
   ]
  },
  {
   "cell_type": "code",
   "execution_count": 10,
   "metadata": {},
   "outputs": [
    {
     "name": "stdout",
     "output_type": "stream",
     "text": [
      "<pycuda._driver.Function object at 0x7f8b0807af80>\n",
      "[ 6.  6.  6.  6.  6.  6.  6.  6.  6.  6.  6.  6.  6.  6.  6.  6.]\n"
     ]
    }
   ],
   "source": [
    "multGPUFunc = srcGPUModule.get_function(\"multGPU\")\n",
    "\n",
    "print multGPUFunc\n",
    "\n",
    "multGPUFunc(drv.Out(dest), drv.In(a), drv.In(b),\n",
    "                                          block=(ARR_SIZE,32,1))\n",
    "print dest"
   ]
  },
  {
   "cell_type": "code",
   "execution_count": 11,
   "metadata": {},
   "outputs": [
    {
     "name": "stdout",
     "output_type": "stream",
     "text": [
      "pycuda 0.00136208534241\n",
      "npy 9.05990600586e-06\n"
     ]
    }
   ],
   "source": [
    "# print \"Calculating %d iterations\" % (n_iter)\n",
    "import timeit\n",
    "\n",
    "rounds =3\n",
    "print 'pycuda', timeit.timeit(lambda: \n",
    "                              multGPUFunc(drv.Out(dest), drv.In(a), drv.In(b),\n",
    "                                          grid=(ARR_SIZE,1,1), \n",
    "                                          block=(1,1,1)), \n",
    "                              number=rounds)\n",
    "# print dest\n",
    "\n",
    "# print 'pycuda', timeit.timeit(lambda: \n",
    "#                               multGPUFunc(drv.Out(dest), drv.In(a), drv.In(b),                                          \n",
    "#                                           block=(ARR_SIZE,1,1)), \n",
    "#                               number=rounds)\n",
    "\n",
    "# print dest\n",
    "\n",
    "\n",
    "print 'npy', timeit.timeit(lambda:a*b , \n",
    "                              number=rounds)"
   ]
  },
  {
   "cell_type": "markdown",
   "metadata": {},
   "source": [
    "# Threads and Blocks"
   ]
  },
  {
   "cell_type": "code",
   "execution_count": 12,
   "metadata": {},
   "outputs": [
    {
     "name": "stdout",
     "output_type": "stream",
     "text": [
      "[[ 2.  2.  2.  2.]\n",
      " [ 2.  2.  2.  2.]\n",
      " [ 2.  2.  2.  2.]\n",
      " [ 2.  2.  2.  2.]]\n"
     ]
    }
   ],
   "source": [
    "a = numpy.random.randn(4,4)\n",
    "a=numpy.ones_like(a)\n",
    "a = a.astype(numpy.float32)\n",
    "\n",
    "a_gpu = cuda.mem_alloc(a.nbytes)\n",
    "\n",
    "cuda.memcpy_htod(a_gpu, a)\n",
    "\n",
    "mod = SourceModule(\"\"\"\n",
    "    #include <stdio.h>\n",
    "  __global__ void doublify(float *a)\n",
    "  {\n",
    "    int idx = threadIdx.x + threadIdx.y*4;\n",
    "    a[idx] *= 2;\n",
    "    //printf(\"I am %d.%d\\\\n\", threadIdx.x, threadIdx.y);\n",
    "    \n",
    "    printf(\"I am %dth thread in threadIdx.x:%d.threadIdx.y:%d  blockIdx.:%d blockIdx.y:%d blockDim.x:%d blockDim.y:%d\\\\n\",(threadIdx.x+threadIdx.y*blockDim.x+(blockIdx.x*blockDim.x*blockDim.y)+(blockIdx.y*blockDim.x*blockDim.y)),threadIdx.x, threadIdx.y,blockIdx.x,blockIdx.y,blockDim.x,blockDim.y);    \n",
    "  }\n",
    "  \"\"\")\n",
    "  \n",
    "func = mod.get_function(\"doublify\")\n",
    "func(a_gpu, block=(16,1,1))\n",
    "\n",
    "a_doubled = numpy.empty_like(a)\n",
    "cuda.memcpy_dtoh(a_doubled, a_gpu)\n",
    "print a_doubled"
   ]
  },
  {
   "cell_type": "markdown",
   "metadata": {
    "collapsed": true
   },
   "source": [
    "[block]"
   ]
  },
  {
   "cell_type": "markdown",
   "metadata": {
    "collapsed": true
   },
   "source": [
    "![blocks](images/blocks.png)"
   ]
  },
  {
   "cell_type": "code",
   "execution_count": null,
   "metadata": {
    "collapsed": true
   },
   "outputs": [],
   "source": [
    ""
   ]
  },
  {
   "cell_type": "code",
   "execution_count": null,
   "metadata": {
    "collapsed": true
   },
   "outputs": [],
   "source": [
    ""
   ]
  }
 ],
 "metadata": {
  "kernelspec": {
   "display_name": "Python 2",
   "language": "python",
   "name": "python2"
  },
  "language_info": {
   "codemirror_mode": {
    "name": "ipython",
    "version": 2.0
   },
   "file_extension": ".py",
   "mimetype": "text/x-python",
   "name": "python",
   "nbconvert_exporter": "python",
   "pygments_lexer": "ipython2",
   "version": "2.7.12"
  }
 },
 "nbformat": 4,
 "nbformat_minor": 0
}