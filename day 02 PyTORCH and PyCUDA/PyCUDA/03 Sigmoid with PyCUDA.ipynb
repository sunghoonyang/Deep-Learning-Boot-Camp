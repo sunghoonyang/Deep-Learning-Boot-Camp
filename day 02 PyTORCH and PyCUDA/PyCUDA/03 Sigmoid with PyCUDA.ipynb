{
 "cells": [
  {
   "cell_type": "markdown",
   "metadata": {},
   "source": [
    "# GPU Computing for Data Scientists\n",
    "#### Using CUDA, Jupyter, PyCUDA, ArrayFire and Thrust\n",
    "\n",
    "\n",
    "https://github.com/QuantScientist/Data-Science-ArrayFire-GPU"
   ]
  },
  {
   "cell_type": "code",
   "execution_count": 1,
   "metadata": {},
   "outputs": [
    {
     "name": "stdout",
     "output_type": "stream",
     "text": [
      "1 device(s) found.\n",
      "Device #0: GeForce GTX 1080\n",
      "<module 'pycuda.driver' from '/usr/local/lib/python2.7/dist-packages/pycuda/driver.pyc'>\n"
     ]
    }
   ],
   "source": [
    "# !pip install pycuda\n",
    "%reset -f\n",
    "import pycuda\n",
    "from pycuda import compiler\n",
    "import pycuda.driver as cuda\n",
    "import numpy\n",
    "import numpy as np\n",
    "\n",
    "from pycuda.compiler import SourceModule\n",
    "\n",
    "cuda.init()\n",
    "print(\"%d device(s) found.\" % cuda.Device.count())           \n",
    "for ordinal in range(cuda.Device.count()):\n",
    "    dev = cuda.Device(ordinal)\n",
    "    print \"Device #%d: %s\" % (ordinal, dev.name())    \n",
    "\n",
    "print cuda"
   ]
  },
  {
   "cell_type": "markdown",
   "metadata": {
    "collapsed": true
   },
   "source": [
    "## Sigmoid on the GPU"
   ]
  },
  {
   "cell_type": "code",
   "execution_count": 2,
   "metadata": {},
   "outputs": [
    {
     "name": "stdout",
     "output_type": "stream",
     "text": [
      "200000\n"
     ]
    }
   ],
   "source": [
    "import pycuda.autoinit\n",
    "\n",
    "# a = np.random.uniform(low=1, high=20, size=(10,))\n",
    "\n",
    "# a = numpy.random.randn(1,9)\n",
    "a = np.arange(-100000, 100000, 1)\n",
    "a = a.astype(numpy.float32)\n",
    "# print a\n",
    "\n",
    "\n",
    "ARR_SIZE = numpy.int32(a.shape[-1])\n",
    "print ARR_SIZE \n",
    "\n",
    "a_gpu = cuda.mem_alloc(a.nbytes)\n",
    "xout_gpu = cuda.mem_alloc(a.nbytes)\n",
    "\n",
    "cuda.memcpy_htod(a_gpu, a)\n",
    "xout_gpu=cuda.mem_alloc_like(a)\n",
    "# size_gpu=cuda.mem_alloc_like(size)\n",
    "\n",
    "mod = SourceModule(\"\"\"  \n",
    "  \n",
    "  __global__ void sigmoid(float* a, float* b, int size)\n",
    "    {\n",
    "        int index = blockDim.x * blockIdx.x + threadIdx.x;\n",
    "        if (index < size)\n",
    "            b[index] = 1.0f / (1.0f + exp(-1.0f * a[index]));\n",
    "    }\n",
    "  \"\"\")\n",
    "\n",
    "# s_gpu=size.astype(numpy.int32)\n",
    "\n",
    "func = mod.get_function(\"sigmoid\")\n",
    "\n",
    "\n",
    "def sigmoidGPU():\n",
    "    func(a_gpu, xout_gpu,ARR_SIZE, block=(20,1,1))\n",
    "    a_sigmoid = numpy.empty_like(a)\n",
    "    cuda.memcpy_dtoh(a_sigmoid, xout_gpu)\n",
    "    return a_sigmoid\n",
    "\n",
    "# print sigmoidGPU()\n",
    "\n",
    "from scipy.special import expit\n",
    "y = expit(a)\n",
    "# print (\"__________________________________\")\n",
    "# print y"
   ]
  },
  {
   "cell_type": "code",
   "execution_count": 3,
   "metadata": {},
   "outputs": [
    {
     "name": "stderr",
     "output_type": "stream",
     "text": [
      "/usr/lib/python2.7/dist-packages/matplotlib/font_manager.py:273: UserWarning: Matplotlib is building the font cache using fc-list. This may take a moment.\n",
      "  warnings.warn('Matplotlib is building the font cache using fc-list. This may take a moment.')\n",
      "/usr/lib/python2.7/dist-packages/matplotlib/axes/_axes.py:519: UserWarning: No labelled objects found. Use label='...' kwarg on individual plots.\n",
      "  warnings.warn(\"No labelled objects found. \"\n"
     ]
    },
    {
     "data": {
      "image/png": "[encoded data removed]",
      "text/plain": [
       "<matplotlib.figure.Figure at 0x7f37ec070f50>"
      ]
     },
     "metadata": {},
     "output_type": "display_data"
    }
   ],
   "source": [
    "import matplotlib.pyplot as plt\n",
    "\n",
    "plt.plot(a,y)\n",
    "plt.text(4,0.8,r'$\\sigma(x)=\\frac{1}{1+e^{-x}}$',fontsize=15)\n",
    "plt.legend(loc='lower right')\n",
    "plt.show()"
   ]
  },
  {
   "cell_type": "code",
   "execution_count": 4,
   "metadata": {},
   "outputs": [
    {
     "name": "stdout",
     "output_type": "stream",
     "text": [
      "numpy 1.9515209198\n"
     ]
    }
   ],
   "source": [
    "import timeit\n",
    "n_iter = ARR_SIZE\n",
    "rounds = 1000  # for timeit\n",
    "\n",
    "print 'numpy', timeit.timeit(lambda: \n",
    "                              expit(a), \n",
    "                              number=rounds)"
   ]
  },
  {
   "cell_type": "code",
   "execution_count": 5,
   "metadata": {},
   "outputs": [
    {
     "name": "stdout",
     "output_type": "stream",
     "text": [
      "pycuda 0.14006114006\n"
     ]
    }
   ],
   "source": [
    "print 'pycuda', timeit.timeit(lambda: \n",
    "                              sigmoidGPU(), \n",
    "                              number=rounds)"
   ]
  },
  {
   "cell_type": "code",
   "execution_count": null,
   "metadata": {
    "collapsed": true
   },
   "outputs": [],
   "source": [
    ""
   ]
  },
  {
   "cell_type": "code",
   "execution_count": null,
   "metadata": {
    "collapsed": true
   },
   "outputs": [],
   "source": [
    ""
   ]
  },
  {
   "cell_type": "code",
   "execution_count": null,
   "metadata": {
    "collapsed": true
   },
   "outputs": [],
   "source": [
    ""
   ]
  }
 ],
 "metadata": {
  "kernelspec": {
   "display_name": "Python 2",
   "language": "python",
   "name": "python2"
  },
  "language_info": {
   "codemirror_mode": {
    "name": "ipython",
    "version": 2.0
   },
   "file_extension": ".py",
   "mimetype": "text/x-python",
   "name": "python",
   "nbconvert_exporter": "python",
   "pygments_lexer": "ipython2",
   "version": "2.7.12"
  }
 },
 "nbformat": 4,
 "nbformat_minor": 0
}