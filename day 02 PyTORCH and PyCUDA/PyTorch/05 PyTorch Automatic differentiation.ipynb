{
 "cells": [
  {
   "cell_type": "markdown",
   "metadata": {},
   "source": [
    "# 05 PyTorch Automatic differentiation\n"
   ]
  },
  {
   "cell_type": "code",
   "execution_count": 1,
   "metadata": {
    "collapsed": true
   },
   "outputs": [],
   "source": [
    "% reset -f\n",
    "from __future__ import print_function\n",
    "from __future__ import division\n",
    "import math\n",
    "import numpy as np\n",
    "import matplotlib.pyplot as plt\n",
    "%matplotlib inline"
   ]
  },
  {
   "cell_type": "code",
   "execution_count": 1,
   "metadata": {},
   "outputs": [
    {
     "name": "stdout",
     "output_type": "stream",
     "text": [
      "('__Python VERSION:', '2.7.12 (default, Nov 19 2016, 06:48:10) \\n[GCC 5.4.0 20160609]')\n",
      "('__pyTorch VERSION:', '0.1.12+4eb448a')\n",
      "__CUDA VERSION\n",
      "nvcc: NVIDIA (R) Cuda compiler driver\n",
      "Copyright (c) 2005-2016 NVIDIA Corporation\n",
      "Built on Tue_Jan_10_13:22:03_CST_2017\n",
      "Cuda compilation tools, release 8.0, V8.0.61\n",
      "('__CUDNN VERSION:', 5110)\n",
      "('__Number CUDA Devices:', 1L)\n",
      "__Devices\n",
      "('Active CUDA Device: GPU', 0L)\n",
      "('Available devices ', 1L)\n",
      "('Current cuda device ', 0L)\n"
     ]
    }
   ],
   "source": [
    "import torch\n",
    "import sys\n",
    "print('__Python VERSION:', sys.version)\n",
    "print('__pyTorch VERSION:', torch.__version__)\n",
    "print('__CUDA VERSION')\n",
    "from subprocess import call\n",
    "# call([\"nvcc\", \"--version\"]) does not work\n",
    "! nvcc --version\n",
    "print('__CUDNN VERSION:', torch.backends.cudnn.version())\n",
    "print('__Number CUDA Devices:', torch.cuda.device_count())\n",
    "print('__Devices')\n",
    "call([\"nvidia-smi\", \"--format=csv\", \"--query-gpu=index,name,driver_version,memory.total,memory.used,memory.free\"])\n",
    "print('Active CUDA Device: GPU', torch.cuda.current_device())\n",
    "\n",
    "print ('Available devices ', torch.cuda.device_count())\n",
    "print ('Current cuda device ', torch.cuda.current_device())\n",
    "\n",
    "\n",
    "import numpy as np\n",
    "import torch.cuda as cu\n",
    "import contextlib\n",
    "import time\n",
    "    \n",
    "# Timing helper with CUDA synchonization\n",
    "@contextlib.contextmanager\n",
    "def timing(name):\n",
    "    cu.synchronize()\n",
    "    start_time = time.time()\n",
    "    yield\n",
    "    cu.synchronize()\n",
    "    end_time = time.time()\n",
    "    print ('{} {:6.3f} seconds'.format(name, end_time-start_time))\n"
   ]
  },
  {
   "cell_type": "code",
   "execution_count": 3,
   "metadata": {},
   "outputs": [
    {
     "name": "stdout",
     "output_type": "stream",
     "text": [
      "shape (2097152,), 16.0 MB\n",
      "from_numpy sent to GPU       0.002 seconds\n",
      "CPU constructor              0.054 seconds\n",
      "CPU constructor sent to GPU  0.054 seconds\n",
      "GPU constructor              0.054 seconds\n",
      "\n"
     ]
    }
   ],
   "source": [
    "        \n",
    "for shape in [(128**3,)]:\n",
    "    print ('shape {}, {:.1f} MB'.format(shape, np.zeros(shape).nbytes/1024.**2))\n",
    "\n",
    "    with timing('from_numpy sent to GPU     '): torch.from_numpy (np.zeros(shape)).cuda()\n",
    "    with timing('CPU constructor            '): torch.FloatTensor(np.zeros(shape))\n",
    "    with timing('CPU constructor sent to GPU'): torch.FloatTensor(np.zeros(shape)).cuda()\n",
    "    with timing('GPU constructor            '): cu.   FloatTensor(np.zeros(shape))\n",
    "    print\n",
    "    \n",
    "  "
   ]
  },
  {
   "cell_type": "code",
   "execution_count": null,
   "metadata": {
    "collapsed": true
   },
   "outputs": [],
   "source": []
  }
 ],
 "metadata": {
  "kernelspec": {
   "display_name": "Python 2",
   "language": "python",
   "name": "python2"
  },
  "language_info": {
   "codemirror_mode": {
    "name": "ipython",
    "version": 2
   },
   "file_extension": ".py",
   "mimetype": "text/x-python",
   "name": "python",
   "nbconvert_exporter": "python",
   "pygments_lexer": "ipython2",
   "version": "2.7.12"
  }
 },
 "nbformat": 4,
 "nbformat_minor": 1
}
