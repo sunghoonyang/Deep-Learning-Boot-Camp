{
 "cells": [
  {
   "cell_type": "markdown",
   "metadata": {
    "collapsed": true,
    "slideshow": {
     "slide_type": "slide"
    }
   },
   "source": [
    "# PyTorch Imports\n",
    "\n",
    "- Data from \n"
   ]
  },
  {
   "cell_type": "code",
   "execution_count": 128,
   "metadata": {
    "slideshow": {
     "slide_type": "-"
    }
   },
   "outputs": [
    {
     "name": "stdout",
     "output_type": "stream",
     "text": [
      "tensorflow:1.2.1\n",
      "__Python VERSION: 2.7.6 (default, Oct 26 2016, 20:30:19) \n",
      "[GCC 4.8.4]\n",
      "__pyTorch VERSION: 0.2.0_1\n",
      "__CUDA VERSION\n",
      "__CUDNN VERSION: 6021\n",
      "__Number CUDA Devices: 0\n",
      "__Devices\n"
     ]
    }
   ],
   "source": [
    "# !pip install pycuda\n",
    "%reset -f\n",
    "import numpy\n",
    "import numpy as np\n",
    "from __future__ import print_function\n",
    "from __future__ import division\n",
    "import math\n",
    "import numpy as np\n",
    "import matplotlib.pyplot as plt\n",
    "%matplotlib inline\n",
    "import pandas as pd\n",
    "import os\n",
    "import torch\n",
    "from torch.utils.data.dataset import Dataset\n",
    "from torch.utils.data import DataLoader\n",
    "from torchvision import transforms\n",
    "from torch import nn\n",
    "import torch.nn.functional as F\n",
    "import torch.optim as optim\n",
    "from torch.autograd import Variable\n",
    "from sklearn.preprocessing import MultiLabelBinarizer\n",
    "import time\n",
    "%matplotlib inline\n",
    "from pylab import rcParams\n",
    "rcParams['figure.figsize'] = (6, 6)      # setting default size of plots\n",
    "import tensorflow as tf \n",
    "print(\"tensorflow:\" + tf.__version__)\n",
    "!set \"KERAS_BACKEND=tensorflow\"\n",
    "import torch\n",
    "import sys\n",
    "print('__Python VERSION:', sys.version)\n",
    "print('__pyTorch VERSION:', torch.__version__)\n",
    "print('__CUDA VERSION')\n",
    "from subprocess import call\n",
    "print('__CUDNN VERSION:', torch.backends.cudnn.version())\n",
    "print('__Number CUDA Devices:', torch.cuda.device_count())\n",
    "print('__Devices')\n",
    "# !pip install http://download.pytorch.org/whl/cu75/torch-0.2.0.post1-cp27-cp27mu-manylinux1_x86_64.whl\n",
    "# !pip install torchvision \n",
    "# ! pip install cv2\n",
    "# import cv2\n",
    "import logging\n",
    "handler=logging.basicConfig(level=logging.INFO)\n",
    "lgr = logging.getLogger(__name__)\n"
   ]
  },
  {
   "cell_type": "code",
   "execution_count": 129,
   "metadata": {},
   "outputs": [],
   "source": [
    "# Torch CPU\n",
    "# !pip install http://download.pytorch.org/whl/cu75/torch-0.2.0.post1-cp27-cp27mu-manylinux1_x86_64.whl\n",
    "# !pip install torchvision \n",
    "\n",
    "# !pip install --upgrade http://download.pytorch.org/whl/cu75/torch-0.2.0.post1-cp27-cp27mu-manylinux1_x86_64.whl\n",
    "# !pip install --upgrade torchvision "
   ]
  },
  {
   "cell_type": "markdown",
   "metadata": {
    "collapsed": true,
    "slideshow": {
     "slide_type": "slide"
    }
   },
   "source": [
    "## CUDA Trick"
   ]
  },
  {
   "cell_type": "code",
   "execution_count": 130,
   "metadata": {
    "collapsed": true
   },
   "outputs": [],
   "source": [
    "use_cuda = torch.cuda.is_available()\n",
    "# use_cuda = False\n",
    "\n",
    "FloatTensor = torch.cuda.FloatTensor if use_cuda else torch.FloatTensor\n",
    "LongTensor = torch.cuda.LongTensor if use_cuda else torch.LongTensor\n",
    "Tensor = FloatTensor"
   ]
  },
  {
   "cell_type": "markdown",
   "metadata": {
    "collapsed": true,
    "slideshow": {
     "slide_type": "slide"
    }
   },
   "source": [
    "# Setting up global variables\n",
    "\n",
    "- Root folder\n",
    "- Image folder\n",
    "- Image Label folder"
   ]
  },
  {
   "cell_type": "code",
   "execution_count": 131,
   "metadata": {},
   "outputs": [
    {
     "name": "stdout",
     "output_type": "stream",
     "text": [
      "Filesystem                                                                1K-blocks       Used  Available Use% Mounted on\r\n",
      "none                                                                      516021104  223924140  271026624  46% /\r\n",
      "tmpfs                                                                     258004476          0  258004476   0% /dev\r\n",
      "tmpfs                                                                     258004476          0  258004476   0% /sys/fs/cgroup\r\n",
      "netstore2:/vol/dev_vol/users/skashan/dev/cto-gamma_2472/CTO/data-science 1288490240 1013048512  275441728  79% /root/sharedfolder\r\n",
      "netstore2:/vol/CTO_VOL/data                                              6222333888  110015296 6112318592   2% /root/data\r\n",
      "/dev/vda1                                                                 516021104  223924140  271026624  46% /etc/postgresql\r\n",
      "shm                                                                           65536       2800      62736   5% /dev/shm\r\n",
      "tmpfs                                                                     258004476          0  258004476   0% /sys/firmware\r\n"
     ]
    }
   ],
   "source": [
    "! df -k\n",
    "\n",
    "DATA_ROOT ='/root/data/cifar/'\n",
    "IMG_PATH = DATA_ROOT + '/train/'\n",
    "IMG_EXT = '.png'\n",
    "IMG_DATA_LABELS = DATA_ROOT + '/trainLabels.csv'\n",
    "\n",
    "classes = ('plane', 'car', 'bird', 'cat',\n",
    "           'deer', 'dog', 'frog', 'horse', 'ship', 'truck')"
   ]
  },
  {
   "cell_type": "markdown",
   "metadata": {
    "collapsed": true,
    "slideshow": {
     "slide_type": "slide"
    }
   },
   "source": [
    "# The Torch Dataset Class"
   ]
  },
  {
   "cell_type": "code",
   "execution_count": 132,
   "metadata": {
    "collapsed": true,
    "slideshow": {
     "slide_type": "-"
    }
   },
   "outputs": [],
   "source": [
    "try:\n",
    "    from PIL import Image\n",
    "except ImportError:\n",
    "    import Image\n",
    "\n",
    "from sklearn.preprocessing import LabelEncoder\n",
    "from sklearn.pipeline import Pipeline\n",
    "from collections import defaultdict\n",
    "\n",
    "\n",
    "class GenericImageDataset(Dataset):    \n",
    "    def __init__(self, csv_path, img_path, img_ext, transform=None):                \n",
    "        t = time.time()        \n",
    "        lgr.info('CSV path {}'.format(csv_path))\n",
    "        lgr.info('IMG path {}'.format(img_path))                \n",
    "        assert img_ext in ['.png']\n",
    "        \n",
    "        self.transform=transform\n",
    "        tmp_df = pd.read_csv(csv_path, header=None) # I manually removed the header\n",
    "        \n",
    "        self.img_path = img_path\n",
    "        self.img_ext = img_ext        \n",
    "        \n",
    "        # Encoding the variables\n",
    "        d = defaultdict(LabelEncoder)\n",
    "        tmp_df = tmp_df.apply(lambda x: d[x.name].fit_transform(x))\n",
    "        \n",
    "        lgr.info(\"DF CSV:\\n\" + str (tmp_df.head(5)))\n",
    "            \n",
    "        self.X_train = tmp_df[0]                \n",
    "        self.y_train = tmp_df[1]\n",
    "        \n",
    "        lgr.info(\"DF X_train:\\n\" + str (self.X_train.head(5)))\n",
    "        lgr.info (\"DF y_train:\\n\" + str(self.y_train.head(5)))        \n",
    "        lgr.info('[*] Dataset loading time {}'.format(time.time() - t))\n",
    "        lgr.info('[*] Data size is {}'.format(len(self)))\n",
    "\n",
    "    def __getitem__(self, index):\n",
    "        \n",
    "        path=self.img_path + str(self.X_train[index]) + self.img_ext            \n",
    "        img = Image.open(path)\n",
    "        if self.transform is not None:                                     \n",
    "            img = self.transform(img)            \n",
    "#         label = self.y_train[index]\n",
    "        label = (self.y_train[index])\n",
    "#         lgr.info (\"__getitem__:\" + str(index) + \" Label:\" + str(label))\n",
    "        return img, label\n",
    "\n",
    "    def __len__(self):\n",
    "        l=len(self.X_train.index)\n",
    "        return (l)       \n",
    "\n",
    "    @staticmethod        \n",
    "    def imshow(img):\n",
    "        img = img / 2 + 0.5     # unnormalize\n",
    "        npimg = img.numpy()\n",
    "        plt.imshow(np.transpose(npimg, (1, 2, 0)))\n",
    "\n",
    "    @staticmethod    \n",
    "    def flaotTensorToImage(img, mean=0, std=1):\n",
    "        \"\"\"convert a tensor to an image\"\"\"\n",
    "        img = np.transpose(img.numpy(), (1, 2, 0))\n",
    "        img = (img*std+ mean)*255\n",
    "        img = img.astype(np.uint8)    \n",
    "        return img    \n",
    "    \n",
    "    @staticmethod\n",
    "    def toTensor(img):\n",
    "        \"\"\"convert a numpy array of shape HWC to CHW tensor\"\"\"\n",
    "        img = img.transpose((2, 0, 1)).astype(np.float32)\n",
    "        tensor = torch.from_numpy(img).float()\n",
    "        return tensor/255.0"
   ]
  },
  {
   "cell_type": "markdown",
   "metadata": {
    "collapsed": true,
    "slideshow": {
     "slide_type": "slide"
    }
   },
   "source": [
    "# The Torch transforms.ToTensor() methood\n",
    "\n",
    "- Converts: a PIL.Image or numpy.ndarray (H x W x C) in the range [0, 255] to a torch.FloatTensor of shape (C x H x W) in the range [0.0, 1.0]."
   ]
  },
  {
   "cell_type": "code",
   "execution_count": 133,
   "metadata": {
    "collapsed": true
   },
   "outputs": [],
   "source": [
    "# transformations = transforms.Compose([transforms.ToTensor()])\n",
    "transformations = transforms.Compose([transforms.Scale(32),transforms.ToTensor()])\n",
    "\n",
    "transformations=transforms.Compose([transforms.ToTensor(),\n",
    "                              transforms.Normalize((0.5, 0.5, 0.5), (0.5, 0.5, 0.5)),\n",
    "                             ])\n",
    "\n",
    "# transformations=transforms.Compose([transforms.Scale(32), transforms.ToTensor(), # first, convert image to PyTorch tensor\n",
    "# transforms.Normalize((0.1307,), (0.3081,)) # normalize inputs\n",
    "#                                                           ]) "
   ]
  },
  {
   "cell_type": "code",
   "execution_count": 134,
   "metadata": {
    "slideshow": {
     "slide_type": "-"
    }
   },
   "outputs": [
    {
     "name": "stderr",
     "output_type": "stream",
     "text": [
      "INFO:__main__:CSV path /root/data/cifar//trainLabels.csv\n",
      "INFO:__main__:IMG path /root/data/cifar//train/\n",
      "INFO:__main__:DF CSV:\n",
      "   0  1\n",
      "0  0  6\n",
      "1  1  6\n",
      "2  2  9\n",
      "3  3  9\n",
      "4  4  4\n",
      "INFO:__main__:DF X_train:\n",
      "0    0\n",
      "1    1\n",
      "2    2\n",
      "3    3\n",
      "4    4\n",
      "Name: 0, dtype: int64\n",
      "INFO:__main__:DF y_train:\n",
      "0    6\n",
      "1    6\n",
      "2    9\n",
      "3    9\n",
      "4    4\n",
      "Name: 1, dtype: int64\n",
      "INFO:__main__:[*] Dataset loading time 0.0909721851349\n",
      "INFO:__main__:[*] Data size is 50001\n"
     ]
    }
   ],
   "source": [
    "dset_train = GenericImageDataset(IMG_DATA_LABELS,\n",
    "                                 IMG_PATH,\n",
    "                                 IMG_EXT,transformations)"
   ]
  },
  {
   "cell_type": "markdown",
   "metadata": {
    "collapsed": true,
    "slideshow": {
     "slide_type": "slide"
    }
   },
   "source": [
    "# Train Validation Split\n",
    "\n",
    "- Since there is no train_test_split method in PyTorcj, we have to split a TRAINNING dataset into training and validation sets."
   ]
  },
  {
   "cell_type": "code",
   "execution_count": 135,
   "metadata": {
    "collapsed": true
   },
   "outputs": [],
   "source": [
    "validationRatio=0.11    \n",
    "batch_size=4\n",
    "\n",
    "class FullTrainingDataset(torch.utils.data.Dataset):\n",
    "    def __init__(self, full_ds, offset, length):\n",
    "        self.full_ds = full_ds\n",
    "        self.offset = offset\n",
    "        self.length = length\n",
    "        assert len(full_ds)>=offset+length, Exception(\"Parent Dataset not long enough\")\n",
    "        super(FullTrainingDataset, self).__init__()\n",
    "        \n",
    "    def __len__(self):\n",
    "        return self.length\n",
    "    \n",
    "    def __getitem__(self, i):\n",
    "        return self.full_ds[i+self.offset]\n",
    "    \n",
    "def trainTestSplit(dataset, val_share=validationRatio):\n",
    "    val_offset = int(len(dataset)*(1-val_share))\n",
    "    return FullTrainingDataset(dataset, 0, val_offset), FullTrainingDataset(dataset, val_offset, len(dataset)-val_offset)\n",
    "\n",
    " \n",
    "train_ds, val_ds = trainTestSplit(dset_train)\n",
    "\n",
    "train_loader = torch.utils.data.DataLoader(train_ds, batch_size=batch_size, shuffle=True, num_workers=2)\n",
    "val_loader = torch.utils.data.DataLoader(val_ds, batch_size=batch_size, shuffle=True, num_workers=2)"
   ]
  },
  {
   "cell_type": "code",
   "execution_count": 136,
   "metadata": {},
   "outputs": [],
   "source": [
    "def get_mean_and_std(dataset):\n",
    "    '''Compute the mean and std value of dataset.'''\n",
    "    dataloader = torch.utils.data.DataLoader(dataset, batch_size=1, shuffle=True, num_workers=2)\n",
    "    mean = torch.zeros(3)\n",
    "    std = torch.zeros(3)\n",
    "    print('==> Computing mean and std..')\n",
    "    for inputs, targets in dataloader:\n",
    "        for i in range(3):\n",
    "            mean[i] += inputs[:,i,:,:].mean()\n",
    "            std[i] += inputs[:,i,:,:].std()\n",
    "    mean.div_(len(dataset))\n",
    "    std.div_(len(dataset))\n",
    "    return mean, std\n",
    "\n",
    "# get_mean_and_std(train_ds)\n",
    "\n",
    "# ==> Computing mean and std..\n",
    "# Out[101]:\n",
    "# (\n",
    "#   0.4913\n",
    "#   0.4819\n",
    "#   0.4459\n",
    "#  [torch.FloatTensor of size 3], \n",
    "#   0.2026\n",
    "#   0.1996\n",
    "#   0.2009\n",
    "#  [torch.FloatTensor of size 3])"
   ]
  },
  {
   "cell_type": "markdown",
   "metadata": {
    "collapsed": true,
    "slideshow": {
     "slide_type": "slide"
    }
   },
   "source": [
    "# Test the DataLoader Class"
   ]
  },
  {
   "cell_type": "code",
   "execution_count": 137,
   "metadata": {},
   "outputs": [
    {
     "name": "stderr",
     "output_type": "stream",
     "text": [
      "INFO:__main__:i=0: \n",
      "INFO:__main__:i=1: \n",
      "INFO:__main__:i=2: \n",
      "INFO:__main__:i=3: \n"
     ]
    },
    {
     "data": {
      "image/png": "iVBORw0KGgoAAAANSUhEUgAAAaQAAABzCAYAAADXAHYWAAAABHNCSVQICAgIfAhkiAAAAAlwSFlz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\nBweHSMA9kBwcHBwcIoH/C+rOr+NpHkK7AAAAAElFTkSuQmCC\n",
      "text/plain": [
       "<matplotlib.figure.Figure at 0x7f01b225be50>"
      ]
     },
     "metadata": {},
     "output_type": "display_data"
    }
   ],
   "source": [
    "imagesToShow=4\n",
    "\n",
    "for i, data in enumerate(train_loader, 0):\n",
    "    lgr.info('i=%d: '%(i))            \n",
    "    images, labels = data            \n",
    "    num = len(images)\n",
    "    \n",
    "    ax = plt.subplot(1, imagesToShow, i + 1)\n",
    "    plt.tight_layout()\n",
    "    ax.set_title('Sample #{}'.format(i))\n",
    "    ax.axis('off')\n",
    "    \n",
    "    for n in range(num):\n",
    "        image=images[n]\n",
    "        label=labels[n]\n",
    "        plt.imshow (GenericImageDataset.flaotTensorToImage(image))\n",
    "        \n",
    "    if i==imagesToShow-1:\n",
    "        break    "
   ]
  },
  {
   "cell_type": "code",
   "execution_count": 138,
   "metadata": {},
   "outputs": [
    {
     "name": "stderr",
     "output_type": "stream",
     "text": [
      "INFO:__main__:i=0: \n",
      "INFO:__main__:i=1: \n",
      "INFO:__main__:i=2: \n",
      "INFO:__main__:i=3: \n"
     ]
    },
    {
     "data": {
      "image/png": "iVBORw0KGgoAAAANSUhEUgAAAaQAAABzCAYAAADXAHYWAAAABHNCSVQICAgIfAhkiAAAAAlwSFlz\nAAALEgAACxIB0t1+/AAAIABJREFUeJztfWmYG+WV9SmhKEJWhBCNLOR2I5qmaZrGGNvxxmaMDYaw\nhLCHMIRhCMNMCMnHkEwWPoYvYTIEPCRhPAxJCBAgrAHCjrHBYfeCbYwxtmmadrvdtIUQQhZCEUL6\nfpx7q0pyO2NnaRf4Pc/jR26p9Kqq3qp673LuuVatVoOBgYGBgcH2hm9774CBgYGBgQFgFiQDAwMD\nA4/ALEgGBgYGBp6AWZAMDAwMDDwBsyAZGBgYGHgCZkEyMDAwMPAEdtgFybKsf7Ms67btvR8GW4aZ\nI+/DzJH38Umao2FfkCzLOsSyrBcsy3rfsqysZVnPW5b1+eHej78WLMtaZFlWu2VZrZZlLW34LGZZ\n1v2WZX1gWdY6y7K+vL32c1uwg83R1y3LWmJZ1h8ty7p5O+3iNmNHmSPLsj5rWdaNcv9ssixruWVZ\nx2zPfd1a7ChzJJ/dZlnW25Zl5S3LWmtZ1j/8Ob8xrAuSZVkRAA8DuA5ADMAoAFcA+ONw7sdfC5Zl\nfQbAngDeADAewNKGTeYAKAMYCeAsANdblrX/sO7kNmIHnKMBAD8C8Oth3rU/GzvYHPkBrAdwOIBd\nAPwAwN2WZaWGdy+3DTvYHAHAjwGkarVaBMAJAH5kWdb4bf2d4faQ2gGgVqvdUavVPq7Vah/WarW5\ntVptBQBYlrW3ZVlPWZb1rmVZGcuybrcsK6pftiyr17KsSy3LWiFex42WZY20LOsxsZ7mWZa1q2yb\nsiyrZlnW1yzLGpDV+1+2tGOWZU0WayZnWdYrlmVN24rj6QKwqka5iwlwTZJlWSMAnAzgslqtVqjV\nas8BeBDA2dt81oYXO8wcyXHeV6vVHgDw7raeqO2IHWaOarXaB7Va7d9qtVpvrVar1mq1hwG8BT4U\nvYwdZo7kOF+r1Wq62Nbk395bf7qcgYbtH4AIeOPfAuAYALs2fN4GYCaAzwLYHcAzAH7q+rwXwEug\nxzEKQFpOzEEAggCeAnC5bJuSk3IHgBEADgDwDoAZ8vm/AbhN/j9K9utYcJGeKX/vvoXjOBdADkAR\nQEn+XwGwSf6/l+xTseF7/wLgoeE852aOtjxHDdv/CMDN2/v8mzna8hzJd0bKth3bex7MHNXPEYD/\nlu1qsq/hbT5v22Gi9gNwM4B+ObAHAYzcwrZfBLCsYZLOcv39OwDXu/6+CMADDZPU4fr8JwBuHGKS\nvgPg1obffgLAOf/LsTwLYCyAFgDLAViuzw4FMNiw/fkAFmzvm8XM0ZDbfWIWpB14jj4DYB6AG7b3\n+TdztMU52gnAIWBo9TPbes6GndRQq9Ver9VqX63Vas2gG5gE8FMAEJf0TsuyNliWlQdwG4CmhiE2\nuv7/4RB/hxu2X+/6/zr5vUbsCeBUcWFzlmXlwJO6R+OGFokKOcuy3gcwFcACAGsA7AvgPcuyvimb\nFkAryY0IaFl4GjvQHH1isaPNkWVZPgC3gjnZrw/x257DjjZHcswf15ieaAZw4RC//yexXWnftVpt\nNWhBdMlb/w6u9AfUmBz7CgDrL/yZ0a7/t4BJ7EasB62GqOvfiFqt9h9D7HO2VqtFAVwA4Ffy/8cB\nHC/f+6lsuhaA37KsfVxfPxDAa3/h8QwrPuVz9KnAp32OLMuyANwIhq9OrtVqH/2FxzLs+LTP0RDw\n48/IIQ03y67DsqxLLMtqlr9HAzgTjJUCwOdAz+J9y7JGAbj0r/Czl1mWFbLIbjsXwF1DbHMbgOMt\nyzrasqydLMsKWpY1TfdzC3AzTQ4C8LL7w1qt9gGA+wD8P8uyRliWdTCAE0Erz7PYkeYIACzL8luW\nFQRDDTqu/y87nL8tdrQ5AnA9GP46vlarffgXHMOwYUeaI8uy4pZlnWFZVljGPBo81vnbegDD7SFt\nAjAJwELLsj4AJ2clgEvk8ysAjAPwPoBHwAf6X4o/AOgGT841tVptbuMGtVptPbhYfA9MBq4HL5A/\ndX7GA1hqWdZuAD6u1WrvDbHNPwHYGUxI3gHgwlqt5nUPaUebox+A4Y9/Ba3UD+U9L2OHmSPLsvYE\nLfSxAAYtyyrIv7P+Csf0t8QOM0egp3chmCt7D8A1AL5Zq9Ue3NYDsCQR9amDxTqFt8DEWmX77o3B\nUDBz5H2YOfI+Pk1ztMNKBxkYGBgYeAtmQTIwMDAw8AQ+tSE7AwMDA4NPFoyHZGBgYGDgCZgFycDA\nwMDAExjWeotbx4ZrABBuigEAgqkU3+/OAwBW97jquCpFAEBV1kyfPwgACEUpftA1ZgwA4ODDj+T7\nYb6fL6TtISZPOAwAcEBnKwDgkXvJrPzZnCv4+eQJAIBf/PRaAMC6NSsAAJdeda09xt133g8AKG/i\nvh1y6KEAgGRzCwAgEChx/wL8/b7Bguxv1R6jVORpvvi8b3E/br8OAHDNg8v/0kK4vzraxs6qAUCx\nWgYAVP1is1T1UnEumap+FJD3ggHZhHMVqXCDapXnoqSbRRwBC59PtvFxG7+MVZXfqTqncYvQ8SsV\nEozK8lqxX3ktlUucq2qR738sf9d9pyzzWeaYn+1/wXNzdN+v5tUAIBDgeQ4G+RqN8b4Kh0L2trpN\nFTyeQp7nIi+veo78fr5GYtw+2eKUpVTyPCePPkwW8QvPPQcASDRTKOC4U9hVpVrh7xZl7EjEERKo\nVEryuzkAQDbLez4U8sm+U6TguWcW8RgfvBkA0NzsiBe0pjr4uwnez4kmvv79t2d5bo7uePqRGgDk\nM4MAgHK5IK9kTKdanZrRWDOPIxTj+QuB91FqVDsA4OgZ7LbR170aADB//tMAgP7eHnuMapHnXG4n\nBAMcI5mIAwCOmXk4AOCrX2NXiILco7+692F7jLfzvAZ2b04BANatXgUAuOjLZwAAFs2dx2Mo8FiK\nRc6hXkOAcy/qbeuTv9OZ/FbNkfGQDAwMDAw8gWH1kOLttLoCYg2jnAEAtMqKnK06ll2mj6t/pUxL\nvaWZskxHHjMDADDj2KM5lngivb30YLpfX2eP0RPjGF2nnwQAOP7lhQCAWdeyNs1X4Up/7AxaD6Oa\nbufn/b32GFPH7QcA6B+1BgDw0gYWKf9BrMT922nBTZw0DQCw5DVaMfA5p/aEk48HAFx06XcBAOef\nMKPx1HgGAbGsKjJFf9JDks984hlVxLvxyWt5IAsAWPjkAgDAYI4dHjomHWSP8flp0/gfseptb0t/\nZyuqKho9JL/tGfHaKZX1YPQb/Lzqc+yxz8p1pvr5PmyFa7adkMvxuoWP5zce5zVYLnMeij7XSfOp\nB6SeJy3pUikv3+Fx+vw8/kCIf+fzBXuIdG8fAGBwkK8Dad5X8RZRwRFPeHCA96BffrNcztpj6NnM\ny74XC/y9cIReXW8Px5w3j1Z4QbyySNjuyIByWY+Lr0V5fngR4RA9EH+cHkpBdjWdp4dUdHnn1XQ/\n3+uh9xgN07Ps8tNzWrtyOQBg8cuvAACWL6Xn0tPjeEjvZihzV5Vrf4Q8F5Px3QEAV1/NqMypXzoK\nAPCNb1FmbnqnI3c3eiXnd/1yeqnPPPss9+fROwAAzW0JHkMvD6bql/u+zkOSe0tDG1sT4nDBeEgG\nBgYGBp7AsHpIyZkTAQBVidOXc7TS9trIdXHneKu9bXVcGwDgwxxzQiMC3Ka9laK0sQj/ruQZo20S\n5+rdgX57jIWZ3wEAilmOcdwXvsCxJUY7KDHYcJjWzIRJzCkNVB2ppnQfx7vp9qsAAP130uK46RWu\n/C+DFtBDXzwHABA9/AEAwKNP/MEeY8E8WhpfPOUCAMDEI7zbgVktab96HbbJ4mt4BXyyrQau1bkp\nF2gZP3LrTQCAB39Nq3fjO78AAMy77Pv2GC9ffhkA4IjTTgMA5GQsn8yRfytMJreFVg8eQ0DGUrfP\nNt5ceT493oAck9UQC/cSNB+k+S6/X3IPobC8unNIgYYvixer3qFPPJWQ5qE4RiDonPi8eCulYr23\nFU/QYs5lc/LKeQ/Kz4fDzn74JWehvxuRXLB6QMuX0wsYFO+ro6NL9sux4EOhgByTHoMXZ4c47yJG\nQ158ns+Bh397MwAgGPgsACCXc7zHYprPp6BEVVrjzE9XSjzfa9a8AQDoG+CzriL5qHjMydFFeHpR\nEM9240ZGI157cwMAYHAXvn/1f/0GAPC1K5knv+B8p19odfB1AMADt7B5cnrFEgDAwdMZYdq7lc2u\nFz/9BAAgn+ExVCvONVaQ/JIPcs2UykOcnS3DeEgGBgYGBp7AsHpIEWGmVaCMJv78hBRX0Z4+hyEX\na6LnEQ4n5TOJY/dQm3RF+R0AwNrX1gIAZhxDtt3MQzvtMbpfJWsuv4Hfab+Qlnkuzd/NphmLDYvl\n1RQbAQCY+ztHkPtnc+hl3fMHekrnX34lAKBj+lTuZ5n7JUYqmhO0Wr4k+wMAD7zD3FXuLMbYx0yc\nPNTp8QT84pL4NWekJktFrVLHGlKWXUU2EiMNix97FADw22vuBQAEJDGzU5GW9JvPOvqyv7jihwCA\nvjsYp05N5nktijfj35LNtE2xadk2oLkm9f4cz8rOscirbxtj38OJWJR5l6LQFnXOisK0UtYdP+M2\nmk8LCxu1UJAchnhIobB4pPVOL/8vM1so8jsh8aYSCd6b6rEFxTVSsqUy/HQUACiWuY8hiXAUxILu\n6e6TsTlGizwrqlXneosJizAUishn3p2jRx5iPnrl0hcAONeTnqNAyHn0+uV52JpihKi9k5Ga7nXM\n1QQZSEJCPKKmifQeg35njHKBG61dy+fhavno7TQ9pU2b2IbtjxXOyb0PMmox96lF9hjNKTL/ph1G\nFt+Sbj7zfAG5Tyq8f5v35Dz49pJXn+MJFwuc34CP2xY3bZu0nvGQDAwMDAw8gWH1kIJijfnFSiiL\nAVUpSU3EH51tu1/n6hzbndZQqo3W2NKnGdf0hRirDAlTbumziwEAM2ZOssdIhP3yu7TsolH+bjhM\nfv9qyT/pslwuvQ0AuOfef7bHuGslLY59ZtKrCUmdxkuPM8566vTjAAAnPEeLI929DACQTDh1HJMP\nonVUbuV+7CrMm22Lrg4PfBLHVpaZnWoIqDXuWKyaX/KLSZwXFtaiBx7iB+8yL/B2llZaOs+Yc6Ts\nWLZvPs382pwr6HlecQsty3BSrO/q0BZWnXWseactvFbFAnXel2N0WZhqwTqfeVc0WXNFlarmkOpv\nY5/LvdH/+yWXpDkG+317PvVvjpWTOiEAyEiuQD3LaIx5n2jEYcABTv1TSHKywbDLm5bvNomXE4/z\nNZPmMQwO8l5sa+O9GRQvrFpxjk09P9ub9bCHNPbA8QCA8JpXAQARuUcKWR5n0NXr1S+eux57Lsfn\nYXdPLwAgFuV3x3Qwr77XfnsBcNh4AFAU7/XNt9g0Np5kLm5wkFEnze9VZLuARDruv+she4yQjNe9\nhEzhgNb1+fmding/e7eRJau5vGVLXrTHKH8kuSOpYyyXDMvOwMDAwOATCLMgGRgYGBh4AsMashMv\nDoEgyQMqo1GVArrITk6hW8mntF+G7AJVJUKIC/g+tz12PD9/YRlDfIXMPvYYnZ0HAgCaR6cAAOF/\n5LYalkm1UX4oLsnZvl4W2y5Zl7DH2LuT2yabGJ5YsYhEiUqG4b3mkQw9PPAaKc7JOIkSof0deZyO\nNu5HRY4lPEJCHRXvKa030r4dk0UuFRcP268hMAkHre/uBgD84rWVAIANfW8CcIgCezYzjBksOuGw\nN/pJ9HjiVobq7rn6JwCAC3/8HwCAksjPKAFBmdqBihMKKG8hVGfvp7AvKkpYsJO0rtBWtT5U5xve\nW2ObYFO5tb5ciizDEgpXcgPghCW1YLJU0jAfx9DQbFCT7EIiKLsKN7VItiyh9bBQtpVcUCzqeZUi\n9QGGi+4VqjMA9Es5xtq3GA76Y4GdyPfZdwoAIJnktdHVQlJSQFlCrqmsSPin6CvIPjvJdK9hdJLh\nt9AxpwMAinLu/PLsCbpo9T4JiS18huHr5c9LWkJLEYQ0UBKaf6X8kXxxV3uMsMhxHXTQAQCAqPyt\noVrI/BdFuqln7VsAgLfX9dpj9EsBdHaA7+kd1j6WczKmndJNg0JZ7+nn9ro7/I5eV7LPJSf0uzUw\nHpKBgYGBgScwrGZgZu1SAEDBtnrFchVrLBFzkqCREL2IskialESwcf0APaNmGaNJiu/aR0rC1XVE\napEf1cGCrqamrwEAfJrArab4GqH0ytTO6QCA0XuPssdYvpyFm4U0E/T5NC2MC/+eQqnVY+kxbewm\n+WFKCymbwf0dyms8oRR2elNTJ3jXDrC9DBW1VWq3EgSG8pDkNfsuLacNFzCxWhKvdu/knrIdJ+ed\nwvvO70nyOiz22APXXg0AeOzmGwEAM//PNwAAZSmMVkvf5y7QFVOuMbmvBbMOUUG+owKuVWd7pS7D\nTqJ7N2GuNO9qWS1of90r3OfBr/dYvZxSsag08IC8irch56Rc2PzcFERMU4VQQ8G4+yfwzDOPAwBO\nOmkmAOCPH8+0xzj2S7MAAKvm0kM68xYWZLZ0MRpx8cUX8f0T6FF85dSvAHAS/QAg6k62uGc6413p\noMlS2hHQgmC/ekY832ef6xSknng8IzM9b4oQa69Q8ZU/76svhC4VCzK2M0eJBOdEPV/1yPJF3pNZ\n8XJffZUki1VrFwAAFvTm7DE0+hBJcSwVMFi1is+4qlD0tdwjLc9kuArT9R7TuzMU2DYv1rtPRgMD\nAwODHQrD6iFl1/fyPwF6P2GhrwZH0orIF531saJCq2FKBTUl+NmIEPMUWYmF+n200vABrbeCyF8A\nQCxEjyfVmuIYSWkZIZZkNMrfz4v0hYptnn62Q/u++se0ZAIFFuKe+SVKBFXFWnx5EQvfom20KgI7\niXyLqzixvVNyVUkWvgUjrjYbHoVDC9b2EMr/dnlI4mloTiPwGb6O/B49omKOgrTvDorwo0r2uAom\nRybojX5QZOHeOwOUOrnmMnqm3U88BsApRC6JtVgNuPZDc0SVRnq3HIN9LP4htwMcC9bJIXkXutv+\nBgkdbXkSDDmRBp8mbiUHZx+fvIblHlDLPT1IqzibdeVzy7zXtCZa6cE6jYuWPAUAOPuCkwEA1990\nAwDg4C8cbY9x+nn0gBY/Q1Hihf+XLWBWPcr2Ljfc+jMAwCn30JM676JT+XreBfYYX/wSWyeoDFE+\n68jveA2D6cG6v312OxXO0erVK+3P3nidXsvKJUtlGxEolauwJN5sY8uQctkpHHlpKeXOXlvD52N3\nD/M7uRznsSSe8f/cdlvdfnwEp9amKl70Z8Th0Wui6qPckXQQQUzy6b4mXgfRsrOMVCofAAB2Fp7A\nR4b2bWBgYGDwScTwsuwyUtimnsquzKloLBxFF3PqY7Jy0ptoFXR2kI1zwvEUaF3yGAtR83mVeuH3\nMm9122Oku8lWCUhBbnOK8Wi/xDWLOXoqIRF5ve/u3wIAXn/6MXsMf4mFZZdeSs9o1vUsiL1uNiVv\noikew25RWg3Jj0X2PbmHPUZXxzf5H2XYjBuz+cnxGHwNHlHj3/yvMPLkvX06yMa5af+xAJwWAu8P\nMKe0mzB/yn7HQ3pf8knqvYxM0mN6dz3nf853KFJ55a3MKUU7WRxYdBXXKn1zM89IPaKqMgf9de/X\n5ZyUtadjbI2q63aCzbKTi75YZX4gIsy0oKvq0u9T1px8RY4vGBTv1mbh8bWQl5ytix2lBbi2lyV5\nv5LIAH3vsm8DADbVWAB97nnnAQDueci5jzraec0P/u4RAEDPJczBhqW4dtwk3t8jxHKfc8NsAMCM\nWY7M1qpVlLmZNeMUAEBCims9iapvyD8jcg+Eg44X2y+yaEXJDUGLweV61dxROMRoUDLBZ8vr3Rvs\nMR588m4AwOOP0yPKZ0VGKqy/r7kdLQCXyEf1s/YYI0K78XckP68F0JMPYXQivutofleunXyRTMn0\nRpdQrBS/Zwa5H8uXLsW2wLt3nYGBgYHBDoXhLbaIcoUPFLl6FtaQmVbMc13Ml536ibLw9LPgKr16\nBS23IyeyZui9MK1w5fXH9pQaiDec2O3GHuaTupeT35/PUja9dQxXfLWCS+Ve7p7UVYx0KaJEJBd0\nWpX73LOWUvDhEFv/7ioike2jmENq34d5IjcD5qW5dwIAEtIjo23q3w1xcrwBxxNqeB+be0gKjUe3\ndVL0cfppZwIA8uVbAAClPXhuiu/wHL4z+I793d3jtPbiI3ltaHx8Y5o1TE/fwfqkW3/M9h/nX/Vj\njunK0a1aShZQWyvPfZNIM+l+Bez4fb1nNHQOSV4rHmbZiYekjRHVYrVzRy7R2LLdRr7+mFWGx25x\nLh6SSr2UXHVIFZvexnFVGHTuXLLqnpz3JMdo4u/fLkK5Y9u67DHOP5de070P3AcA6Jdmfj753dXL\neK/6VEYsTw/t4IMOdg68yOabkZDWPXm3DmnCoYcCAKIihLuLeBtxeR3T5kiLaRucgngXmrfVDFFT\nE59Le40iIzEUZr718fkP2GO8uor3y04y3x9Jrd+HMlYhJy1/REZt9ya20YnJvQIACYlcjZ3AKNTB\nk3jux3QwslScRZm0Pqk/erOPY5Q+59zP1ffk2vNz/gIhpx5za2A8JAMDAwMDT2BYPaTY/szH9C/m\nKl1MiyUgMdLBkmPZNTVzZY1FJD8gVlogyFV5dPvnAAA5YXB9rHUqrtbhReHen9jdCwDoXUsVhbYx\njEsHpS4oGCKLaOr0aQCA/Nkn2mOsWMoGW+kW/n6yhUoQB0yiiGriQx5TVDpkKXOwv/sNe4xylp91\nF+T4M2QjjZ31j/Aq7DokZdkN4SE5ORv+HZD4+KGnfxkAcNcNbIi4fB4FHAffXV83JgA07U7vqbCJ\nc7W+n9sUS/xb2yXcd/2vAAB3XMcmfyf+s3Pu3pEGZ3vJ7yel/kwr2xtzR405JgBODkm38XAdkiom\naJ2IqhRH5FxpiwPAYWj5hVUXkPskHFZ2Hb87OMB7QGuN3E0PK+JpKquvZyU90tmzmedZsJzMudYx\nrMFbtZq1Rhefe749xq9+w/lbt57zm5E5qwpzLCle3VlnkdV69VVk3b2y8E17jK5x47gfKoZcdLw4\nr+GYGYcAAFpamfNMjGL+JSjebWad83zokboqrQ1TdltAfKSIiNXGmvi8WriMDL07H+51/aLkguzc\nFc/nTuIp7SLXxB9FQSEmdZ7jxoyzRzh8JlmRE07n83FChJ+piGomI8oMVWVqCgvPtRf6nNA8varg\nbC2Mh2RgYGBg4AkMq4fU0k5rKBLiOrhkPi2ATC/X2DVpV0vpOD8bo7FX8UBeX0HLYumrol0nzJQl\ne9A67Ew5McuiNK3q30BrrPc7tCzyUiMQkVbBsRhjs8rG6+gaa4+RHRgJwLEolRUUCrPNReXzjPvG\nOijo1NpCS0itGQAIiVX6wlx6Clpp7Uk0OkINtTxuFQDH45D8g7YyT/J8nnQ+60ZuvZYx6by0Nn8/\n+6o9xhtvsFYpJ3VlqgKwVzNrmd7PUO9w/WrmGG77z+sAAD133WGP8TlRGWgSL1qVP7SBWUk9pEp9\nnqjO29MK8wavz4twtOokwqAV9EO0Y9B3tGbFbsCoCg7iCWUy6brt3G3QtS21thm/ejZbhfzzRcwL\n7T+FDLoBaeB20sn0jB9e8Kg9xlvrOH958cSy0o67Jcn5vvGWOQCAF1/kdnc/yPzU3Eefcu2H1B5q\n3VvAu5MUjkgTRfF6et6kp9ckDLbBPocNXNDcuRyXtvnwS66sNUUvIxqhF5TN8NzFXe09StDaJDLf\nKlVtlCf7E+V/MlneG5EqI0xHTnHa9Rw160vctsF7Lle0dT2303bpIyP8/bciDlMPIUasIKo75fy2\nzZF3Z9TAwMDAYIfCsHpIGnNMdWmcka9z2SUc5bQTt1avIroLl+MFC8nIS2dprW3I0vKIN3M1z4lm\nU/86h32VjPHw+kVDb3DlSwCAbB9ZLdEoLfmItEtXza6wi73TlhI2jLJVtETAJ+ykAH+/Oc6/u8bR\nu4q4mmdJXyuMnc7q846Jx252brwC9YQqalurY2Tn5jb3KlQbTpv4qVWeaKM68PEXsObkxp8xL1Bx\nOYj5tzkXIxK8Nj4EK7zfybM+abcoLTlli61bzGZgcy79lj3GrPPO4rhiyY3uWSX7we+MnXoYj8HW\nBpNjDLovf6nPsNl13s0hFUuinGA7rbxeNe1TLDi5lXJJmKSSn/WL0nlIVJnzOVHyFis9J0yvO+++\nzR5j9rWsuduliedk9vXUGyyWRXV7A6MS+8VYx/LkH1hrlGprs8dQJemc1KcUxVv+7nfInnxy/vMA\ngHETmHtJi8dWceWJgvL88Mu8JZocVX6vISkNJsM783pWde9qiR5Mz0KndsfO18n9FBbPRBvz7bs3\n2aPhsDAgC4wO6fMNAEriXZVEcd0u0xP1jlBwZ75KdKqtk9Ghjs5Oe4yoqLir9xwW1qbeElHxyCpl\nfeV2u7s0SN8byf+H3hMG6ICrE+FWwHhIBgYGBgaegFmQDAwMDAw8geEtjHUy5QCA/cbRnXtL3MpM\n0RF0LIuM0AvLmMC7aynDFBPauctNklDbPcK/Nw7SBX56pTPGSRM4/sY+NqM6p4eEiL5VJDcEQ0yo\nxppFyijEEEAskbLHyPcJnTtOFzwrScreRZQl8qvQoYTlwlGOGU06RYEQgcMmSbZHw05Y0XvQOaoO\n+a67mFRDYso01U807FcWX79jHGmkXziT8kvzb7jWHiPTy3Ox7BWKQ2YGmBQ9cN/9AAAxkakplxmm\nyKQpl7JsvpPsLv3ylwCAVqHYvij078fnUl7qX65kWOiY0yg5UxC6dMBVIlCVa7CqRaXe7c9nl0mE\nwyTYaMsBJSS4umqgXNG2BwzrRWIqGaQlF0I5ltdf/JqNES//8RX2GPNeYhG4bxf+XZGwX1xC3UqA\nWLxwMQCgp7cXANDX32+P0dXB8G3vaobeEwnu+/cvozTUg3eTxKAhxoLEubMuAdV4Utu4hGVb79K+\nlSqt8k4efxyOAAAgAElEQVSFD1jMmh/s5esK5znls6PEQs2X67Kzg9dzVydLTVb1kuATT7K4ONns\nELh8Pp7PioxRFiVUW6hVCC96jbS2c/tozLmfw+F6wosegralCIdUyqihmWPZJZYc4EXyvp8yUpW4\nadBnYGBgYPAJxLDagVos5ZOme7tK8m7KdL7/u7Rj8cz5JS2IA7toFY1rEQkhadAXDnHZzuXF0rAl\nTxzLvpKXbURKP12xADiWW6VCK7tJ20I0k74aSk2zx2gapDcVCUr75iZ6QANCUc9LO9+KFB5GkrQE\nfS6By3KRCd2AWKmhiCPX8anAFvL/jWKn04+aAQA44vTT7W3uv0WIDqwzRlC5FCJT07ORdNkPpMCv\nKU4afjb7nj3GY7eTFXPo4ZRrSUox3ivPkgDx86uYhJ9/xeUAgD3aaXlGks48lMUzKitRw7ucBsSl\nGVtEPKRyuV4wMxp1tK/SGVqofrnXQkI79gtN+PG5FBS++LsXAgA+tM4FAOSyffYYE6XZnLYdSLXs\nBQB45CGWMRTFU0ntlQLgtDxf6hLWbBZvqiSfNbcyKtHZyvtFW0qouGuxqJa+Q3TSIsuoFLT/9mYS\nLw45zinu9ArmzWWxcGA+ZcuSq0neQVna5NSVfohHIkK4ESHfqFTQrOP43EhnOEYsHnJ9i3Ao/1KC\nUa4XHVDCli2fJSUulRMdD0Zp9LaHJFyFoopea+sXGcump7ujJuWP5TOSUmwJtRq2CsZDMjAwMDDw\nBIbVQwoGaWF9xs9V2ycWQUjyQVrwBgBBWaUn7k9rcNZM0q/nvUjvJiuW1BhhZdvx5Kqz4uvKvnYx\npU7WvknZktVnXwwAWL6CFly2SOssGKPVNv2Ur9hjVEHvKR6hh9QmRbNVP620pcvpQU0UifaWNtJW\nu4ViDgABv1iyYSnUFAmhTwL+GhaLjhEQWaXpp5xmfzb1mOMBAMXbbwIAvPoYvZo1r78GAAgLFXVE\niPTvDf0UcsxmnNbLJfGmFs+nzFNUipfzAzzPG/so5Hnn7SymnXEiCzdnpk6wx7Bj7RK/r/q86yKF\nJK8WVJFRvxYuajLPlVtpELlUg/W+u5mHOPVUylj952x6ke8Xec72P+BAe4iJh5M2X8FOAIDcswsB\nAG1tzO8OFih6mn5XqNri1bg9NW1YqTmMlAjhpqQlTGawIL/BHRwU8dW4RCQAIC7FpnMfZE5r+dIX\nNj85HsGapbye/QE+U8IT2F6jWtYCVsfzC0rkSPN6WjKiHmlBC8o3MtKTy+u16tydKu+kXovdwcJO\nKIoXLR8UxHPOnbg5/dwPyQkFdM7Ey1KhXluwV6NSjij2u9l03XtVl4e7NTAekoGBgYGBJzC8OSQ/\nV/6dfSr9IQygz9ISCNzgME92l6Kw7Aau4H1vc8VNSfw8LEyf/n6u9D4p9Nsr5pKkF+pb91qOsfBR\nxsuPfoqSJv2v0QovdtPLOWwyvZ9npjjiqvkw47jH/frn/F1lr5TYLGzqRBaWpZoZI89L7D3e3GqP\nkemj2GRavKZ8yClG8zqUSTc0906wJbOmqtaaWIWa44g5gosnnkZv9AaRvEdOLCop7iyKbM3LL1Nu\nKF8QCZy6uDW/k01rczJ6TwNiZX9r1lEAgKPPZGHy2/LVOttts0aE3vWQ7LYa2oaiQedIi13d0MLM\nn1xDFt0F55Lx+JvbyVD8SIITex9IdmPZ70Qr9khQDmusRAfab7kLAPDDH5KJd9t9/wMAmP80PVTN\nIYVdxeEl8YxKcv/svz+ZYzt9xPu1VwpntSlcVgpjx3Y4bNWBAUZHHn/8QQBAa1tqs+P0CnYR9m9H\n+74AgLi0iu+R1uLa9gNwPF5RwEI0yr87OzgXUWEDTxl/JAAgm3kbAJDPO9EgbVG+6QNe+0URyVXv\nRmXUNBJQkr+z6bedMYqUgvKHtaGl5JmUvak3jNwa6o2lM04+N/MeJZH0mtT84sgR2CoYD8nAwMDA\nwBMYVg+pJMyP3WLC9BE2SUjrgZqcmPNbwihpSXPFzxf43bcKGRmLq7PKiQghBc1Rx7INi8TF6l6u\n0i/MZyOxJ66nFEr4bjZ7m9nKz9e+QMmZy8462R7jZ/fPBwAkpMalIAy9rnGU2i+JR6RWeSJG76dc\ncGKzqr1RFBmUUqZ385PzCUEds6fhs2rjNtomWT8XTyadc85NQTye9v33BwDknyYrKdfdJ5+rpSdt\nSFRQtFK2x8iI3E3JlpkRBqSIjg6KcOu4w5jfmyTtuf1uL8jLaqoNsK8jsT61DkjFbrNZJ7+WFCbh\nU/NY53POyby2lywhC+yjAMfYdTc2Spw+jXm1c0492x7jq8eeAQCYNpXnr13akU85YDwA4LpbWef1\nxhus9xscpAhrLOYIDOe0nki85U65n5YtJouyGOY+VzKMaoS0BYNLzPfue+8F4Ih+Rj3MVl0nXTMm\nj+U5UK+xKNdx0CVeG5BCH62526eVifHvXcrzHBDGbirFZ0uxxLYemcyAPUY+y/9nxzOfd7A8fwoS\naUin+dx6V/J8ablnsmlnjIJ6tlGVUlMou45zp7VOei82RXa1txy9G+sE3/8M57PqNzkkAwMDA4NP\nIIbVQ8qKmoIvwfxKQKwEbbq3T0fK3vY0H62s13q4Ou/fTItptNQfvS/bjRRR04S0T466VuS41Dul\ncyK93k2vK9LEGPjBe/L9qW2ss7hcyibu3fiRPcaYMYybV4SxF9Lq9CZaLzmxUlrGMNZdFYZKKee0\nUg+oiGucVmHQ1SLda6gIK8f2P6paI6HV2c629n9tGp3+LYwesQbz4qGslQr+RJOTQ/KJpzsymQIA\nvCqWc88SequDG+gRD6Z57eSEXVlyiW4qw9Juz63BeMmxPP8YWVnz7yOz7Mgvs4FgztUoUFlBdu2U\nhwuR9Ni1/kgPowRVcHCsb/WMjpSW2nffwdqd8J603I845iQAwNQJzE+cdzbVTKaOc2p7Jk9kNCCe\n4tz85CfMQ91zD9vL//IuMsoyMs9Bu8mhg5x4xVG559tbyK57+jEy9pIJegUZ2U5ZeE8987g9Rm8v\nVR40d6S1S15EXhoPZnPSbiOv9UByP7m2VUZxTBilR0mjPH+IzF2HMcdXPe6kS1FGvUZ/YG8AQFg8\npGKeChHqRY9kGR/eeU/u56LDkCuJ14Qq57kkStIlqQlTInNJWHYlmynoLCM1EZ0ufMDPcuLxjtoD\nWwXjIRkYGBgYeALD6iH1Lqc3UZAYaTIpRUR70GUYc9De9rZTTmFeaY0w5JLiCQVk1Y5JSX9I2Cza\nriLoijk3j+J3ciW+p6v1qjRzCKtH0GqYKnHtM4+dBgB4coLjwtxxP1UA8hKDDWqDPrHokpDWBlJL\nUJQaI22fDThV0xXpuxAItQxxdrwBtb6UYQP5e4jeb3bFtl3BLd/JZzhn6bW9AICESPFXKjz//QO9\n9hhhiUsXCxwjK/URDz3CfF/PKnq1uUK9BxN06dBFhc2lLbZDomVXEpZlftUrAIDZl1wCAHhiNtUh\nDj7jy/YYlWp9bUXQ710PKSPnNyleZUhyDCW5vtwqAKedfiYA4Je/Yev3MV/g9drcwjnZa9+DAAAT\nxlJFo6WJ1+3kacfZY+h5/fYPvg0AuOL7lwIAbr3nRm4gZm1UHicV0c+L+h1PrSIW/CVXMm978aWX\nAQC6OumJKWNM25709vUCALq719pjNMXp1SlDzc3i8xpOPJ71dYWievTSME9yYz6X4GBQjmf8QYy6\n/P0/MCrT26+qNKJDGNJ7UxUVHD8rJi0gIlHOa0A+KxaZM8xKJCfRzPN5+KFkxnW1O7nYhNw3cakf\nK4jH1J/hfgx0ky08MMhnYblCVYbmFue5HYuxfm38eHkGpKlNWXECRn8SxkMyMDAwMPAEhtVD6n6Z\nq+b6Li6Xh5cYq/Tvw5W5KeWwcsZOoQeSlryTklKCRalmjkgzvahaCcIwKjjW4W7CMApIPHqNyHP9\n5oleAMCN4ildFqHVUEjMBQDsOfkUe4xrytzX/tVMMCXaaNH5NH4dkH3W3m/yfqjJqUMq9PfWnYeq\nb1hP+zYh00NVi75BHndI4tptY0WhwtW8UJ2IbD+9woxYuSGx+N4UFYu9JOcRkFqMIhzvUf+3SfJN\nC3Ki9RWgldY8jnH0Tjnd6qnmBh2TKyT71NJCzzMjjK6SsOy0Zq17GRl8l32D9RZP/3yOPcYRp7B9\nc86nTCLHcvQa7NyJqjGL0km4wvPwr9/7hr3tExdSm65XlJzHTmEuaZ8Ur88xbcx9JmK8V5qk6d1P\n//MX9hgrV/HaX7eO7ea/dSmVTvr65YaS8xyR/GlS2HWFrFNXeOJRrAX7/f3Uv5s+gx6Z5ihVJUBr\nq1TzrtPVQC6Tqa85bKy/8hJaWvj8WrSc95PqxIW09tKVRGpv43V7wgn0qrJZ3icF0eUMhVQ5XF8b\nmmgCdiJRL1tVcYjEpPuAzGtLG8+nMupKJafmMtVGD80vUYKetczj5vrpGeV6qcj//no+L0fuKfm+\nhKOmocy7UEuK+9h5jHwyF1sD786ogYGBgcEOBbMgGRgYGBh4AsMaO0p3SwHqi738u4shu5YKJTLC\nYcf165zAkMIzT9BtTI3SfvP0dTNpuvgte4g0+3v0VfsGHDf2I2Elfr6Dib6zph8MAHh2HMM9997F\nxPkPH2HoIVd5BADw3dRYe4zVSyn3kxVCxJjDxCWVRnza+CwRYogpKFJDwSaXhJEkGKtF/m64qXmz\nc+MV3HH9bABOiw6VdzrxvAsAAKmxE+xtVTcxLZI9ZbFv/HGem+qHnO/gAXw/J2GCTS7RngOFLv85\noQy/ffhMAMC8ZoYWkgmGM57+PenKd/4P9+/5p5+0x9A2DMGolBEUOJYWvkbDcv6F2p1Zy9DDnMsu\ntsd48nLK4Ew5dhaPZRtFIYcTlarQvlXUUvb15/9NeasrZ19pb9uS4rU/TRLiRx/zBABgrIQ5Vyxi\nOG7lCspprV9PAeI7773ZHuN0P2nIs2eTkLB6Fe/JoIjlhqscOxLQRDrn+Yijj7THeEiEb2cd90XZ\ndx6DJuZ9dURoICL3VTnkhHfD0jqjUlaRT++GVRct4Xn1S/haQ5FRoeS3tThFvcfM5HmaMJHh6d6+\ntHxX5NMk8llWEWgJ4dlNAOEUEOvvqayPNmDUommfhP1UbDcYdpr8FYV4URQSgy/A8x2N8XnVkqLc\nU2BvFkCHmigp1d/rzF1/3xvy+/J8bnVEercGxkMyMDAwMPAEhtVDksUafcu5Ar+5ohcAcKSQC5rj\njtWwXxdFCS+PSmGcWFQDPVx5g+IpNQWFVhnQBLZrtR7kip8T+Yz23WmdnB1lgvWqN+kJ3XEvrcZH\n51Mw9e20I21z+gtsy9wqzf6CEXpAIZHXiMX5d1NyqnyuMi5O0V4gLK2XpSDYF/Wuh6SkAUhhnRb2\n3XEd246PmTbD3na/Az8PwGk4uEkIJbuKNb5iJcVr3x48HAAwspPFkDvDKcYbI1bvRBn37GNpsZ0m\nRX/5LK+NA4/gfq1fSbqw79qr7DE2rqeH27eWei25LD1RvyR9s+Ix6dyoNdm/bKE9xrVCZX72Mjbx\nmyJJeC8iGOT+965lcjnd0wsAuOACNtl7fMGD9rZtGXqYUzENgEOVjkfoOS0SkeD580k2eOY5ekov\nLn7RHiMgHmZZWn4koyQtNEkJRCLEvw/c7wAAwMlfodRQ8OKL7DGmHXUsAFdZgdynTjxDvGt51fs7\n5CryVY+wVNK23PVelZdgy2X56ssIEk08/4ceOtHedvp03hc9vbzG9fh8JfWE+WzLClEhIPOvLT0A\nZ16D9vOvviWJEkCcluaymcslUZku/SgYkmdsgs84n4wdSzCKUa4wwjUw4DRzTCTZvLG7h/f+QPot\nbAuMh2RgYGBg4AkML/9Ylr9sP1fp1c/3AgB61zDuGJ/keEjt+3D1HXspLbzVz5J6WJX4cWs71/Hd\nIhKjbaWV8c7eDu17V7HsuqTQqyTS7LFR/P3Jk5inOGsx/75HzsaAS75/+Ru0WnyTSJf1LZfYsFgc\nEw87TI5tqrwKbdXVtEql9DV3FBIJIS8iJtJIZZU6kWZv2TWUlX9u0PEe1yyk97j3JHpABbG+KhLb\nttuBi8fUKh5Se9Sx7GIxWl+BoMSypWCwpBae0pWn8TyfftQ0AMAzN/zSHuPGq+jV9PbwOtKC2LhY\n8BEpwC5L64Oi0tNdFmb/YuaVbriCuaSXJafkRUS08Fdi/qtWMKez0aKgVqLZkWZq72LO76DxRwAA\nTukgvb0kUQPNR2WzvM57ullE3J5K2WPk5FoupKX9uBQ6H3MSKcMXXcBcXEEs+5s/ZsFkyZVvLJeU\nTi+5I189ddtu5KZCxOIVBFxzZNOe5drwMu27LC6I1O2jNck5O3gSqdVTDzvA3jadFbkx9YxsmS6R\n4BIJNNinSO6RkpNfK0jhuLay0GtbBVHtpo7yvm+IR39VKfgNfSb0PEckTx6TEgHNS8XjKWcMech3\ndF0g+65z9OhmvzcUvDujBgYGBgY7FIa3QZ/EU5Uc072EnsNrB1BIdcoaR4FvzIH0IlrbmHdZcg89\nk2ZhcCX3JDsrmhJWm1jyo10tBT6U4snRfSLA2swWB1VZtfulgZsyfprbyPb79UNObuGuInNYk39H\nQdYjD6en1CoWZCDE3Ie20siLOGR+oMcewydWYbyFRbWaf/IiJh1CS/qJNHMK6pFWN3HSBt5cZ2/7\n6N1sB7B+Qy8AYNQR9GKSrfRqxx06CQCw91R6j4kU36/6HAabyg/li8q6Yiw84FNLmts2idUvRiRm\nnObI/lx4ybcAAP945lkcUzygdinO80V3AwDkBsgg0/bRIZcQb1Ss0Zx463N+zJbe/w4vQvZVjvNH\nP70GAHD9PRQ5veBb37e3HCuFxd/8+vcAABVpTfGbR8laXPYyvdzuXt5fR81ge3dfxbFVl4tkzF1L\nuc1B49mG4q777wEA/OB7HFvbyxTVgyk692JUWH0VbR9S1gpOkZ1S7yCgLeT5cbHgMOn8QWWQeZcB\nqUhIi52xnSkAwMGfZ7568tSDZAuH3aZCrH674WL9WHZbcjlX+tB2b1aRa7posxfr80x6uoMhbe64\nuYiwyg2pkHLJbrcurV/EcwoJG1oLz90tQrRRYERyw37ftgngGg/JwMDAwMATGFYPaZMsxmr9lNO0\nDBY9SbbQMmnTAAD7LBRrayktiWgrV+VEawqAYzWUhNkVTtKTCgWc3M0eARUl5GHm82T3BbRZWEBi\nocKCW93LPMm61Y6gY1TYMcGJzH+c004rf+JhZGE1t3YAADKSW0n30dsLuXQfUx1k1ISldsnLZkBs\nTx5f8xM8rp6VtI47O5hvKz2zyN62+3VKycy7k5Z5oMoaoXgTt42khF3YzHnVZmFuE9BWwVEdoirn\nT+PYm9vCYmG7WIwTT/sqAOCS2fQUrvz61wAAO0PbM/yR+yEeUUlEXt2GdiQuormSQxsR3TbLbjih\nUjJ330Yv5/rbef4PO45MtuY5Tn4tL8y48/7h7wAAv739BgDAUSfymly0YgEAYM6c6wEAM6ZTVPXm\n39xsj3HtdRSjzco997KwGgsDjED4xtGyDmpr+IDWyTjnUC12vW8DDdZ3Vb5cUgkhYZIFXAKiAamL\nCcn1U3C18PYapk2mR3ToFEZFOrtGAQCKJc0xO00UGxtZqgeo56zxKW03yHPdR5p30vcq4k3p+VQP\ntFypF0R2dWBBMCgMZvXUtLZJvyLSUE2JpBwL5y6XTttjlPV5LPnbQaln3Fp4+NFoYGBgYLAjYVg9\npLXSBqJkr/Bcid9YTov1xcwL9rbfbeGqe7O4U3Gw1qEollWpypU4FCaDquLfha+uim+flDAUpQAq\nl+Vr5EMJqO7CsRevosW3YhmZVkdMcoRRx02musO+B9DiiZ9B679Z2jhLjzSsXEQWiQ+0fLomO3Us\n4ZiynmT91yIAD7KEchIDDkg7+YlHTQcAZKUeqORqyxATFmOv1KzMuZy5i4suZ/5ld6lXaQvWV4/7\nAs5x63t+2xcSi+5/2U+3kkIVtJxP/uo/AQCe+NWvAACPSwO5PvF4/TJZSakdGz16tD1GUoRZWzro\nCXeNn8IPznNaeXsFVTlnK0W4s0XEg0ftQSt8wytr7G0H19JCfVSOY9nCpwEAuSI9+iOPYs5IG0uu\n6O4FADSPmWyPcc55zNE9/wTzinfczrYT/zWXOcSvfonnHSJiGw5JLZGrJlBZYNr6UdvEBMLyCApo\nbqm+QMbdYkFzz2V9foS868UecyRzzckE74GctFdRBqgbIfs49L6oV1Vo9BuUDedGRU6Ofke9K83z\nlCUXq61EVATV/QwqyrkPyjza6g9yT6pAa5PcP/oYa3LVjxbEQyqX/7w8n/eeiAYGBgYGOySsWq02\nbD/W0RSuAQ5XPaiMmiHMYbWMolJn1Brn30e30xo+ZD+uyvEELfmdxQqPJpzVWn+nmE3LtlzZm1Nk\nuvTm+J3Z15NBF9+Fv3H8F4+2x0h10FJM7TceADDtOLamGHMYNc/WikR7ZoC5o3GTyWoaN3WWPUYy\nScagz1+//vt8PmvzI9++SI6ZWgOAgig0tDZLHdgqWuN3Sa4BAPKv0fPI5dmE6x05vH0Opoz+d65n\n7iE1QepRxCMOuCxnv//Pc9KrFbeXpW+KFleRucKetWx/sX415ygtOQ+tate2zgAQlgr6XcQzDEpz\nucG5j3tujl6a+1wNAF5aQJ3FZ5YvAQBUpZmHv+rUp4zppCffJu3H+0QNYMFzzAX2DfBvbTOfbE8B\nAKZOO9Yeo7OdXmNWmuY9/MADAIAzpBW8NgpUZ8Yv+aCw6/wq+VUtZ6fmRSz7gNYjyYZ2227n4aD/\n1+tHcy3HnjHLc3PU2RWrAUC5LDV5cjyNzwDAuQcCtu5dvZfTiK2pv9JtGre135dno9vZ0vOr2/jF\n2wqJYsO4iXwWJoVhXNYmpK7nt9ZGaW5Q21z85P/+ZKvmyHhIBgYGBgaewLDmkDR6qrUndj2BrLDR\nkKslb0hXcm6TE3bKy0LoKBVYQzQ2yVj4a3Ik0dEOqyMutSs7i9Za2fc5jlWUfIi06J18IL2A1lbq\nMB3Y6igpJEeLV9XBMSLSsK6nl3mnpxbM4376eXRdh5ClFAw7zQbtcK0ev4fNAGXQaLxYbe128XIO\nOc7x/OZKnVfUJ3Hq7CYAQK6f71dL9RZURc1el0hzdSj3eEjoSdTBnEtXa6V0X4tS+xDroHcwvoXz\nqfVmFbHeKq7fHlGWxoAlvjq5DO9BlRomT2M90DRRKNemb+WKk6eo2A3weDydXWR9ffmMrwJwtNaq\ncnfmxerN55xJUv2ziniPkydOlN8TPTpRDtDzGgjU50IA2NMXCGl+RLxl8RjUaS7JGJoncuehGq39\niofVvgeyPJ9BYfr67fwxX9zHoveAkweq32ZL98hQYyj+rMhDA9tPd7koXt7AoDx8xRVWvcG639Ja\nKf+f9vK2uAvbuMsGBgYGBgZ/E5gFycDAwMDAExjWkF11s/VPqZ0SnnPtTVHdf5W+kPDegpUMB60N\nKSWRyejmoDiafqdYLr2RIbk3R1NmKNbEMUdJQrxFEr1ndZHKffguDFOFXdI+oaZduW8hFoqu7mbx\n7ECGCeVMhqE7DXUNSrO6QtEJJ0iUzyY222fBg+aAr1wvsFgRB74q7vznD3cIH7+/ifTflx4l5T2x\nLyn45/+QwqQds0gZz0nCXFsP+FwT3SiP7+yIhmyHhjtCoYnwsi2tL/suIZBKUWX8+aqJV7cEjYph\nQlsaVL0bDgpKgWgxIEl+OzwibSJcux4OKrGgPkyeLWnjNp3v+mR0U8zVYNL5Zf6eJN+D0hrCbxdj\n1oecqi7mr89uxFcPv91krv7uKFc3n/+QjFEUanFlq8O9w4+qhnz1clLCgMbrhyAT6Nw0huq2hcSw\npfDeFkPj7rEbfkdTK1WZ16WL+MxbtVwEXIW0EnS1CIkIYUiJQ1sfkpdd2KatDQwMDAwM/kYYVg/J\n15jdV8gq6q6l0nbYAbE0cmLRFYtS4OXjCvz71bTsOhM8lMMjrpZfFXpIlSrpyUVR61hToAe0r8i6\nJ4SmWniPrkyuOODsiP9VjiFJ2A/FGt91JGWAxkwghbxVEugQa7WvzxFXjYmMRjTq0hPyKMpaACvm\nbdlWwlcqqGMNHXgkiyp/dxOla8aM5TlIPPJ7AEC/SDVV8mJRi7nocyeqleLakFD1b4G2qqi6RIWq\n0lZCrVK1zLWlQVUKo7XBmzY8c3tImh//WK1UONRpr0FFOFXA0rZCffq5q7W10qm11EKKMB3LVZLQ\nAV77er61CSDgan8N/S7fryghQdkUdruC+v1p+C+/q8Wt9ifiZckcVqT9SS7nSOwEpNBajz/gYXPa\nPr8qjKrv6/9cjoMt91Op1L06bceHjh4MVS+j25bL5SHfb9y/Oi/TVz8X9rVhtwgRIeRqvu5zdwms\nT8YLi3ZaYBtXGA9PqYGBgYHBjoRhLYxtTURZGKsFbrp6avrHRRH0N6zWanWpF6WyNTmRp1ersNVR\ndUdbnNb8vkl6M5EIra6mUfRYmlMs+MtV6DEteZ0WfdW1H/FRlJcpFj/kGDFKFMWkGHDaDFJuzzmf\nTcpaO5hraoo02WOMG0vZoZQUlEUk9hoKBTxX0Ldh/Qc1ACjJpCyRhoRdY3gMuZyTo/Or9W03CuN3\nlvcxz/aW0MI1fxCo1rcW4Ic+94vrbb6x0xZspo+H8JBGxZnHmzCOFPWy5PFsa9/2xOtbHwBAIV9v\nUWpO5ejx+3lujgrpYg0A8tJyOhDSQlGhTLvo0O4iZKJBkkfvvYA2btOmcJtb387pEitcZZ90rAba\ncl2Dci3+lNd6gSCHlm5/IIeQkZwsABSlIWEsFq3bx6ZUwnNzFG7y1wCnIZ5e9E6+fIhnXWMAqaFA\n1aZSaw7WfWvYHs//4l3p5pXNPSTN0/sa8rr2nFXq83x2rrYun2tXNPMz+buvJ2MKYw0MDAwMPjkY\nVqVnawIAAADhSURBVA/JwMDAwMBgSzAekoGBgYGBJ2AWJAMDAwMDT8AsSAYGBgYGnoBZkAwMDAwM\nPAGzIBkYGBgYeAJmQTIwMDAw8ATMgmRgYGBg4AmYBcnAwMDAwBMwC5KBgYGBgSdgFiQDAwMDA0/A\nLEgGBgYGBp6AWZAMDAwMDDwBsyAZGBgYGHgCZkEyMDAwMPAEzIJkYGBgYOAJmAXJwMDAwMATMAuS\ngYGBgYEnYBYkAwMDAwNPwCxIBgYGBgaegFmQDAwMDAw8AbMgGRgYGBh4AmZBMjAwMDDwBMyCZGBg\nYGDgCfx/5rOoGcAXsngAAAAASUVORK5CYII=\n",
      "text/plain": [
       "<matplotlib.figure.Figure at 0x7f019c96f690>"
      ]
     },
     "metadata": {},
     "output_type": "display_data"
    }
   ],
   "source": [
    "for i, data in enumerate(val_loader, 0):\n",
    "    lgr.info('i=%d: '%(i))            \n",
    "    images, labels = data            \n",
    "    num = len(images)\n",
    "    \n",
    "    ax = plt.subplot(1, imagesToShow, i + 1)\n",
    "    plt.tight_layout()\n",
    "    ax.set_title('Sample #{}'.format(i))\n",
    "    ax.axis('off')\n",
    "    \n",
    "    for n in range(num):\n",
    "        image=images[n]\n",
    "        label=labels[n]\n",
    "        plt.imshow (GenericImageDataset.flaotTensorToImage(image))\n",
    "        \n",
    "    if i==imagesToShow-1:\n",
    "        break    "
   ]
  },
  {
   "cell_type": "markdown",
   "metadata": {
    "collapsed": true,
    "slideshow": {
     "slide_type": "slide"
    }
   },
   "source": [
    "# The NN model"
   ]
  },
  {
   "cell_type": "code",
   "execution_count": 139,
   "metadata": {},
   "outputs": [
    {
     "name": "stderr",
     "output_type": "stream",
     "text": [
      "INFO:__main__:Using the CPU\n",
      "INFO:__main__:Model Net (\n",
      "  (conv1): Conv2d(3, 6, kernel_size=(5, 5), stride=(1, 1))\n",
      "  (pool): MaxPool2d (size=(2, 2), stride=(2, 2), dilation=(1, 1))\n",
      "  (conv2): Conv2d(6, 16, kernel_size=(5, 5), stride=(1, 1))\n",
      "  (fc1): Linear (400 -> 120)\n",
      "  (fc2): Linear (120 -> 84)\n",
      "  (fc3): Linear (84 -> 10)\n",
      ")\n"
     ]
    }
   ],
   "source": [
    "class Net(nn.Module):\n",
    "    def __init__(self,initKernel='uniform'):\n",
    "        super(Net, self).__init__()\n",
    "        self.conv1 = nn.Conv2d(3, 6, 5)\n",
    "        self.pool = nn.MaxPool2d(2, 2)\n",
    "        self.conv2 = nn.Conv2d(6, 16, 5)\n",
    "        self.fc1 = nn.Linear(16 * 5 * 5, 120)\n",
    "        self.fc2 = nn.Linear(120, 84)\n",
    "        self.fc3 = nn.Linear(84, 10)\n",
    "        \n",
    "#          # xavier initializer\n",
    "#         if initKernel == 'uniform':\n",
    "#             nn.init.xavier_uniform(self.conv1.weight, gain=np.sqrt(2.0))\n",
    "# #             nn.init.xavier_uniform(self.conv2.weight, gain=np.sqrt(2.0))\n",
    "#         else:\n",
    "#             nn.init.kaiming_normal(self.conv1.weight)   \n",
    "# #             nn.init.kaiming_normal(self.conv2.weight)   \n",
    "        \n",
    "    def forward(self, x):\n",
    "        x = self.pool(F.relu(self.conv1(x)))\n",
    "        x = sel   "#             nn.init.kaiming_normal(self.conv1.weight)   \n",
    "# #             nn.init.kaiming_normal(self.conv2.weight)   \n",
    "        \n",
    "    def forward(self, x):\n",
    "        x = self.pool(F.relu(self.conv1(x)))\n",
    "        x = self.pool(F.relu(self.conv2(x)))\n",
    "        x = x.view(-1, 16 * 5 * 5)\n",
    "        x = F.relu(self.fc1(x))\n",
    "        x = F.relu(self.fc2(x))\n",
    "        x = self.fc3(x)\n",
    "                # transform to logits\n",
    "        return F.log_softmax(x)\n",
    "\n",
    "#         return x            \n",
    "    \n",
    "if use_cuda:\n",
    "    lgr.info (\"Using the GPU\")\n",
    "    model = Net().cuda() # On GPU\n",
    "else:\n",
    "    lgr.info (\"Using the CPU\")\n",
    "    model = Net() # On CPU\n",
    "\n",
    "lgr.info('Model {}'.format(model))\n",
    "\n"
   ]
  },
  {
   "cell_type": "markdown",
   "metadata": {
    "collapsed": true,
    "slideshow": {
     "slide_type": "slide"
    }
   },
   "source": [
    "#  Loss and Optimizer\n",
    "\n",
    "- Select a loss function and the optimization algorithm.\n",
    "\n",
    "- if return F.log_softmax(x) then loss = F.nll_loss(output, target) (MNIST)\n",
    "\n"
   ]
  },
  {
   "cell_type": "code",
   "execution_count": 140,
   "metadata": {},
   "outputs": [
    {
     "name": "stderr",
     "output_type": "stream",
     "text": [
      "INFO:__main__:Optimizer <torch.optim.sgd.SGD object at 0x7f01b21c55d0>\n",
      "INFO:__main__:Loss function CrossEntropyLoss (\n",
      ")\n"
     ]
    }
   ],
   "source": [
    "optimizer = optim.SGD(model.parameters(), lr=0.01, momentum=0.5)\n",
    "optimizer = optim.SGD(model.parameters(), lr=0.001, momentum=0.9)\n",
    "# optimizer = optim.SGD(net.parameters(), lr=1e-1,momentum=0.9, weight_decay=1e-4)\n",
    "lgr.info('Optimizer {}'.format(optimizer))\n",
    "\n",
    "# criterion = nn.ClassNLLCriterion() -- a negative log-likelihood criterion for multi-class classification\n",
    "criterion = nn.CrossEntropyLoss()\n",
    "# criterion = F.nll_loss()\n",
    "lgr.info('Loss function {}'.format(criterion))"
   ]
  },
  {
   "cell_type": "markdown",
   "metadata": {
    "collapsed": true,
    "slideshow": {
     "slide_type": "slide"
    }
   },
   "source": [
    "# Start training in Batches\n",
    "\n",
    "See example here:\n",
    "http://codegists.com/snippet/python/pytorch_mnistpy_kernelmode_python\n",
    "\n",
    "https://github.com/pytorch/examples/blob/53f25e0d0e2710878449900e1e61d31d34b63a9d/mnist/main.py"
   ]
  },
  {
   "cell_type": "code",
   "execution_count": 141,
   "metadata": {},
   "outputs": [
    {
     "name": "stdout",
     "output_type": "stream",
     "text": [
      "Epoch 1\n"
     ]
    },
    {
     "name": "stderr",
     "output_type": "stream",
     "text": [
      "INFO:__main__:Train Epoch: 1 [0/44500 (0%)]\tLoss: 2.297780\n"
     ]
    },
    {
     "name": "stdout",
     "output_type": "stream",
     "text": [
      "[2,     4] loss: 2.175\n"
     ]
    },
    {
     "name": "stderr",
     "output_type": "stream",
     "text": [
      "INFO:__main__:Train Epoch: 1 [12000/44500 (27%)]\tLoss: 2.309220\n"
     ]
    },
    {
     "name": "stdout",
     "output_type": "stream",
     "text": [
      "[2,     4] loss: 1.832\n"
     ]
    },
    {
     "name": "stderr",
     "output_type": "stream",
     "text": [
      "INFO:__main__:Train Epoch: 1 [24000/44500 (54%)]\tLoss: 1.094221\n"
     ]
    },
    {
     "name": "stdout",
     "output_type": "stream",
     "text": [
      "[2,     4] loss: 1.655\n",
      "[2,     4] loss: 1.566\n"
     ]
    },
    {
     "name": "stderr",
     "output_type": "stream",
     "text": [
      "INFO:__main__:Train Epoch: 1 [36000/44500 (81%)]\tLoss: 1.613894\n"
     ]
    },
    {
     "name": "stdout",
     "output_type": "stream",
     "text": [
      "[2,     4] loss: 1.533\n",
      "Finished Training epoch:1\n",
      "Epoch 2\n"
     ]
    },
    {
     "name": "stderr",
     "output_type": "stream",
     "text": [
      "INFO:__main__:Train Epoch: 2 [0/44500 (0%)]\tLoss: 1.247704\n"
     ]
    },
    {
     "name": "stdout",
     "output_type": "stream",
     "text": [
      "[3,     4] loss: 1.427\n"
     ]
    },
    {
     "name": "stderr",
     "output_type": "stream",
     "text": [
      "INFO:__main__:Train Epoch: 2 [12000/44500 (27%)]\tLoss: 1.523397\n"
     ]
    },
    {
     "name": "stdout",
     "output_type": "stream",
     "text": [
      "[3,     4] loss: 1.401\n"
     ]
    },
    {
     "name": "stderr",
     "output_type": "stream",
     "text": [
      "INFO:__main__:Train Epoch: 2 [24000/44500 (54%)]\tLoss: 2.152621\n"
     ]
    },
    {
     "name": "stdout",
     "output_type": "stream",
     "text": [
      "[3,     4] loss: 1.388\n",
      "[3,     4] loss: 1.372\n"
     ]
    },
    {
     "name": "stderr",
     "output_type": "stream",
     "text": [
      "INFO:__main__:Train Epoch: 2 [36000/44500 (81%)]\tLoss: 1.466660\n"
     ]
    },
    {
     "name": "stdout",
     "output_type": "stream",
     "text": [
      "[3,     4] loss: 1.339\n",
      "Finished Training epoch:2\n",
      "Epoch 3\n"
     ]
    },
    {
     "name": "stderr",
     "output_type": "stream",
     "text": [
      "INFO:__main__:Train Epoch: 3 [0/44500 (0%)]\tLoss: 1.224162\n"
     ]
    },
    {
     "name": "stdout",
     "output_type": "stream",
     "text": [
      "[4,     4] loss: 1.275\n"
     ]
    },
    {
     "name": "stderr",
     "output_type": "stream",
     "text": [
      "INFO:__main__:Train Epoch: 3 [12000/44500 (27%)]\tLoss: 1.189138\n"
     ]
    },
    {
     "name": "stdout",
     "output_type": "stream",
     "text": [
      "[4,     4] loss: 1.268\n"
     ]
    },
    {
     "name": "stderr",
     "output_type": "stream",
     "text": [
      "INFO:__main__:Train Epoch: 3 [24000/44500 (54%)]\tLoss: 0.513343\n"
     ]
    },
    {
     "name": "stdout",
     "output_type": "stream",
     "text": [
      "[4,     4] loss: 1.227\n",
      "[4,     4] loss: 1.242\n"
     ]
    },
    {
     "name": "stderr",
     "output_type": "stream",
     "text": [
      "INFO:__main__:Train Epoch: 3 [36000/44500 (81%)]\tLoss: 2.033674\n"
     ]
    },
    {
     "name": "stdout",
     "output_type": "stream",
     "text": [
      "[4,     4] loss: 1.223\n",
      "Finished Training epoch:3\n"
     ]
    },
    {
     "data": {
      "image/png": "iVBORw0KGgoAAAANSUhEUgAAAX4AAAD8CAYAAABw1c+bAAAABHNCSVQICAgIfAhkiAAAAAlwSFlz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\nDbgAAAAASUVORK5CYII=\n",
      "text/plain": [
       "<matplotlib.figure.Figure at 0x7f01b1a9afd0>"
      ]
     },
     "metadata": {},
     "output_type": "display_data"
    }
   ],
   "source": [
    "import torch\n",
    "import torch.nn as nn\n",
    "import torch.nn.functional as F\n",
    "import torch.optim as optim\n",
    "from torchvision import datasets, transforms\n",
    "from torch.autograd import Variable\n",
    "\n",
    "loss_history = []\n",
    "acc_history = []\n",
    "\n",
    "def train(epoch):\n",
    "    model.train()\n",
    "    running_loss = 0.0\n",
    "    for batch_idx, (data, target) in enumerate(train_loader): #  \n",
    "        # torch.LongTensor of size BATCH_SIZE\n",
    "        # [torch.FloatTensor of size 4x3x32x32] BATCH_SIZE* IMAGE SIZE\n",
    "        if use_cuda:\n",
    "            data, target = Variable(data.cuda(async=True)), Variable(target.cuda(async=True)) # On GPU                \n",
    "        else:            \n",
    "            data, target = Variable(data), Variable(target) \n",
    "            # You will get RuntimeError: expected CPU tensor (got CUDA tensor) if you dont do this \n",
    "        optimizer.zero_grad()        \n",
    "        outputs = model(data)\n",
    "        if use_cuda:\n",
    "#             loss = criterion(outputs, target).cuda() \n",
    "            loss = F.nll_loss(outputs, target).cuda() \n",
    "             \n",
    "        else:\n",
    "#             loss = criterion(outputs, target)\n",
    "            loss = F.nll_loss(outputs, target) \n",
    "\n",
    "        loss.backward()\n",
    "        optimizer.step()        \n",
    "        running_loss += loss.data[0]\n",
    "        if batch_idx % 2000 == 1999:    # print every 2000 mini-batches\n",
    "            print('[%d, %5d] loss: %.3f' % (epoch + 1, i + 1, running_loss / 2000))\n",
    "            loss_history.append(running_loss / 2000)\n",
    "            running_loss = 0.0\n",
    "            \n",
    "        if batch_idx % 3000 == 0:\n",
    "            loss_history.append(loss.data[0])\n",
    "            lgr.info('Train Epoch: {} [{}/{} ({:.0f}%)]\\tLoss: {:.6f}'.format(\n",
    "            epoch, batch_idx * len(data), len(train_loader.dataset),\n",
    "            100. * batch_idx / len(train_loader), loss.data[0]))       \n",
    "            \n",
    "start_time = time.time()    \n",
    "\n",
    "for epoch in range(1, 4):\n",
    "    print(\"Epoch %d\" % epoch)\n",
    "    train(epoch)    \n",
    "    print('Finished Training epoch:' + str(epoch))\n",
    "end_time = time.time()\n",
    "\n",
    "%matplotlib inline\n",
    "import matplotlib.pyplot as plt\n",
    "plt.plot(loss_history)\n",
    "plt.show()"
   ]
  },
  {
   "cell_type": "code",
   "execution_count": 142,
   "metadata": {},
   "outputs": [
    {
     "name": "stdout",
     "output_type": "stream",
     "text": [
      "Epoch 0\n",
      "\n",
      "Test set: Average loss: 1.2835, Accuracy: 2988/5501 (54%)\n",
      "\n"
     ]
    }
   ],
   "source": [
    "def test(epoch):\n",
    "    model.eval() # set model in inference mode (need this because of dropout)\n",
    "    test_loss = 0\n",
    "    correct = 0\n",
    "     \n",
    "    for data, target in val_loader:\n",
    "        if use_cuda:\n",
    "            data, target = Variable(data.cuda(async=True), volatile=True), Variable(target.cuda(async=True)) # On GPU                \n",
    "        else:            \n",
    "            data, target = Variable(data), Variable(target)            \n",
    "         \n",
    "        output = model(data)\n",
    "        test_loss += F.nll_loss(output, target).data[0]\n",
    "#         test_loss += criterion(output, target).data[0]\n",
    "        \n",
    "        pred = output.data.max(1)[1] # get the index of the max log-probability\n",
    "        correct += pred.eq(target.data).cpu().sum()\n",
    " \n",
    "    test_loss = test_loss\n",
    "    test_loss /= len(val_loader) # loss function already averages over batch size\n",
    "    accuracy = 100. * correct / len(val_loader.dataset)\n",
    "    acc_history.append(accuracy)\n",
    "    print('\\nTest set: Average loss: {:.4f}, Accuracy: {}/{} ({:.0f}%)\\n'.format(\n",
    "        test_loss, correct, len(val_loader.dataset),\n",
    "        accuracy))\n",
    "    \n",
    "    \n",
    "for epoch in range(0, 1):\n",
    "    print(\"Epoch %d\" % epoch)    \n",
    "    test(epoch)    "
   ]
  },
  {
   "cell_type": "code",
   "execution_count": null,
   "metadata": {
    "collapsed": true,
    "slideshow": {
     "slide_type": "skip"
    }
   },
   "outputs": [],
   "source": [
    "%%bash\n",
    "jupyter nbconvert \\\n",
    "    --to=slides \\\n",
    "    --reveal-prefix=https://cdnjs.cloudflare.com/ajax/libs/reveal.js/3.2.0/ \\\n",
    "    --output=py09.html \\\n",
    "    './09 PyTorch Kaggle Image Data-set loading with CNN'"
   ]
  },
  {
   "cell_type": "code",
   "execution_count": null,
   "metadata": {
    "collapsed": true
   },
   "outputs": [],
   "source": []
  }
 ],
 "metadata": {
  "celltoolbar": "Slideshow",
  "kernelspec": {
   "display_name": "Python 2",
   "language": "python",
   "name": "python2"
  },
  "language_info": {
   "codemirror_mode": {
    "name": "ipython",
    "version": 2
   },
   "file_extension": ".py",
   "mimetype": "text/x-python",
   "name": "python",
   "nbconvert_exporter": "python",
   "pygments_lexer": "ipython2",
 