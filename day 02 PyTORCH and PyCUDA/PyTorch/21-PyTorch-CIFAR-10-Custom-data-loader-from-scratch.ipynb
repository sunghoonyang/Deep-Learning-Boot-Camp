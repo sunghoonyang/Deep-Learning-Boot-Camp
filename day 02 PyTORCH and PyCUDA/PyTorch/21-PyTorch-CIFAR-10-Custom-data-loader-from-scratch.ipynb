{
 "cells": [
  {
   "cell_type": "markdown",
   "metadata": {
    "slideshow": {
     "slide_type": "slide"
    }
   },
   "source": [
    "# Deep Learning Bootcamp November 2017, GPU Computing for Data Scientists\n",
    "\n",
    "<img src=\"../images/bcamp.png\" align=\"center\">\n",
    "\n",
    "## 21 PyTorch CIFAR-10 Custom data loader from scratch\n",
    "\n",
    "Web: https://www.meetup.com/Tel-Aviv-Deep-Learning-Bootcamp/events/241762893/\n",
    "\n",
    "Notebooks: <a href=\"https://github.com/QuantScientist/Data-Science-PyCUDA-GPU\"> On GitHub</a>\n",
    "\n",
    "*Shlomo Kashani*\n",
    "\n",
    "<img src=\"../images/pt.jpg\" width=\"35%\" align=\"center\">\n",
    "\n",
    "#### References:\n",
    "\n",
    "- http://pytorch.org/tutorials/beginner/transfer_learning_tutorial.html\n",
    "\n",
    "- https://www.bountysource.com/issues/44576966-a-tutorial-on-writing-custom-datasets-samplers-and-using-transforms\n",
    "\n",
    "- https://medium.com/towards-data-science/my-first-kaggle-competition-9d56d4773607\n",
    "\n",
    "- https://github.com/sohyongsheng/kaggle-planet-forest\n",
    "\n",
    "- https://github.com/rwightman/pytorch-planet-amazon/blob/master/dataset.py\n",
    "\n",
    "#### For this to work:\n",
    "- Download data from https://www.kaggle.com/c/cifar-10/data\n",
    "- **Remove headers** from the CSV BEFORE running this code\n",
    "- in the images training folder **copy 1.png to 0.png** and add **the same label** inside training labels. \n",
    "\n",
    "- https://github.com/MorvanZhou/PyTorch-Tutorial/blob/master/tutorial-contents/401_CNN.py\n"
   ]
  },
  {
   "cell_type": "markdown",
   "metadata": {
    "collapsed": true,
    "slideshow": {
     "slide_type": "slide"
    }
   },
   "source": [
    "# PyTorch Imports\n"
   ]
  },
  {
   "cell_type": "code",
   "execution_count": 41,
   "metadata": {
    "slideshow": {
     "slide_type": "-"
    }
   },
   "outputs": [
    {
     "name": "stdout",
     "output_type": "stream",
     "text": [
      "tensorflow:1.2.1\n",
      "__Python VERSION: 2.7.12 (default, Nov 19 2016, 06:48:10) \n",
      "[GCC 5.4.0 20160609]\n",
      "__pyTorch VERSION: 0.1.12+4eb448a\n",
      "__CUDA VERSION\n",
      "__CUDNN VERSION: 5110\n",
      "__Number CUDA Devices: 0\n",
      "__Devices\n"
     ]
    }
   ],
   "source": [
    "# !pip install pycuda\n",
    "%reset -f\n",
    "import numpy\n",
    "import numpy as np\n",
    "from __future__ import print_function\n",
    "from __future__ import division\n",
    "import math\n",
    "import numpy as np\n",
    "import matplotlib.pyplot as plt\n",
    "%matplotlib inline\n",
    "import pandas as pd\n",
    "import os\n",
    "import torch\n",
    "from torch.utils.data.dataset import Dataset\n",
    "from torch.utils.data import DataLoader\n",
    "from torchvision import transforms\n",
    "from torch import nn\n",
    "import torch.nn.functional as F\n",
    "import torch.optim as optim\n",
    "from torch.autograd import Variable\n",
    "from sklearn.preprocessing import MultiLabelBinarizer\n",
    "import time\n",
    "%matplotlib inline\n",
    "from pylab import rcParams\n",
    "rcParams['figure.figsize'] = (6, 6)      # setting default size of plots\n",
    "import tensorflow as tf \n",
    "print(\"tensorflow:\" + tf.__version__)\n",
    "!set \"KERAS_BACKEND=tensorflow\"\n",
    "import torch\n",
    "import sys\n",
    "print('__Python VERSION:', sys.version)\n",
    "print('__pyTorch VERSION:', torch.__version__)\n",
    "print('__CUDA VERSION')\n",
    "from subprocess import call\n",
    "print('__CUDNN VERSION:', torch.backends.cudnn.version())\n",
    "print('__Number CUDA Devices:', torch.cuda.device_count())\n",
    "print('__Devices')\n",
    "# !pip install http://download.pytorch.org/whl/cu75/torch-0.2.0.post1-cp27-cp27mu-manylinux1_x86_64.whl\n",
    "# !pip install torchvision \n",
    "# ! pip install cv2\n",
    "# import cv2\n",
    "import logging\n",
    "handler=logging.basicConfig(level=logging.INFO)\n",
    "lgr = logging.getLogger(__name__)\n"
   ]
  },
  {
   "cell_type": "code",
   "execution_count": 42,
   "metadata": {},
   "outputs": [
    {
     "name": "stdout",
     "output_type": "stream",
     "text": [
      "Collecting intel-gpu-tools\n",
      "\u001b[31m  Could not find a version that satisfies the requirement intel-gpu-tools (from versions: )\u001b[0m\n",
      "\u001b[31mNo matching distribution found for intel-gpu-tools\u001b[0m\n",
      "\u001b[33mYou are using pip version 8.1.1, however version 9.0.1 is available.\n",
      "You should consider upgrading via the 'pip install --upgrade pip' command.\u001b[0m\n",
      "Requirement already satisfied (use --upgrade to upgrade): snakeviz in /usr/local/lib/python2.7/dist-packages\n",
      "Requirement already satisfied (use --upgrade to upgrade): tornado>=2.0 in /usr/local/lib/python2.7/dist-packages (from snakeviz)\n",
      "Requirement already satisfied (use --upgrade to upgrade): singledispatch in /usr/local/lib/python2.7/dist-packages (from tornado>=2.0->snakeviz)\n",
      "Requirement already satisfied (use --upgrade to upgrade): certifi in /usr/local/lib/python2.7/dist-packages (from tornado>=2.0->snakeviz)\n",
      "Requirement already satisfied (use --upgrade to upgrade): backports_abc>=0.4 in /usr/local/lib/python2.7/dist-packages (from tornado>=2.0->snakeviz)\n",
      "Requirement already satisfied (use --upgrade to upgrade): six in /usr/lib/python2.7/dist-packages (from singledispatch->tornado>=2.0->snakeviz)\n",
      "\u001b[33mYou are using pip version 8.1.1, however version 9.0.1 is available.\n",
      "You should consider upgrading via the 'pip install --upgrade pip' command.\u001b[0m\n",
      "Requirement already satisfied (use --upgrade to upgrade): runsnakerun in /usr/local/lib/python2.7/dist-packages\n",
      "Requirement already satisfied (use --upgrade to upgrade): SquareMap>=1.0.3 in /usr/local/lib/python2.7/dist-packages (from runsnakerun)\n",
      "\u001b[33mYou are using pip version 8.1.1, however version 9.0.1 is available.\n",
      "You should consider upgrading via the 'pip install --upgrade pip' command.\u001b[0m\n"
     ]
    }
   ],
   "source": [
    "# Torch CPU\n",
    "# !pip install http://download.pytorch.org/whl/cu75/torch-0.2.0.post1-cp27-cp27mu-manylinux1_x86_64.whl\n",
    "# !pip install torchvision \n",
    "\n",
    "! pip install intel-gpu-tools\n",
    "! pip install snakeviz\n",
    "! pip install runsnakerun\n",
    "\n",
    "# python -m cProfile -o out.prof mycode.py"
   ]
  },
  {
   "cell_type": "markdown",
   "metadata": {
    "collapsed": true,
    "slideshow": {
     "slide_type": "slide"
    }
   },
   "source": [
    "## CUDA Trick"
   ]
  },
  {
   "cell_type": "code",
   "execution_count": 43,
   "metadata": {},
   "outputs": [],
   "source": [
    "use_cuda = torch.cuda.is_available()\n",
    "# use_cuda = False\n",
    "\n",
    "FloatTensor = torch.cuda.FloatTensor if use_cuda else torch.FloatTensor\n",
    "LongTensor = torch.cuda.LongTensor if use_cuda else torch.LongTensor\n",
    "Tensor = FloatTensor\n",
    "\n",
    "# ! watch -n 1 nvidia-smi\n",
    "# ! nvidia-smi -l 1\n",
    "\n",
    "# nvidia-settings -q GPUUtilization -q useddedicatedgpumemory\n",
    "# You can also use:\n",
    "#! watch -n0.1 \"nvidia-settings -q GPUUtilization -q useddedicatedgpumemory\"\n",
    "\n",
    "# ! pip install git+https://github.com/wookayin/gpustat.git@master\n",
    "    \n",
    "# ! watch --color -n1.0 gpustat\n",
    "# ! gpustat\n",
    "# ! watch -n 5 nvidia-smi --format=csv --query-gpu=power.draw,utilization.gpu,fan.speed,temperature.gpu"
   ]
  },
  {
   "cell_type": "markdown",
   "metadata": {
    "collapsed": true,
    "slideshow": {
     "slide_type": "slide"
    }
   },
   "source": [
    "# Setting up global variables\n",
    "\n",
    "- Root folder\n",
    "- Image folder\n",
    "- Image Label folder"
   ]
  },
  {
   "cell_type": "code",
   "execution_count": 44,
   "metadata": {},
   "outputs": [
    {
     "name": "stdout",
     "output_type": "stream",
     "text": [
      "Filesystem     1K-blocks      Used Available Use% Mounted on\r\n",
      "none           894819992 226115968 623226752  27% /\r\n",
      "tmpfs           32943896         0  32943896   0% /dev\r\n",
      "tmpfs           32943896         0  32943896   0% /sys/fs/cgroup\r\n",
      "/dev/sda2      894819992 226115968 623226752  27% /root/data\r\n",
      "shm                65536      1304     64232   2% /dev/shm\r\n",
      "tmpfs           32943896         0  32943896   0% /sys/firmware\r\n"
     ]
    }
   ],
   "source": [
    "! df -k\n",
    "\n",
    "DATA_ROOT ='/root/data/cifar/'\n",
    "IMG_PATH = DATA_ROOT + '/train/'\n",
    "IMG_EXT = '.png'\n",
    "IMG_DATA_LABELS = DATA_ROOT + '/trainLabels.csv'\n",
    "\n",
    "classes = ('plane', 'car', 'bird', 'cat',\n",
    "           'deer', 'dog', 'frog', 'horse', 'ship', 'truck')"
   ]
  },
  {
   "cell_type": "markdown",
   "metadata": {
    "collapsed": true,
    "slideshow": {
     "slide_type": "slide"
    }
   },
   "source": [
    "# Global parameters"
   ]
  },
  {
   "cell_type": "code",
   "execution_count": 45,
   "metadata": {
    "collapsed": true
   },
   "outputs": [],
   "source": [
    "DROPOUT_PROB = 0.85\n",
    "N_EPOCHS = 50\n",
    "BATCH_SIZE = 4\n",
    "LR = 0.005\n",
    "TEST_RATIO = .22\n",
    "MOMENTUM= 0.9\n",
    "\n",
    "PIN_MEMORY=use_cuda # True IF CUDA\n",
    "\n",
    "# p is the probability of being dropped in PyTorch\n",
    "dropout = torch.nn.Dropout(p=1 - DROPOUT_PROB)\n",
    "\n",
    "# fix seed\n",
    "seed=17*19\n",
    "np.random.seed(seed)\n",
    "torch.manual_seed(seed)\n",
    "if use_cuda:\n",
    "    torch.cuda.manual_seed(seed)"
   ]
  },
  {
   "cell_type": "markdown",
   "metadata": {
    "collapsed": true,
    "slideshow": {
     "slide_type": "slide"
    }
   },
   "source": [
    "# The Torch transforms.ToTensor() methood\n",
    "\n",
    "- Converts: a PIL.Image or numpy.ndarray (H x W x C) in the range [0, 255] to a torch.FloatTensor of shape (C x H x W) in the range [0.0, 1.0]."
   ]
  },
  {
   "cell_type": "code",
   "execution_count": 46,
   "metadata": {
    "collapsed": true
   },
   "outputs": [],
   "source": [
    "transformations = transforms.Compose([transforms.ToTensor()])\n",
    "# transformations = transforms.Compose([transforms.Scale(32),transforms.ToTensor()])\n",
    "\n",
    "# transformations=transforms.Compose([transforms.Scale(32),transforms.ToTensor(),\n",
    "#                               transforms.Normalize((0.5, 0.5, 0.5), (0.5, 0.5, 0.5)),\n",
    "#                              ])\n",
    "\n",
    "# transformations=transforms.Compose([transforms.Scale(32), transforms.ToTensor(), # first, convert image to PyTorch tensor\n",
    "# transforms.Normalize((0.1307,), (0.3081,)) # normalize inputs\n",
    "#                                                           ]) \n",
    "\n",
    "transform_train = transforms.Compose([\n",
    "    transforms.RandomCrop(32, padding=4),\n",
    "    transforms.RandomHorizontalFlip(),\n",
    "    transforms.ToTensor(),\n",
    "    transforms.Normalize((0.4914, 0.4822, 0.4465), (0.2023, 0.1994, 0.2010)),\n",
    "])\n",
    "\n",
    "transform_test = transforms.Compose([\n",
    "    transforms.ToTensor(),\n",
    "    transforms.Normalize((0.4914, 0.4822, 0.4465), (0.2023, 0.1994, 0.2010)),\n",
    "])"
   ]
  },
  {
   "cell_type": "markdown",
   "metadata": {
    "collapsed": true,
    "slideshow": {
     "slide_type": "slide"
    }
   },
   "source": [
    "# The Torch Dataset Class"
   ]
  },
  {
   "cell_type": "code",
   "execution_count": 47,
   "metadata": {
    "collapsed": true,
    "slideshow": {
     "slide_type": "-"
    }
   },
   "outputs": [],
   "source": [
    "try:\n",
    "    from PIL import Image\n",
    "except ImportError:\n",
    "    import Image\n",
    "\n",
    "from sklearn.preprocessing import LabelEncoder\n",
    "from sklearn.pipeline import Pipeline\n",
    "from collections import defaultdict\n",
    "\n",
    "\n",
    "class GenericImageDataset(Dataset):    \n",
    "    def __init__(self, csv_path, img_path, img_ext, tSet=True):                \n",
    "        t = time.time()        \n",
    "        lgr.info('CSV path {}'.format(csv_path))\n",
    "        lgr.info('IMG path {}'.format(img_path))                \n",
    "        assert img_ext in ['.png']\n",
    "        \n",
    "        self.tSet=tSet\n",
    "        tmp_df = pd.read_csv(csv_path, header=None) # I manually removed the header\n",
    "        \n",
    "        self.img_path = img_path\n",
    "        self.img_ext = img_ext        \n",
    "        \n",
    "        # Encoding the variables\n",
    "        d = defaultdict(LabelEncoder)\n",
    "        tmp_df = tmp_df.apply(lambda x: d[x.name].fit_transform(x))\n",
    "        \n",
    "        lgr.info(\"DF CSV:\\n\" + str (tmp_df.head(5)))\n",
    "            \n",
    "        self.X_train = tmp_df[0]                \n",
    "        self.y_train = tmp_df[1]\n",
    "        \n",
    "        lgr.info(\"DF X_train:\\n\" + str (self.X_train.head(5)))\n",
    "        lgr.info (\"DF y_train:\\n\" + str(self.y_train.head(5)))        \n",
    "        lgr.info('[*] Dataset loading time {}'.format(time.time() - t))\n",
    "        lgr.info('[*] Data size is {}'.format(len(self)))\n",
    "\n",
    "    def __getitem__(self, index):\n",
    "        \n",
    "        path=self.img_path + str(self.X_train[index]) + self.img_ext            \n",
    "        img = Image.open(path)\n",
    "        if self.tSet==True:\n",
    "            self.transform=transform_train\n",
    "        else:\n",
    "            self.transform=transform_test            \n",
    "        img = self.transform(img)            \n",
    "#         label = self.y_train[index]\n",
    "        label = (self.y_train[index])\n",
    "#         lgr.info (\"__getitem__:\" + str(index) + \" Label:\" + str(label))\n",
    "        return img, label\n",
    "\n",
    "    def __len__(self):\n",
    "        l=len(self.X_train.index)\n",
    "        return (l)       \n",
    "\n",
    "    @staticmethod        \n",
    "    def imshow(img):\n",
    "        img = img / 2 + 0.5     # unnormalize\n",
    "        npimg = img.numpy()\n",
    "        plt.imshow(np.transpose(npimg, (1, 2, 0)))\n",
    "\n",
    "    @staticmethod    \n",
    "    def flaotTensorToImage(img, mean=0, std=1):\n",
    "        \"\"\"convert a tensor to an image\"\"\"\n",
    "        img = np.transpose(img.numpy(), (1, 2, 0))\n",
    "        img = (img*std+ mean)*255\n",
    "        img = img.astype(np.uint8)    \n",
    "        return img    \n",
    "    \n",
    "    @staticmethod\n",
    "    def toTensor(img):\n",
    "        \"\"\"convert a numpy array of shape HWC to CHW tensor\"\"\"\n",
    "        img = img.transpose((2, 0, 1)).astype(np.float32)\n",
    "        tensor = torch.from_numpy(img).float()\n",
    "        return tensor/255.0"
   ]
  },
  {
   "cell_type": "code",
   "execution_count": 48,
   "metadata": {
    "slideshow": {
     "slide_type": "-"
    }
   },
   "outputs": [
    {
     "name": "stderr",
     "output_type": "stream",
     "text": [
      "INFO:__main__:CSV path /root/data/cifar//trainLabels.csv\n",
      "INFO:__main__:IMG path /root/data/cifar//train/\n",
      "INFO:__main__:DF CSV:\n",
      "   0  1\n",
      "0  0  6\n",
      "1  1  6\n",
      "2  2  9\n",
      "3  3  9\n",
      "4  4  4\n",
      "INFO:__main__:DF X_train:\n",
      "0    0\n",
      "1    1\n",
      "2    2\n",
      "3    3\n",
      "4    4\n",
      "Name: 0, dtype: int64\n",
      "INFO:__main__:DF y_train:\n",
      "0    6\n",
      "1    6\n",
      "2    9\n",
      "3    9\n",
      "4    4\n",
      "Name: 1, dtype: int64\n",
      "INFO:__main__:[*] Dataset loading time 0.0440571308136\n",
      "INFO:__main__:[*] Data size is 50001\n"
     ]
    }
   ],
   "source": [
    "dset_train = GenericImageDataset(IMG_DATA_LABELS,\n",
    "                                 IMG_PATH,\n",
    "                                 IMG_EXT,tSet=True)\n",
    "\n",
    "# dset_train = GenericImageDataset(IMG_DATA_LABELS,\n",
    "#                                  IMG_PATH,\n",
    "#                                  IMG_EXT,transformations)"
   ]
  },
  {
   "cell_type": "markdown",
   "metadata": {
    "collapsed": true,
    "slideshow": {
     "slide_type": "slide"
    }
   },
   "source": [
    "# Train Validation Split\n",
    "\n",
    "- Since there is no train_test_split method in PyTorcj, we have to split a TRAINNING dataset into training and validation sets."
   ]
  },
  {
   "cell_type": "code",
   "execution_count": 49,
   "metadata": {
    "collapsed": true
   },
   "outputs": [],
   "source": [
    "class FullTrainingDataset(torch.utils.data.Dataset):\n",
    "    def __init__(self, full_ds, offset, length):\n",
    "        self.full_ds = full_ds\n",
    "        self.offset = offset\n",
    "        self.length = length\n",
    "        assert len(full_ds)>=offset+length, Exception(\"Parent Dataset not long enough\")\n",
    "        super(FullTrainingDataset, self).__init__()\n",
    "        \n",
    "    def __len__(self):\n",
    "        return self.length\n",
    "    \n",
    "    def __getitem__(self, i):\n",
    "        return self.full_ds[i+self.offset]\n",
    "    \n",
    "def trainTestSplit(dataset, val_share=TEST_RATIO):\n",
    "    val_offset = int(len(dataset)*(1-val_share))\n",
    "    return FullTrainingDataset(dataset, 0, val_offset), FullTrainingDataset(dataset, val_offset, len(dataset)-val_offset)\n",
    "\n",
    " \n",
    "train_ds, val_ds = trainTestSplit(dset_train)\n",
    "\n",
    "train_loader = torch.utils.data.DataLoader(train_ds, batch_size=BATCH_SIZE, \n",
    "                                           shuffle=True, num_workers=1,pin_memory=PIN_MEMORY)\n",
    "\n",
    "val_loader = torch.utils.data.DataLoader(val_ds, batch_size=BATCH_SIZE, shuffle=True, num_workers=1,\n",
    "                                        pin_memory=PIN_MEMORY)"
   ]
  },
  {
   "cell_type": "markdown",
   "metadata": {
    "collapsed": true,
    "slideshow": {
     "slide_type": "slide"
    }
   },
   "source": [
    "# Mean and STD"
   ]
  },
  {
   "cell_type": "code",
   "execution_count": 50,
   "metadata": {
    "collapsed": true,
    "slideshow": {
     "slide_type": "-"
    }
   },
   "outputs": [],
   "source": [
    "# Test the DataLoader Class\n",
    "\n",
    "def get_mean_and_std(dataset):\n",
    "    '''Compute the mean and std value of dataset.'''\n",
    "    dataloader = torch.utils.data.DataLoader(dataset, batch_size=1, shuffle=True, num_workers=2)\n",
    "    mean = torch.zeros(3)\n",
    "    std = torch.zeros(3)\n",
    "    print('==> Computing mean and std..')\n",
    "    for inputs, targets in dataloader:\n",
    "        for i in range(3):\n",
    "            mean[i] += inputs[:,i,:,:].mean()\n",
    "            std[i] += inputs[:,i,:,:].std()\n",
    "    mean.div_(len(dataset))\n",
    "    std.div_(len(dataset))\n",
    "    return mean, std\n",
    "\n",
    "# get_mean_and_std(train_ds)\n",
    "\n",
    "# ==> Computing mean and std..\n",
    "# Out[101]:\n",
    "# (\n",
    "#   0.4913\n",
    "#   0.4819\n",
    "#   0.4459\n",
    "#  [torch.FloatTensor of size 3], \n",
    "#   0.2026\n",
    "#   0.1996\n",
    "#   0.2009\n",
    "#  [torch.FloatTensor of size 3])"
   ]
  },
  {
   "cell_type": "markdown",
   "metadata": {
    "collapsed": true,
    "slideshow": {
     "slide_type": "slide"
    }
   },
   "source": [
    "# Test the DataLoader Class"
   ]
  },
  {
   "cell_type": "code",
   "execution_count": 51,
   "metadata": {},
   "outputs": [
    {
     "name": "stderr",
     "output_type": "stream",
     "text": [
      "INFO:__main__:i=0: \n",
      "INFO:__main__:i=1: \n",
      "INFO:__main__:i=2: \n",
      "INFO:__main__:i=3: \n"
     ]
    },
    {
     "data": {
      "image/png": "[encoded data removed]",
      "text/plain": [
       "<matplotlib.figure.Figure at 0x7f15245cbc10>"
      ]
     },
     "metadata": {},
     "output_type": "display_data"
    }
   ],
   "source": [
    "imagesToShow=4\n",
    "\n",
    "for i, data in enumerate(train_loader, 0):\n",
    "    lgr.info('i=%d: '%(i))            \n",
    "    images, labels = data            \n",
    "    num = len(images)\n",
    "    \n",
    "    ax = plt.subplot(1, imagesToShow, i + 1)\n",
    "    plt.tight_layout()\n",
    "    ax.set_title('Sample #{}'.format(i))\n",
    "    ax.axis('off')\n",
    "    \n",
    "    for n in range(num):\n",
    "        image=images[n]\n",
    "        label=labels[n]\n",
    "        plt.imshow (GenericImageDataset.flaotTensorToImage(image))\n",
    "        \n",
    "    if i==imagesToShow-1:\n",
    "        break    "
   ]
  },
  {
   "cell_type": "code",
   "execution_count": 52,
   "metadata": {},
   "outputs": [
    {
     "name": "stderr",
     "output_type": "stream",
     "text": [
      "INFO:__main__:i=0: \n",
      "INFO:__main__:i=1: \n",
      "INFO:__main__:i=2: \n",
      "INFO:__main__:i=3: \n"
     ]
    },
    {
     "data": {
      "image/png": "[encoded data removed]",
      "text/plain": [
       "<matplotlib.figure.Figure at 0x7f15258b93d0>"
      ]
     },
     "metadata": {},
     "output_type": "display_data"
    }
   ],
   "source": [
    "for i, data in enumerate(val_loader, 0):\n",
    "    lgr.info('i=%d: '%(i))            \n",
    "    images, labels = data            \n",
    "    num = len(images)\n",
    "    \n",
    "    ax = plt.subplot(1, imagesToShow, i + 1)\n",
    "    plt.tight_layout()\n",
    "    ax.set_title('Sample #{}'.format(i))\n",
    "    ax.axis('off')\n",
    "    \n",
    "    for n in range(num):\n",
    "        image=images[n]\n",
    "        label=labels[n]\n",
    "        plt.imshow (GenericImageDataset.flaotTensorToImage(image))\n",
    "        \n",
    "    if i==imagesToShow-1:\n",
    "        break    "
   ]
  },
  {
   "cell_type": "markdown",
   "metadata": {
    "collapsed": true,
    "slideshow": {
     "slide_type": "slide"
    }
   },
   "source": [
    "# The NN model\n",
    "\n",
    "###  Initial weights selection\n",
    "\n",
    "- There are many ways to select the initial weights to a neural network architecture. A common initialization scheme is random initialization, which sets the biases and weights of all the nodes in each hidden layer randomly, so they are in a random point of the space, and objective function, and then find a nearby local minima using an algorithm like SGD or Adam.\n",
    "- We use a *xavier initializer*, in effect (according to theory) initializing the weights of the network to values that would be closer to the optimal, and therefore require less epochs to train.\n",
    "\n",
    "### References: \n",
    "* **`nninit.xavier_uniform(tensor, gain=1)`** - Fills `tensor` with values according to the method described in [\"Understanding the difficulty of training deep feedforward neural networks\" - Glorot, X. and Bengio, Y.](http://jmlr.org/proceedings/papers/v9/glorot10a/glorot10a.pdf), using a uniform distribution.\n",
    "* **`nninit.xavier_normal(tensor, gain=1)`** - Fills `tensor` with values according to the method described in [\"Understanding the difficulty of training deep feedforward neural networks\" - Glorot, X. and Bengio, Y.](http://jmlr.org/proceedings/papers/v9/glorot10a/glorot10a.pdf), using a normal distribution.\n",
    "* **`nninit.kaiming_uniform(tensor, gain=1)`** - Fills `tensor` with values according to the method described in [\"Delving deep into rectifiers: Surpassing human-level performance on ImageNet classification\" - He, K. et al.](https://arxiv.org/abs/1502.01852) using a uniform distribution.\n",
    "* **`nninit.kaiming_normal(tensor, gain=1)`** - Fills `tensor` with values according to the method described in [\"Delving deep into rectifiers: Surpassing human-level performance on ImageNet classification\" - He, K. et al.]\n"
   ]
  },
  {
   "cell_type": "code",
   "execution_count": 53,
   "metadata": {},
   "outputs": [
    {
     "name": "stderr",
     "output_type": "stream",
     "text": [
      "INFO:__main__:Using the CPU\n",
      "INFO:__main__:Model Net (\n",
      "  (conv1): Conv2d(3, 6, kernel_size=(5, 5), stride=(1, 1))\n",
      "  (pool): MaxPool2d (size=(2, 2), stride=(2, 2), dilation=(1, 1))\n",
      "  (conv2): Conv2d(6, 16, kernel_size=(5, 5), stride=(1, 1))\n",
      "  (fc1): Linear (400 -> 120)\n",
      "  (fc2): Linear (120 -> 84)\n",
      "  (fc3): Linear (84 -> 10)\n",
      ")\n"
     ]
    }
   ],
   "source": [
    "class Net(nn.Module):\n",
    "    def __init__(self,initKernel='uniform'):\n",
    "        super(Net, self).__init__()\n",
    "        self.conv1 = nn.Conv2d(3, 6, 5)\n",
    "        self.pool = nn.MaxPool2d(2, 2)\n",
    "        self.conv2 = nn.Conv2d(6, 16, 5)\n",
    "        self.fc1 = nn.Linear(16 * 5 * 5, 120)\n",
    "        self.fc2 = nn.Linear(120, 84)\n",
    "        self.fc3 = nn.Linear(84, 10)\n",
    "        \n",
    "         # xavier initializer\n",
    "        if initKernel == 'uniform':\n",
    "            nn.init.xavier_uniform(self.conv1.weight, gain=np.sqrt(2.0))\n",
    "#             nn.init.xavier_uniform(self.conv2.weight, gain=np.sqrt(2.0))\n",
    "        else:\n",
    "            nn.init.kaiming_normal(self.conv1.weight)   \n",
    "#             nn.init.kaiming_normal(self.conv2.weight)   \n",
    "        \n",
    "    def forward(self, x):\n",
    "        x = self.pool(F.relu(self.conv1(x)))\n",
    "        x = self.pool(F.relu(self.conv2(x)))\n",
    "        x = x.view(-1, 16 * 5 * 5)\n",
    "        x = F.relu(self.fc1(x))\n",
    "        x = F.relu(self.fc2(x))\n",
    "        x = self.fc3(x)\n",
    "        return x      \n",
    "    \n",
    "# class Net(nn.Module):\n",
    "#     def __init__(self):\n",
    "#         super(Net, self).__init__()\n",
    "#         self.conv1 = nn.Conv2d(3, 32, kernel_size=3, padding=1)\n",
    "#         self.conv2 = nn.Conv2d(32, 64, kernel_size=3, padding=1)\n",
    "#         self.conv3 = nn.Conv2d(64, 64, kernel_size=3, padding=1)\n",
    "#         self.conv4 = nn.Conv2d(64, 64, kernel_size=3, padding=1)\n",
    "#         self.conv5 = nn.Conv2d(64, 128, kernel_size=3, padding=1)\n",
    "#         self.conv6 = nn.Conv2d(128, 128, kernel_size=3, padding=1)\n",
    "#         self.fc1 = nn.Linear(512 * 4, 256)\n",
    "#         self.fc2 = nn.Linear(256, 10)\n",
    "\n",
    "#     def forward(self, x):\n",
    "#         h = F.relu(self.conv1(x))\n",
    "#         h = F.relu(self.conv2(h))\n",
    "#         h = F.max_pool2d(h, 2)\n",
    "#         h = F.relu(self.conv3(h))\n",
    "#         h = F.relu(self.conv4(h))\n",
    "#         h = F.max_pool2d(h, 2)\n",
    "#         h = F.relu(self.conv5(h))\n",
    "#         h = F.relu(self.conv6(h))\n",
    "#         h = F.max_pool2d(h, 2)\n",
    "\n",
    "#         h = h.view(-1, 512 * 4)\n",
    "#         h = F.relu(self.fc1(h))\n",
    "#         h = F.dropout(h, training=self.training)\n",
    "#         h = F.log_softmax(self.fc2(h))\n",
    "#         return h    \n",
    "    \n",
    "if use_cuda:\n",
    "    lgr.info (\"Using the GPU\")\n",
    "    model = Net().cuda() # On GPU\n",
    "else:\n",
    "    lgr.info (\"Using the CPU\")\n",
    "    model = Net() # On CPU\n",
    "\n",
    "lgr.info('Model {}'.format(model))\n",
    "\n"
   ]
  },
  {
   "cell_type": "markdown",
   "metadata": {
    "collapsed": true,
    "slideshow": {
     "slide_type": "slide"
    }
   },
   "source": [
    "#  Loss and Optimizer\n",
    "\n",
    "- Select a loss function and the optimization algorithm.\n",
    "\n",
    "- if return F.log_softmax(x) then loss = F.nll_loss(output, target) (MNIST)\n",
    "\n"
   ]
  },
  {
   "cell_type": "code",
   "execution_count": 54,
   "metadata": {},
   "outputs": [
    {
     "name": "stderr",
     "output_type": "stream",
     "text": [
      "INFO:__main__:Loss function CrossEntropyLoss (\n",
      ")\n",
      "INFO:__main__:Optimizer <torch.optim.sgd.SGD object at 0x7f1525834a90>\n"
     ]
    }
   ],
   "source": [
    "# optimizer = optim.SGD(model.parameters(), lr=LR, momentum=MOMENTUM)\n",
    "# criterion = nn.ClassNLLCriterion() -- a negative log-likelihood criterion for multi-class classification\n",
    "# criterion = nn.CrossEntropyLoss() # Softmax is internally computed.\n",
    "# optimizer = torch.optim.Adam(model.parameters(), lr=LR)\n",
    "# criterion = F.nll_loss()\n",
    "\n",
    "criterion = nn.CrossEntropyLoss()\n",
    "# optimizer = optim.SGD(model.parameters(), lr=0.001, momentum=0.9)\n",
    "optimizer = optim.SGD(net.parameters(), lr=0.01, momentum=0.9, weight_decay=5e-4)\n",
    "\n",
    "lgr.info('Loss function {}'.format(criterion))\n",
    "lgr.info('Optimizer {}'.format(optimizer))"
   ]
  },
  {
   "cell_type": "markdown",
   "metadata": {
    "collapsed": true,
    "slideshow": {
     "slide_type": "slide"
    }
   },
   "source": [
    "# Start training in Batches\n",
    "\n",
    "See example here:\n",
    "http://codegists.com/snippet/python/pytorch_mnistpy_kernelmode_python\n",
    "\n",
    "https://github.com/pytorch/examples/blob/53f25e0d0e2710878449900e1e61d31d34b63a9d/mnist/main.py"
   ]
  },
  {
   "cell_type": "code",
   "execution_count": null,
   "metadata": {},
   "outputs": [
    {
     "name": "stdout",
     "output_type": "stream",
     "text": [
      "Epoch 1\n"
     ]
    },
    {
     "name": "stderr",
     "output_type": "stream",
     "text": [
      "INFO:__main__:Train Epoch: 1 [0/39000 (0%)]\tLoss: 2.259813\n"
     ]
    },
    {
     "name": "stdout",
     "output_type": "stream",
     "text": [
      "[2,     4] loss: 2.065\n"
     ]
    },
    {
     "name": "stderr",
     "output_type": "stream",
     "text": [
      "INFO:__main__:Train Epoch: 1 [12000/39000 (31%)]\tLoss: 2.839270\n"
     ]
    },
    {
     "name": "stdout",
     "output_type": "stream",
     "text": [
      "[2,     4] loss: 1.823\n"
     ]
    },
    {
     "name": "stderr",
     "output_type": "stream",
     "text": [
      "INFO:__main__:Train Epoch: 1 [24000/39000 (62%)]\tLoss: 1.398095\n"
     ]
    },
    {
     "name": "stdout",
     "output_type": "stream",
     "text": [
      "[2,     4] loss: 1.719\n",
      "[2,     4] loss: 1.680\n"
     ]
    },
    {
     "name": "stderr",
     "output_type": "stream",
     "text": [
      "INFO:__main__:Train Epoch: 1 [36000/39000 (92%)]\tLoss: 1.384702\n"
     ]
    },
    {
     "name": "stdout",
     "output_type": "stream",
     "text": [
      "Finished Training epoch:1\n",
      "Epoch 2\n"
     ]
    },
    {
     "name": "stderr",
     "output_type": "stream",
     "text": [
      "INFO:__main__:Train Epoch: 2 [0/39000 (0%)]\tLoss: 2.281312\n"
     ]
    },
    {
     "name": "stdout",
     "output_type": "stream",
     "text": [
      "[3,     4] loss: 1.597\n"
     ]
    },
    {
     "name": "stderr",
     "output_type": "stream",
     "text": [
      "INFO:__main__:Train Epoch: 2 [12000/39000 (31%)]\tLoss: 1.596208\n"
     ]
    },
    {
     "name": "stdout",
     "output_type": "stream",
     "text": [
      "[3,     4] loss: 1.585\n"
     ]
    },
    {
     "name": "stderr",
     "output_type": "stream",
     "text": [
      "INFO:__main__:Train Epoch: 2 [24000/39000 (62%)]\tLoss: 1.574419\n"
     ]
    },
    {
     "name": "stdout",
     "output_type": "stream",
     "text": [
      "[3,     4] loss: 1.537\n",
      "[3,     4] loss: 1.514\n"
     ]
    },
    {
     "name": "stderr",
     "output_type": "stream",
     "text": [
      "INFO:__main__:Train Epoch: 2 [36000/39000 (92%)]\tLoss: 1.151519\n"
     ]
    },
    {
     "name": "stdout",
     "output_type": "stream",
     "text": [
      "Finished Training epoch:2\n",
      "Epoch 3\n"
     ]
    },
    {
     "name": "stderr",
     "output_type": "stream",
     "text": [
      "INFO:__main__:Train Epoch: 3 [0/39000 (0%)]\tLoss: 2.068013\n"
     ]
    },
    {
     "name": "stdout",
     "output_type": "stream",
     "text": [
      "[4,     4] loss: 1.469\n"
     ]
    },
    {
     "name": "stderr",
     "output_type": "stream",
     "text": [
      "INFO:__main__:Train Epoch: 3 [12000/39000 (31%)]\tLoss: 2.004927\n"
     ]
    },
    {
     "name": "stdout",
     "output_type": "stream",
     "text": [
      "[4,     4] loss: 1.469\n"
     ]
    },
    {
     "name": "stderr",
     "output_type": "stream",
     "text": [
      "INFO:__main__:Train Epoch: 3 [24000/39000 (62%)]\tLoss: 1.345932\n"
     ]
    },
    {
     "name": "stdout",
     "output_type": "stream",
     "text": [
      "[4,     4] loss: 1.447\n",
      "[4,     4] loss: 1.439\n"
     ]
    },
    {
     "name": "stderr",
     "output_type": "stream",
     "text": [
      "INFO:__main__:Train Epoch: 3 [36000/39000 (92%)]\tLoss: 1.271816\n"
     ]
    },
    {
     "name": "stdout",
     "output_type": "stream",
     "text": [
      "Finished Training epoch:3\n",
      "Epoch 4\n"
     ]
    },
    {
     "name": "stderr",
     "output_type": "stream",
     "text": [
      "INFO:__main__:Train Epoch: 4 [0/39000 (0%)]\tLoss: 0.892495\n"
     ]
    },
    {
     "name": "stdout",
     "output_type": "stream",
     "text": [
      "[5,     4] loss: 1.389\n"
     ]
    },
    {
     "name": "stderr",
     "output_type": "stream",
     "text": [
      "INFO:__main__:Train Epoch: 4 [12000/39000 (31%)]\tLoss: 1.272600\n"
     ]
    },
    {
     "name": "stdout",
     "output_type": "stream",
     "text": [
      "[5,     4] loss: 1.398\n"
     ]
    },
    {
     "name": "stderr",
     "output_type": "stream",
     "text": [
      "INFO:__main__:Train Epoch: 4 [24000/39000 (62%)]\tLoss: 1.919976\n"
     ]
    },
    {
     "name": "stdout",
     "output_type": "stream",
     "text": [
      "[5,     4] loss: 1.396\n",
      "[5,     4] loss: 1.379\n"
     ]
    },
    {
     "name": "stderr",
     "output_type": "stream",
     "text": [
      "INFO:__main__:Train Epoch: 4 [36000/39000 (92%)]\tLoss: 1.436019\n"
     ]
    },
    {
     "name": "stdout",
     "output_type": "stream",
     "text": [
      "Finished Training epoch:4\n",
      "Epoch 5\n"
     ]
    },
    {
     "name": "stderr",
     "output_type": "stream",
     "text": [
      "INFO:__main__:Train Epoch: 5 [0/39000 (0%)]\tLoss: 1.759703\n"
     ]
    },
    {
     "name": "stdout",
     "output_type": "stream",
     "text": [
      "[6,     4] loss: 1.368\n"
     ]
    },
    {
     "name": "stderr",
     "output_type": "stream",
     "text": [
      "INFO:__main__:Train Epoch: 5 [12000/39000 (31%)]\tLoss: 1.374362\n"
     ]
    },
    {
     "name": "stdout",
     "output_type": "stream",
     "text": [
      "[6,     4] loss: 1.344\n"
     ]
    },
    {
     "name": "stderr",
     "output_type": "stream",
     "text": [
      "INFO:__main__:Train Epoch: 5 [24000/39000 (62%)]\tLoss: 1.743422\n"
     ]
    },
    {
     "name": "stdout",
     "output_type": "stream",
     "text": [
      "[6,     4] loss: 1.348\n",
      "[6,     4] loss: 1.353\n"
     ]
    },
    {
     "name": "stderr",
     "output_type": "stream",
     "text": [
      "INFO:__main__:Train Epoch: 5 [36000/39000 (92%)]\tLoss: 1.252129\n"
     ]
    },
    {
     "name": "stdout",
     "output_type": "stream",
     "text": [
      "Finished Training epoch:5\n",
      "Epoch 6\n"
     ]
    },
    {
     "name": "stderr",
     "output_type": "stream",
     "text": [
      "INFO:__main__:Train Epoch: 6 [0/39000 (0%)]\tLoss: 0.448803\n"
     ]
    },
    {
     "name": "stdout",
     "output_type": "stream",
     "text": [
      "[7,     4] loss: 1.320\n"
     ]
    },
    {
     "name": "stderr",
     "output_type": "stream",
     "text": [
      "INFO:__main__:Train Epoch: 6 [12000/39000 (31%)]\tLoss: 0.526383\n"
     ]
    },
    {
     "name": "stdout",
     "output_type": "stream",
     "text": [
      "[7,     4] loss: 1.323\n"
     ]
    },
    {
     "name": "stderr",
     "output_type": "stream",
     "text": [
      "INFO:__main__:Train Epoch: 6 [24000/39000 (62%)]\tLoss: 1.570933\n"
     ]
    },
    {
     "name": "stdout",
     "output_type": "stream",
     "text": [
      "[7,     4] loss: 1.324\n",
      "[7,     4] loss: 1.329\n"
     ]
    },
    {
     "name": "stderr",
     "output_type": "stream",
     "text": [
      "INFO:__main__:Train Epoch: 6 [36000/39000 (92%)]\tLoss: 1.459506\n"
     ]
    },
    {
     "name": "stdout",
     "output_type": "stream",
     "text": [
      "Finished Training epoch:6\n",
      "Epoch 7\n"
     ]
    },
    {
     "name": "stderr",
     "output_type": "stream",
     "text": [
      "INFO:__main__:Train Epoch: 7 [0/39000 (0%)]\tLoss: 1.966022\n"
     ]
    },
    {
     "name": "stdout",
     "output_type": "stream",
     "text": [
      "[8,     4] loss: 1.296\n"
     ]
    },
    {
     "name": "stderr",
     "output_type": "stream",
     "text": [
      "INFO:__main__:Train Epoch: 7 [12000/39000 (31%)]\tLoss: 0.701915\n"
     ]
    },
    {
     "name": "stdout",
     "output_type": "stream",
     "text": [
      "[8,     4] loss: 1.297\n"
     ]
    },
    {
     "name": "stderr",
     "output_type": "stream",
     "text": [
      "INFO:__main__:Train Epoch: 7 [24000/39000 (62%)]\tLoss: 0.807866\n"
     ]
    },
    {
     "name": "stdout",
     "output_type": "stream",
     "text": [
      "[8,     4] loss: 1.302\n",
      "[8,     4] loss: 1.304\n"
     ]
    },
    {
     "name": "stderr",
     "output_type": "stream",
     "text": [
      "INFO:__main__:Train Epoch: 7 [36000/39000 (92%)]\tLoss: 1.907610\n"
     ]
    },
    {
     "name": "stdout",
     "output_type": "stream",
     "text": [
      "Finished Training epoch:7\n",
      "Epoch 8\n"
     ]
    },
    {
     "name": "stderr",
     "output_type": "stream",
     "text": [
      "INFO:__main__:Train Epoch: 8 [0/39000 (0%)]\tLoss: 0.989859\n"
     ]
    },
    {
     "name": "stdout",
     "output_type": "stream",
     "text": [
      "[9,     4] loss: 1.289\n"
     ]
    },
    {
     "name": "stderr",
     "output_type": "stream",
     "text": [
      "INFO:__main__:Train Epoch: 8 [12000/39000 (31%)]\tLoss: 2.003882\n"
     ]
    },
    {
     "name": "stdout",
     "output_type": "stream",
     "text": [
      "[9,     4] loss: 1.299\n"
     ]
    },
    {
     "name": "stderr",
     "output_type": "stream",
     "text": [
      "INFO:__main__:Train Epoch: 8 [24000/39000 (62%)]\tLoss: 0.747941\n"
     ]
    },
    {
     "name": "stdout",
     "output_type": "stream",
     "text": [
      "[9,     4] loss: 1.264\n",
      "[9,     4] loss: 1.257\n"
     ]
    },
    {
     "name": "stderr",
     "output_type": "stream",
     "text": [
      "INFO:__main__:Train Epoch: 8 [36000/39000 (92%)]\tLoss: 1.406976\n"
     ]
    },
    {
     "name": "stdout",
     "output_type": "stream",
     "text": [
      "Finished Training epoch:8\n",
      "Epoch 9\n"
     ]
    },
    {
     "name": "stderr",
     "output_type": "stream",
     "text": [
      "INFO:__main__:Train Epoch: 9 [0/39000 (0%)]\tLoss: 1.297467\n"
     ]
    },
    {
     "name": "stdout",
     "output_type": "stream",
     "text": [
      "[10,     4] loss: 1.249\n"
     ]
    },
    {
     "name": "stderr",
     "output_type": "stream",
     "text": [
      "INFO:__main__:Train Epoch: 9 [12000/39000 (31%)]\tLoss: 0.882323\n"
     ]
    },
    {
     "name": "stdout",
     "output_type": "stream",
     "text": [
      "[10,     4] loss: 1.272\n"
     ]
    },
    {
     "name": "stderr",
     "output_type": "stream",
     "text": [
      "INFO:__main__:Train Epoch: 9 [24000/39000 (62%)]\tLoss: 1.809573\n"
     ]
    },
    {
     "name": "stdout",
     "output_type": "stream",
     "text": [
      "[10,     4] loss: 1.294\n",
      "[10,     4] loss: 1.262\n"
     ]
    },
    {
     "name": "stderr",
     "output_type": "stream",
     "text": [
      "INFO:__main__:Train Epoch: 9 [36000/39000 (92%)]\tLoss: 2.454279\n"
     ]
    },
    {
     "name": "stdout",
     "output_type": "stream",
     "text": [
      "Finished Training epoch:9\n",
      "Epoch 10\n"
     ]
    },
    {
     "name": "stderr",
     "output_type": "stream",
     "text": [
      "INFO:__main__:Train Epoch: 10 [0/39000 (0%)]\tLoss: 1.548147\n"
     ]
    },
    {
     "name": "stdout",
     "output_type": "stream",
     "text": [
      "[11,     4] loss: 1.261\n"
     ]
    },
    {
     "name": "stderr",
     "output_type": "stream",
     "text": [
      "INFO:__main__:Train Epoch: 10 [12000/39000 (31%)]\tLoss: 0.409325\n"
     ]
    },
    {
     "name": "stdout",
     "output_type": "stream",
     "text": [
      "[11,     4] loss: 1.277\n"
     ]
    },
    {
     "name": "stderr",
     "output_type": "stream",
     "text": [
      "INFO:__main__:Train Epoch: 10 [24000/39000 (62%)]\tLoss: 1.309832\n"
     ]
    },
    {
     "name": "stdout",
     "output_type": "stream",
     "text": [
      "[11,     4] loss: 1.248\n",
      "[11,     4] loss: 1.243\n"
     ]
    },
    {
     "name": "stderr",
     "output_type": "stream",
     "text": [
      "INFO:__main__:Train Epoch: 10 [36000/39000 (92%)]\tLoss: 1.373882\n"
     ]
    },
    {
     "name": "stdout",
     "output_type": "stream",
     "text": [
      "Finished Training epoch:10\n",
      "Epoch 11\n"
     ]
    },
    {
     "name": "stderr",
     "output_type": "stream",
     "text": [
      "INFO:__main__:Train Epoch: 11 [0/39000 (0%)]\tLoss: 1.655002\n"
     ]
    },
    {
     "name": "stdout",
     "output_type": "stream",
     "text": [
      "[12,     4] loss: 1.249\n"
     ]
    },
    {
     "name": "stderr",
     "output_type": "stream",
     "text": [
      "INFO:__main__:Train Epoch: 11 [12000/39000 (31%)]\tLoss: 0.782606\n"
     ]
    },
    {
     "name": "stdout",
     "output_type": "stream",
     "text": [
      "[12,     4] loss: 1.236\n"
     ]
    },
    {
     "name": "stderr",
     "output_type": "stream",
     "text": [
      "INFO:__main__:Train Epoch: 11 [24000/39000 (62%)]\tLoss: 1.475798\n"
     ]
    },
    {
     "name": "stdout",
     "output_type": "stream",
     "text": [
      "[12,     4] loss: 1.248\n",
      "[12,     4] loss: 1.236\n"
     ]
    },
    {
     "name": "stderr",
     "output_type": "stream",
     "text": [
      "INFO:__main__:Train Epoch: 11 [36000/39000 (92%)]\tLoss: 1.124254\n"
     ]
    },
    {
     "name": "stdout",
     "output_type": "stream",
     "text": [
      "Finished Training epoch:11\n",
      "Epoch 12\n"
     ]
    },
    {
     "name": "stderr",
     "output_type": "stream",
     "text": [
      "INFO:__main__:Train Epoch: 12 [0/39000 (0%)]\tLoss: 1.313282\n"
     ]
    },
    {
     "name": "stdout",
     "output_type": "stream",
     "text": [
      "[13,     4] loss: 1.207\n"
     ]
    },
    {
     "name": "stderr",
     "output_type": "stream",
     "text": [
      "INFO:__main__:Train Epoch: 12 [12000/39000 (31%)]\tLoss: 0.731838\n"
     ]
    },
    {
     "name": "stdout",
     "output_type": "stream",
     "text": [
      "[13,     4] loss: 1.231\n"
     ]
    },
    {
     "name": "stderr",
     "output_type": "stream",
     "text": [
      "INFO:__main__:Train Epoch: 12 [24000/39000 (62%)]\tLoss: 0.540180\n"
     ]
    },
    {
     "name": "stdout",
     "output_type": "stream",
     "text": [
      "[13,     4] loss: 1.239\n",
      "[13,     4] loss: 1.251\n"
     ]
    },
    {
     "name": "stderr",
     "output_type": "stream",
     "text": [
      "INFO:__main__:Train Epoch: 12 [36000/39000 (92%)]\tLoss: 1.572639\n"
     ]
    },
    {
     "name": "stdout",
     "output_type": "stream",
     "text": [
      "Finished Training epoch:12\n",
      "Epoch 13\n"
     ]
    },
    {
     "name": "stderr",
     "output_type": "stream",
     "text": [
      "INFO:__main__:Train Epoch: 13 [0/39000 (0%)]\tLoss: 2.475478\n"
     ]
    },
    {
     "name": "stdout",
     "output_type": "stream",
     "text": [
      "[14,     4] loss: 1.217\n"
     ]
    },
    {
     "name": "stderr",
     "output_type": "stream",
     "text": [
      "INFO:__main__:Train Epoch: 13 [12000/39000 (31%)]\tLoss: 1.169338\n"
     ]
    },
    {
     "name": "stdout",
     "output_type": "stream",
     "text": [
      "[14,     4] loss: 1.230\n"
     ]
    },
    {
     "name": "stderr",
     "output_type": "stream",
     "text": [
      "INFO:__main__:Train Epoch: 13 [24000/39000 (62%)]\tLoss: 0.920745\n"
     ]
    },
    {
     "name": "stdout",
     "output_type": "stream",
     "text": [
      "[14,     4] loss: 1.196\n",
      "[14,     4] loss: 1.217\n"
     ]
    },
    {
     "name": "stderr",
     "output_type": "stream",
     "text": [
      "INFO:__main__:Train Epoch: 13 [36000/39000 (92%)]\tLoss: 1.329586\n"
     ]
    },
    {
     "name": "stdout",
     "output_type": "stream",
     "text": [
      "Finished Training epoch:13\n",
      "Epoch 14\n"
     ]
    },
    {
     "name": "stderr",
     "output_type": "stream",
     "text": [
      "INFO:__main__:Train Epoch: 14 [0/39000 (0%)]\tLoss: 1.415998\n"
     ]
    },
    {
     "name": "stdout",
     "output_type": "stream",
     "text": [
      "[15,     4] loss: 1.223\n"
     ]
    },
    {
     "name": "stderr",
     "output_type": "stream",
     "text": [
      "INFO:__main__:Train Epoch: 14 [12000/39000 (31%)]\tLoss: 1.290942\n"
     ]
    },
    {
     "name": "stdout",
     "output_type": "stream",
     "text": [
      "[15,     4] loss: 1.218\n"
     ]
    },
    {
     "name": "stderr",
     "output_type": "stream",
     "text": [
      "INFO:__main__:Train Epoch: 14 [24000/39000 (62%)]\tLoss: 0.415455\n"
     ]
    },
    {
     "name": "stdout",
     "output_type": "stream",
     "text": [
      "[15,     4] loss: 1.195\n",
      "[15,     4] loss: 1.227\n"
     ]
    },
    {
     "name": "stderr",
     "output_type": "stream",
     "text": [
      "INFO:__main__:Train Epoch: 14 [36000/39000 (92%)]\tLoss: 0.233751\n"
     ]
    },
    {
     "name": "stdout",
     "output_type": "stream",
     "text": [
      "Finished Training epoch:14\n",
      "Epoch 15\n"
     ]
    },
    {
     "name": "stderr",
     "output_type": "stream",
     "text": [
      "INFO:__main__:Train Epoch: 15 [0/39000 (0%)]\tLoss: 2.069538\n"
     ]
    },
    {
     "name": "stdout",
     "output_type": "stream",
     "text": [
      "[16,     4] loss: 1.207\n"
     ]
    },
    {
     "name": "stderr",
     "output_type": "stream",
     "text": [
      "INFO:__main__:Train Epoch: 15 [12000/39000 (31%)]\tLoss: 1.355158\n"
     ]
    },
    {
     "name": "stdout",
     "output_type": "stream",
     "text": [
      "[16,     4] loss: 1.201\n"
     ]
    },
    {
     "name": "stderr",
     "output_type": "stream",
     "text": [
      "INFO:__main__:Train Epoch: 15 [24000/39000 (62%)]\tLoss: 2.279980\n"
     ]
    },
    {
     "name": "stdout",
     "output_type": "stream",
     "text": [
      "[16,     4] loss: 1.208\n",
      "[16,     4] loss: 1.212\n"
     ]
    },
    {
     "name": "stderr",
     "output_type": "stream",
     "text": [
      "INFO:__main__:Train Epoch: 15 [36000/39000 (92%)]\tLoss: 1.807873\n"
     ]
    },
    {
     "name": "stdout",
     "output_type": "stream",
     "text": [
      "Finished Training epoch:15\n",
      "Epoch 16\n"
     ]
    },
    {
     "name": "stderr",
     "output_type": "stream",
     "text": [
      "INFO:__main__:Train Epoch: 16 [0/39000 (0%)]\tLoss: 0.636429\n"
     ]
    },
    {
     "name": "stdout",
     "output_type": "stream",
     "text": [
      "[17,     4] loss: 1.192\n"
     ]
    },
    {
     "name": "stderr",
     "output_type": "stream",
     "text": [
      "INFO:__main__:Train Epoch: 16 [12000/39000 (31%)]\tLoss: 1.239527\n"
     ]
    },
    {
     "name": "stdout",
     "output_type": "stream",
     "text": [
      "[17,     4] loss: 1.208\n"
     ]
    },
    {
     "name": "stderr",
     "output_type": "stream",
     "text": [
      "INFO:__main__:Train Epoch: 16 [24000/39000 (62%)]\tLoss: 0.870721\n"
     ]
    },
    {
     "name": "stdout",
     "output_type": "stream",
     "text": [
      "[17,     4] loss: 1.180\n",
      "[17,     4] loss: 1.197\n"
     ]
    },
    {
     "name": "stderr",
     "output_type": "stream",
     "text": [
      "INFO:__main__:Train Epoch: 16 [36000/39000 (92%)]\tLoss: 0.879048\n"
     ]
    },
    {
     "name": "stdout",
     "output_type": "stream",
     "text": [
      "Finished Training epoch:16\n",
      "Epoch 17\n"
     ]
    },
    {
     "name": "stderr",
     "output_type": "stream",
     "text": [
      "INFO:__main__:Train Epoch: 17 [0/39000 (0%)]\tLoss: 1.221481\n"
     ]
    },
    {
     "name": "stdout",
     "output_type": "stream",
     "text": [
      "[18,     4] loss: 1.190\n"
     ]
    },
    {
     "name": "stderr",
     "output_type": "stream",
     "text": [
      "INFO:__main__:Train Epoch: 17 [12000/39000 (31%)]\tLoss: 1.534629\n"
     ]
    },
    {
     "name": "stdout",
     "output_type": "stream",
     "text": [
      "[18,     4] loss: 1.190\n"
     ]
    },
    {
     "name": "stderr",
     "output_type": "stream",
     "text": [
      "INFO:__main__:Train Epoch: 17 [24000/39000 (62%)]\tLoss: 0.671552\n"
     ]
    },
    {
     "name": "stdout",
     "output_type": "stream",
     "text": [
      "[18,     4] loss: 1.202\n",
      "[18,     4] loss: 1.213\n"
     ]
    },
    {
     "name": "stderr",
     "output_type": "stream",
     "text": [
      "INFO:__main__:Train Epoch: 17 [36000/39000 (92%)]\tLoss: 2.020502\n"
     ]
    },
    {
     "name": "stdout",
     "output_type": "stream",
     "text": [
      "Finished Training epoch:17\n",
      "Epoch 18\n"
     ]
    },
    {
     "name": "stderr",
     "output_type": "stream",
     "text": [
      "INFO:__main__:Train Epoch: 18 [0/39000 (0%)]\tLoss: 1.684998\n"
     ]
    },
    {
     "name": "stdout",
     "output_type": "stream",
     "text": [
      "[19,     4] loss: 1.174\n"
     ]
    },
    {
     "name": "stderr",
     "output_type": "stream",
     "text": [
      "INFO:__main__:Train Epoch: 18 [12000/39000 (31%)]\tLoss: 2.221324\n"
     ]
    },
    {
     "name": "stdout",
     "output_type": "stream",
     "text": [
      "[19,     4] loss: 1.204\n"
     ]
    },
    {
     "name": "stderr",
     "output_type": "stream",
     "text": [
      "INFO:__main__:Train Epoch: 18 [24000/39000 (62%)]\tLoss: 1.447802\n"
     ]
    },
    {
     "name": "stdout",
     "output_type": "stream",
     "text": [
      "[19,     4] loss: 1.178\n",
      "[19,     4] loss: 1.193\n"
     ]
    },
    {
     "name": "stderr",
     "output_type": "stream",
     "text": [
      "INFO:__main__:Train Epoch: 18 [36000/39000 (92%)]\tLoss: 0.661578\n"
     ]
    },
    {
     "name": "stdout",
     "output_type": "stream",
     "text": [
      "Finished Training epoch:18\n",
      "Epoch 19\n"
     ]
    },
    {
     "name": "stderr",
     "output_type": "stream",
     "text": [
      "INFO:__main__:Train Epoch: 19 [0/39000 (0%)]\tLoss: 1.862416\n"
     ]
    },
    {
     "name": "stdout",
     "output_type": "stream",
     "text": [
      "[20,     4] loss: 1.177\n"
     ]
    },
    {
     "name": "stderr",
     "output_type": "stream",
     "text": [
      "INFO:__main__:Train Epoch: 19 [12000/39000 (31%)]\tLoss: 0.557107\n"
     ]
    },
    {
     "name": "stdout",
     "output_type": "stream",
     "text": [
      "[20,     4] loss: 1.181\n"
     ]
    },
    {
     "name": "stderr",
     "output_type": "stream",
     "text": [
      "INFO:__main__:Train Epoch: 19 [24000/39000 (62%)]\tLoss: 0.811033\n"
     ]
    },
    {
     "name": "stdout",
     "output_type": "stream",
     "text": [
      "[20,     4] loss: 1.189\n",
      "[20,     4] loss: 1.183\n"
     ]
    },
    {
     "name": "stderr",
     "output_type": "stream",
     "text": [
      "INFO:__main__:Train Epoch: 19 [36000/39000 (92%)]\tLoss: 0.466718\n"
     ]
    },
    {
     "name": "stdout",
     "output_type": "stream",
     "text": [
      "Finished Training epoch:19\n",
      "Epoch 20\n"
     ]
    },
    {
     "name": "stderr",
     "output_type": "stream",
     "text": [
      "INFO:__main__:Train Epoch: 20 [0/39000 (0%)]\tLoss: 2.507657\n"
     ]
    },
    {
     "name": "stdout",
     "output_type": "stream",
     "text": [
      "[21,     4] loss: 1.170\n"
     ]
    },
    {
     "name": "stderr",
     "output_type": "stream",
     "text": [
      "INFO:__main__:Train Epoch: 20 [12000/39000 (31%)]\tLoss: 0.802414\n"
     ]
    },
    {
     "name": "stdout",
     "output_type": "stream",
     "text": [
      "[21,     4] loss: 1.178\n"
     ]
    },
    {
     "name": "stderr",
     "output_type": "stream",
     "text": [
      "INFO:__main__:Train Epoch: 20 [24000/39000 (62%)]\tLoss: 1.430140\n"
     ]
    },
    {
     "name": "stdout",
     "output_type": "stream",
     "text": [
      "[21,     4] loss: 1.171\n",
      "[21,     4] loss: 1.211\n"
     ]
    },
    {
     "name": "stderr",
     "output_type": "stream",
     "text": [
      "INFO:__main__:Train Epoch: 20 [36000/39000 (92%)]\tLoss: 0.723025\n"
     ]
    },
    {
     "name": "stdout",
     "output_type": "stream",
     "text": [
      "Finished Training epoch:20\n",
      "Epoch 21\n"
     ]
    },
    {
     "name": "stderr",
     "output_type": "stream",
     "text": [
      "INFO:__main__:Train Epoch: 21 [0/39000 (0%)]\tLoss: 2.473342\n"
     ]
    },
    {
     "name": "stdout",
     "output_type": "stream",
     "text": [
      "[22,     4] loss: 1.146\n"
     ]
    },
    {
     "name": "stderr",
     "output_type": "stream",
     "text": [
      "INFO:__main__:Train Epoch: 21 [12000/39000 (31%)]\tLoss: 0.799879\n"
     ]
    },
    {
     "name": "stdout",
     "output_type": "stream",
     "text": [
      "[22,     4] loss: 1.175\n"
     ]
    },
    {
     "name": "stderr",
     "output_type": "stream",
     "text": [
      "INFO:__main__:Train Epoch: 21 [24000/39000 (62%)]\tLoss: 1.220493\n"
     ]
    },
    {
     "name": "stdout",
     "output_type": "stream",
     "text": [
      "[22,     4] loss: 1.205\n",
      "[22,     4] loss: 1.172\n"
     ]
    },
    {
     "name": "stderr",
     "output_type": "stream",
     "text": [
      "INFO:__main__:Train Epoch: 21 [36000/39000 (92%)]\tLoss: 0.868977\n"
     ]
    },
    {
     "name": "stdout",
     "output_type": "stream",
     "text": [
      "Finished Training epoch:21\n",
      "Epoch 22\n"
     ]
    },
    {
     "name": "stderr",
     "output_type": "stream",
     "text": [
      "INFO:__main__:Train Epoch: 22 [0/39000 (0%)]\tLoss: 1.163684\n"
     ]
    },
    {
     "name": "stdout",
     "output_type": "stream",
     "text": [
      "[23,     4] loss: 1.149\n"
     ]
    },
    {
     "name": "stderr",
     "output_type": "stream",
     "text": [
      "INFO:__main__:Train Epoch: 22 [12000/39000 (31%)]\tLoss: 0.278907\n"
     ]
    },
    {
     "name": "stdout",
     "output_type": "stream",
     "text": [
      "[23,     4] loss: 1.169\n"
     ]
    },
    {
     "name": "stderr",
     "output_type": "stream",
     "text": [
      "INFO:__main__:Train Epoch: 22 [24000/39000 (62%)]\tLoss: 1.348171\n"
     ]
    },
    {
     "name": "stdout",
     "output_type": "stream",
     "text": [
      "[23,     4] loss: 1.198\n",
      "[23,     4] loss: 1.177\n"
     ]
    },
    {
     "name": "stderr",
     "output_type": "stream",
     "text": [
      "INFO:__main__:Train Epoch: 22 [36000/39000 (92%)]\tLoss: 1.709158\n"
     ]
    },
    {
     "name": "stdout",
     "output_type": "stream",
     "text": [
      "Finished Training epoch:22\n",
      "Epoch 23\n"
     ]
    },
    {
     "name": "stderr",
     "output_type": "stream",
     "text": [
      "INFO:__main__:Train Epoch: 23 [0/39000 (0%)]\tLoss: 0.761690\n"
     ]
    },
    {
     "name": "stdout",
     "output_type": "stream",
     "text": [
      "[24,     4] loss: 1.140\n"
     ]
    },
    {
     "name": "stderr",
     "output_type": "stream",
     "text": [
      "INFO:__main__:Train Epoch: 23 [12000/39000 (31%)]\tLoss: 1.197510\n"
     ]
    },
    {
     "name": "stdout",
     "output_type": "stream",
     "text": [
      "[24,     4] loss: 1.155\n"
     ]
    },
    {
     "name": "stderr",
     "output_type": "stream",
     "text": [
      "INFO:__main__:Train Epoch: 23 [24000/39000 (62%)]\tLoss: 0.778124\n"
     ]
    },
    {
     "name": "stdout",
     "output_type": "stream",
     "text": [
      "[24,     4] loss: 1.195\n",
      "[24,     4] loss: 1.156\n"
     ]
    },
    {
     "name": "stderr",
     "output_type": "stream",
     "text": [
      "INFO:__main__:Train Epoch: 23 [36000/39000 (92%)]\tLoss: 0.601829\n"
     ]
    },
    {
     "name": "stdout",
     "output_type": "stream",
     "text": [
      "Finished Training epoch:23\n",
      "Epoch 24\n"
     ]
    },
    {
     "name": "stderr",
     "output_type": "stream",
     "text": [
      "INFO:__main__:Train Epoch: 24 [0/39000 (0%)]\tLoss: 1.620755\n"
     ]
    },
    {
     "name": "stdout",
     "output_type": "stream",
     "text": [
      "[25,     4] loss: 1.172\n"
     ]
    },
    {
     "name": "stderr",
     "output_type": "stream",
     "text": [
      "INFO:__main__:Train Epoch: 24 [12000/39000 (31%)]\tLoss: 1.610102\n"
     ]
    },
    {
     "name": "stdout",
     "output_type": "stream",
     "text": [
      "[25,     4] loss: 1.188\n"
     ]
    },
    {
     "name": "stderr",
     "output_type": "stream",
     "text": [
      "INFO:__main__:Train Epoch: 24 [24000/39000 (62%)]\tLoss: 0.695569\n"
     ]
    },
    {
     "name": "stdout",
     "output_type": "stream",
     "text": [
      "[25,     4] loss: 1.160\n",
      "[25,     4] loss: 1.148\n"
     ]
    },
    {
     "name": "stderr",
     "output_type": "stream",
     "text": [
      "INFO:__main__:Train Epoch: 24 [36000/39000 (92%)]\tLoss: 0.952946\n"
     ]
    },
    {
     "name": "stdout",
     "output_type": "stream",
     "text": [
      "Finished Training epoch:24\n",
      "Epoch 25\n"
     ]
    },
    {
     "name": "stderr",
     "output_type": "stream",
     "text": [
      "INFO:__main__:Train Epoch: 25 [0/39000 (0%)]\tLoss: 0.974783\n"
     ]
    },
    {
     "name": "stdout",
     "output_type": "stream",
     "text": [
      "[26,     4] loss: 1.167\n"
     ]
    },
    {
     "name": "stderr",
     "output_type": "stream",
     "text": [
      "INFO:__main__:Train Epoch: 25 [12000/39000 (31%)]\tLoss: 1.376097\n"
     ]
    },
    {
     "name": "stdout",
     "output_type": "stream",
     "text": [
      "[26,     4] loss: 1.139\n"
     ]
    },
    {
     "name": "stderr",
     "output_type": "stream",
     "text": [
      "INFO:__main__:Train Epoch: 25 [24000/39000 (62%)]\tLoss: 0.145529\n"
     ]
    },
    {
     "name": "stdout",
     "output_type": "stream",
     "text": [
      "[26,     4] loss: 1.183\n",
      "[26,     4] loss: 1.165\n"
     ]
    },
    {
     "name": "stderr",
     "output_type": "stream",
     "text": [
      "INFO:__main__:Train Epoch: 25 [36000/39000 (92%)]\tLoss: 1.383048\n"
     ]
    },
    {
     "name": "stdout",
     "output_type": "stream",
     "text": [
      "Finished Training epoch:25\n",
      "Epoch 26\n"
     ]
    },
    {
     "name": "stderr",
     "output_type": "stream",
     "text": [
      "INFO:__main__:Train Epoch: 26 [0/39000 (0%)]\tLoss: 0.894760\n"
     ]
    },
    {
     "name": "stdout",
     "output_type": "stream",
     "text": [
      "[27,     4] loss: 1.149\n"
     ]
    },
    {
     "name": "stderr",
     "output_type": "stream",
     "text": [
      "INFO:__main__:Train Epoch: 26 [12000/39000 (31%)]\tLoss: 0.675271\n"
     ]
    },
    {
     "name": "stdout",
     "output_type": "stream",
     "text": [
      "[27,     4] loss: 1.185\n"
     ]
    },
    {
     "name": "stderr",
     "output_type": "stream",
     "text": [
      "INFO:__main__:Train Epoch: 26 [24000/39000 (62%)]\tLoss: 1.044242\n"
     ]
    },
    {
     "name": "stdout",
     "output_type": "stream",
     "text": [
      "[27,     4] loss: 1.157\n",
      "[27,     4] loss: 1.172\n"
     ]
    },
    {
     "name": "stderr",
     "output_type": "stream",
     "text": [
      "INFO:__main__:Train Epoch: 26 [36000/39000 (92%)]\tLoss: 1.397054\n"
     ]
    },
    {
     "name": "stdout",
     "output_type": "stream",
     "text": [
      "Finished Training epoch:26\n",
      "Epoch 27\n"
     ]
    },
    {
     "name": "stderr",
     "output_type": "stream",
     "text": [
      "INFO:__main__:Train Epoch: 27 [0/39000 (0%)]\tLoss: 0.439198\n"
     ]
    },
    {
     "name": "stdout",
     "output_type": "stream",
     "text": [
      "[28,     4] loss: 1.158\n"
     ]
    },
    {
     "name": "stderr",
     "output_type": "stream",
     "text": [
      "INFO:__main__:Train Epoch: 27 [12000/39000 (31%)]\tLoss: 1.324070\n"
     ]
    },
    {
     "name": "stdout",
     "output_type": "stream",
     "text": [
      "[28,     4] loss: 1.163\n"
     ]
    },
    {
     "name": "stderr",
     "output_type": "stream",
     "text": [
      "INFO:__main__:Train Epoch: 27 [24000/39000 (62%)]\tLoss: 1.975091\n"
     ]
    },
    {
     "name": "stdout",
     "output_type": "stream",
     "text": [
      "[28,     4] loss: 1.151\n",
      "[28,     4] loss: 1.182\n"
     ]
    },
    {
     "name": "stderr",
     "output_type": "stream",
     "text": [
      "INFO:__main__:Train Epoch: 27 [36000/39000 (92%)]\tLoss: 1.789563\n"
     ]
    },
    {
     "name": "stdout",
     "output_type": "stream",
     "text": [
      "Finished Training epoch:27\n",
      "Epoch 28\n"
     ]
    },
    {
     "name": "stderr",
     "output_type": "stream",
     "text": [
      "INFO:__main__:Train Epoch: 28 [0/39000 (0%)]\tLoss: 0.745378\n"
     ]
    },
    {
     "name": "stdout",
     "output_type": "stream",
     "text": [
      "[29,     4] loss: 1.165\n"
     ]
    },
    {
     "name": "stderr",
     "output_type": "stream",
     "text": [
      "INFO:__main__:Train Epoch: 28 [12000/39000 (31%)]\tLoss: 0.550592\n"
     ]
    },
    {
     "name": "stdout",
     "output_type": "stream",
     "text": [
      "[29,     4] loss: 1.172\n"
     ]
    },
    {
     "name": "stderr",
     "output_type": "stream",
     "text": [
      "INFO:__main__:Train Epoch: 28 [24000/39000 (62%)]\tLoss: 1.030274\n"
     ]
    },
    {
     "name": "stdout",
     "output_type": "stream",
     "text": [
      "[29,     4] loss: 1.171\n",
      "[29,     4] loss: 1.141\n"
     ]
    },
    {
     "name": "stderr",
     "output_type": "stream",
     "text": [
      "INFO:__main__:Train Epoch: 28 [36000/39000 (92%)]\tLoss: 1.083363\n"
     ]
    },
    {
     "name": "stdout",
     "output_type": "stream",
     "text": [
      "Finished Training epoch:28\n",
      "Epoch 29\n"
     ]
    },
    {
     "name": "stderr",
     "output_type": "stream",
     "text": [
      "INFO:__main__:Train Epoch: 29 [0/39000 (0%)]\tLoss: 0.959461\n"
     ]
    },
    {
     "name": "stdout",
     "output_type": "stream",
     "text": [
      "[30,     4] loss: 1.147\n"
     ]
    },
    {
     "name": "stderr",
     "output_type": "stream",
     "text": [
      "INFO:__main__:Train Epoch: 29 [12000/39000 (31%)]\tLoss: 1.661124\n"
     ]
    },
    {
     "name": "stdout",
     "output_type": "stream",
     "text": [
      "[30,     4] loss: 1.185\n"
     ]
    },
    {
     "name": "stderr",
     "output_type": "stream",
     "text": [
      "INFO:__main__:Train Epoch: 29 [24000/39000 (62%)]\tLoss: 1.082883\n"
     ]
    },
    {
     "name": "stdout",
     "output_type": "stream",
     "text": [
      "[30,     4] loss: 1.155\n",
      "[30,     4] loss: 1.154\n"
     ]
    },
    {
     "name": "stderr",
     "output_type": "stream",
     "text": [
      "INFO:__main__:Train Epoch: 29 [36000/39000 (92%)]\tLoss: 0.867030\n"
     ]
    },
    {
     "name": "stdout",
     "output_type": "stream",
     "text": [
      "Finished Training epoch:29\n",
      "Epoch 30\n"
     ]
    },
    {
     "name": "stderr",
     "output_type": "stream",
     "text": [
      "INFO:__main__:Train Epoch: 30 [0/39000 (0%)]\tLoss: 1.943384\n"
     ]
    },
    {
     "name": "stdout",
     "output_type": "stream",
     "text": [
      "[31,     4] loss: 1.134\n"
     ]
    },
    {
     "name": "stderr",
     "output_type": "stream",
     "text": [
      "INFO:__main__:Train Epoch: 30 [12000/39000 (31%)]\tLoss: 2.247355\n"
     ]
    },
    {
     "name": "stdout",
     "output_type": "stream",
     "text": [
      "[31,     4] loss: 1.170\n"
     ]
    },
    {
     "name": "stderr",
     "output_type": "stream",
     "text": [
      "INFO:__main__:Train Epoch: 30 [24000/39000 (62%)]\tLoss: 1.114912\n"
     ]
    },
    {
     "name": "stdout",
     "output_type": "stream",
     "text": [
      "[31,     4] loss: 1.152\n",
      "[31,     4] loss: 1.160\n"
     ]
    },
    {
     "name": "stderr",
     "output_type": "stream",
     "text": [
      "INFO:__main__:Train Epoch: 30 [36000/39000 (92%)]\tLoss: 0.139503\n"
     ]
    },
    {
     "name": "stdout",
     "output_type": "stream",
     "text": [
      "Finished Training epoch:30\n",
      "Epoch 31\n"
     ]
    },
    {
     "name": "stderr",
     "output_type": "stream",
     "text": [
      "INFO:__main__:Train Epoch: 31 [0/39000 (0%)]\tLoss: 1.622820\n"
     ]
    },
    {
     "name": "stdout",
     "output_type": "stream",
     "text": [
      "[32,     4] loss: 1.146\n"
     ]
    },
    {
     "name": "stderr",
     "output_type": "stream",
     "text": [
      "INFO:__main__:Train Epoch: 31 [12000/39000 (31%)]\tLoss: 0.601218\n"
     ]
    },
    {
     "name": "stdout",
     "output_type": "stream",
     "text": [
      "[32,     4] loss: 1.134\n"
     ]
    },
    {
     "name": "stderr",
     "output_type": "stream",
     "text": [
      "INFO:__main__:Train Epoch: 31 [24000/39000 (62%)]\tLoss: 1.677961\n"
     ]
    },
    {
     "name": "stdout",
     "output_type": "stream",
     "text": [
      "[32,     4] loss: 1.160\n",
      "[32,     4] loss: 1.143\n"
     ]
    },
    {
     "name": "stderr",
     "output_type": "stream",
     "text": [
      "INFO:__main__:Train Epoch: 31 [36000/39000 (92%)]\tLoss: 0.628872\n"
     ]
    },
    {
     "name": "stdout",
     "output_type": "stream",
     "text": [
      "Finished Training epoch:31\n",
      "Epoch 32\n"
     ]
    },
    {
     "name": "stderr",
     "output_type": "stream",
     "text": [
      "INFO:__main__:Train Epoch: 32 [0/39000 (0%)]\tLoss: 0.663493\n"
     ]
    },
    {
     "name": "stdout",
     "output_type": "stream",
     "text": [
      "[33,     4] loss: 1.127\n"
     ]
    },
    {
     "name": "stderr",
     "output_type": "stream",
     "text": [
      "INFO:__main__:Train Epoch: 32 [12000/39000 (31%)]\tLoss: 0.619064\n"
     ]
    },
    {
     "name": "stdout",
     "output_type": "stream",
     "text": [
      "[33,     4] loss: 1.146\n"
     ]
    },
    {
     "name": "stderr",
     "output_type": "stream",
     "text": [
      "INFO:__main__:Train Epoch: 32 [24000/39000 (62%)]\tLoss: 0.699322\n"
     ]
    },
    {
     "name": "stdout",
     "output_type": "stream",
     "text": [
      "[33,     4] loss: 1.147\n",
      "[33,     4] loss: 1.156\n"
     ]
    },
    {
     "name": "stderr",
     "output_type": "stream",
     "text": [
      "INFO:__main__:Train Epoch: 32 [36000/39000 (92%)]\tLoss: 0.576143\n"
     ]
    },
    {
     "name": "stdout",
     "output_type": "stream",
     "text": [
      "Finished Training epoch:32\n",
      "Epoch 33\n"
     ]
    },
    {
     "name": "stderr",
     "output_type": "stream",
     "text": [
      "INFO:__main__:Train Epoch: 33 [0/39000 (0%)]\tLoss: 2.147763\n"
     ]
    },
    {
     "name": "stdout",
     "output_type": "stream",
     "text": [
      "[34,     4] loss: 1.150\n"
     ]
    },
    {
     "name": "stderr",
     "output_type": "stream",
     "text": [
      "INFO:__main__:Train Epoch: 33 [12000/39000 (31%)]\tLoss: 1.100082\n"
     ]
    },
    {
     "name": "stdout",
     "output_type": "stream",
     "text": [
      "[34,     4] loss: 1.136\n"
     ]
    },
    {
     "name": "stderr",
     "output_type": "stream",
     "text": [
      "INFO:__main__:Train Epoch: 33 [24000/39000 (62%)]\tLoss: 0.730786\n"
     ]
    },
    {
     "name": "stdout",
     "output_type": "stream",
     "text": [
      "[34,     4] loss: 1.149\n",
      "[34,     4] loss: 1.154\n"
     ]
    },
    {
     "name": "stderr",
     "output_type": "stream",
     "text": [
      "INFO:__main__:Train Epoch: 33 [36000/39000 (92%)]\tLoss: 0.627965\n"
     ]
    },
    {
     "name": "stdout",
     "output_type": "stream",
     "text": [
      "Finished Training epoch:33\n",
      "Epoch 34\n"
     ]
    },
    {
     "name": "stderr",
     "output_type": "stream",
     "text": [
      "INFO:__main__:Train Epoch: 34 [0/39000 (0%)]\tLoss: 1.864240\n"
     ]
    },
    {
     "name": "stdout",
     "output_type": "stream",
     "text": [
      "[35,     4] loss: 1.137\n"
     ]
    },
    {
     "name": "stderr",
     "output_type": "stream",
     "text": [
      "INFO:__main__:Train Epoch: 34 [12000/39000 (31%)]\tLoss: 0.760344\n"
     ]
    },
    {
     "name": "stdout",
     "output_type": "stream",
     "text": [
      "[35,     4] loss: 1.146\n"
     ]
    },
    {
     "name": "stderr",
     "output_type": "stream",
     "text": [
      "INFO:__main__:Train Epoch: 34 [24000/39000 (62%)]\tLoss: 1.810244\n"
     ]
    },
    {
     "name": "stdout",
     "output_type": "stream",
     "text": [
      "[35,     4] loss: 1.150\n",
      "[35,     4] loss: 1.143\n"
     ]
    },
    {
     "name": "stderr",
     "output_type": "stream",
     "text": [
      "INFO:__main__:Train Epoch: 34 [36000/39000 (92%)]\tLoss: 1.395154\n"
     ]
    },
    {
     "name": "stdout",
     "output_type": "stream",
     "text": [
      "Finished Training epoch:34\n",
      "Epoch 35\n"
     ]
    },
    {
     "name": "stderr",
     "output_type": "stream",
     "text": [
      "INFO:__main__:Train Epoch: 35 [0/39000 (0%)]\tLoss: 0.774456\n"
     ]
    },
    {
     "name": "stdout",
     "output_type": "stream",
     "text": [
      "[36,     4] loss: 1.149\n"
     ]
    },
    {
     "name": "stderr",
     "output_type": "stream",
     "text": [
      "INFO:__main__:Train Epoch: 35 [12000/39000 (31%)]\tLoss: 1.219871\n"
     ]
    },
    {
     "name": "stdout",
     "output_type": "stream",
     "text": [
      "[36,     4] loss: 1.145\n"
     ]
    },
    {
     "name": "stderr",
     "output_type": "stream",
     "text": [
      "INFO:__main__:Train Epoch: 35 [24000/39000 (62%)]\tLoss: 1.103844\n"
     ]
    },
    {
     "name": "stdout",
     "output_type": "stream",
     "text": [
      "[36,     4] loss: 1.154\n",
      "[36,     4] loss: 1.148\n"
     ]
    },
    {
     "name": "stderr",
     "output_type": "stream",
     "text": [
      "INFO:__main__:Train Epoch: 35 [36000/39000 (92%)]\tLoss: 0.111001\n"
     ]
    },
    {
     "name": "stdout",
     "output_type": "stream",
     "text": [
      "Finished Training epoch:35\n",
      "Epoch 36\n"
     ]
    },
    {
     "name": "stderr",
     "output_type": "stream",
     "text": [
      "INFO:__main__:Train Epoch: 36 [0/39000 (0%)]\tLoss: 1.512338\n"
     ]
    },
    {
     "name": "stdout",
     "output_type": "stream",
     "text": [
      "[37,     4] loss: 1.138\n"
     ]
    },
    {
     "name": "stderr",
     "output_type": "stream",
     "text": [
      "INFO:__main__:Train Epoch: 36 [12000/39000 (31%)]\tLoss: 1.918509\n"
     ]
    },
    {
     "name": "stdout",
     "output_type": "stream",
     "text": [
      "[37,     4] loss: 1.151\n"
     ]
    },
    {
     "name": "stderr",
     "output_type": "stream",
     "text": [
      "INFO:__main__:Train Epoch: 36 [24000/39000 (62%)]\tLoss: 1.092539\n"
     ]
    },
    {
     "name": "stdout",
     "output_type": "stream",
     "text": [
      "[37,     4] loss: 1.162\n",
      "[37,     4] loss: 1.122\n"
     ]
    },
    {
     "name": "stderr",
     "output_type": "stream",
     "text": [
      "INFO:__main__:Train Epoch: 36 [36000/39000 (92%)]\tLoss: 1.592745\n"
     ]
    },
    {
     "name": "stdout",
     "output_type": "stream",
     "text": [
      "Finished Training epoch:36\n",
      "Epoch 37\n"
     ]
    },
    {
     "name": "stderr",
     "output_type": "stream",
     "text": [
      "INFO:__main__:Train Epoch: 37 [0/39000 (0%)]\tLoss: 0.371960\n"
     ]
    },
    {
     "name": "stdout",
     "output_type": "stream",
     "text": [
      "[38,     4] loss: 1.132\n"
     ]
    },
    {
     "name": "stderr",
     "output_type": "stream",
     "text": [
      "INFO:__main__:Train Epoch: 37 [12000/39000 (31%)]\tLoss: 0.544489\n"
     ]
    },
    {
     "name": "stdout",
     "output_type": "stream",
     "text": [
      "[38,     4] loss: 1.121\n"
     ]
    },
    {
     "name": "stderr",
     "output_type": "stream",
     "text": [
      "INFO:__main__:Train Epoch: 37 [24000/39000 (62%)]\tLoss: 0.557022\n"
     ]
    },
    {
     "name": "stdout",
     "output_type": "stream",
     "text": [
      "[38,     4] loss: 1.141\n",
      "[38,     4] loss: 1.159\n"
     ]
    },
    {
     "name": "stderr",
     "output_type": "stream",
     "text": [
      "INFO:__main__:Train Epoch: 37 [36000/39000 (92%)]\tLoss: 0.753136\n"
     ]
    },
    {
     "name": "stdout",
     "output_type": "stream",
     "text": [
      "Finished Training epoch:37\n",
      "Epoch 38\n"
     ]
    },
    {
     "name": "stderr",
     "output_type": "stream",
     "text": [
      "INFO:__main__:Train Epoch: 38 [0/39000 (0%)]\tLoss: 1.027148\n"
     ]
    },
    {
     "name": "stdout",
     "output_type": "stream",
     "text": [
      "[39,     4] loss: 1.149\n"
     ]
    },
    {
     "name": "stderr",
     "output_type": "stream",
     "text": [
      "INFO:__main__:Train Epoch: 38 [12000/39000 (31%)]\tLoss: 1.264754\n"
     ]
    },
    {
     "name": "stdout",
     "output_type": "stream",
     "text": [
      "[39,     4] loss: 1.144\n"
     ]
    },
    {
     "name": "stderr",
     "output_type": "stream",
     "text": [
      "INFO:__main__:Train Epoch: 38 [24000/39000 (62%)]\tLoss: 0.661457\n"
     ]
    },
    {
     "name": "stdout",
     "output_type": "stream",
     "text": [
      "[39,     4] loss: 1.122\n",
      "[39,     4] loss: 1.144\n"
     ]
    },
    {
     "name": "stderr",
     "output_type": "stream",
     "text": [
      "INFO:__main__:Train Epoch: 38 [36000/39000 (92%)]\tLoss: 1.308677\n"
     ]
    },
    {
     "name": "stdout",
     "output_type": "stream",
     "text": [
      "Finished Training epoch:38\n",
      "Epoch 39\n"
     ]
    },
    {
     "name": "stderr",
     "output_type": "stream",
     "text": [
      "INFO:__main__:Train Epoch: 39 [0/39000 (0%)]\tLoss: 0.655870\n"
     ]
    },
    {
     "name": "stdout",
     "output_type": "stream",
     "text": [
      "[40,     4] loss: 1.141\n"
     ]
    },
    {
     "name": "stderr",
     "output_type": "stream",
     "text": [
      "INFO:__main__:Train Epoch: 39 [12000/39000 (31%)]\tLoss: 2.144525\n"
     ]
    },
    {
     "name": "stdout",
     "output_type": "stream",
     "text": [
      "[40,     4] loss: 1.154\n"
     ]
    },
    {
     "name": "stderr",
     "output_type": "stream",
     "text": [
      "INFO:__main__:Train Epoch: 39 [24000/39000 (62%)]\tLoss: 1.150232\n"
     ]
    },
    {
     "name": "stdout",
     "output_type": "stream",
     "text": [
      "[40,     4] loss: 1.145\n",
      "[40,     4] loss: 1.141\n"
     ]
    },
    {
     "name": "stderr",
     "output_type": "stream",
     "text": [
      "INFO:__main__:Train Epoch: 39 [36000/39000 (92%)]\tLoss: 0.251775\n"
     ]
    },
    {
     "name": "stdout",
     "output_type": "stream",
     "text": [
      "Finished Training epoch:39\n",
      "Epoch 40\n"
     ]
    },
    {
     "name": "stderr",
     "output_type": "stream",
     "text": [
      "INFO:__main__:Train Epoch: 40 [0/39000 (0%)]\tLoss: 0.842081\n"
     ]
    },
    {
     "name": "stdout",
     "output_type": "stream",
     "text": [
      "[41,     4] loss: 1.132\n"
     ]
    },
    {
     "name": "stderr",
     "output_type": "stream",
     "text": [
      "INFO:__main__:Train Epoch: 40 [12000/39000 (31%)]\tLoss: 1.218560\n"
     ]
    },
    {
     "name": "stdout",
     "output_type": "stream",
     "text": [
      "[41,     4] loss: 1.153\n"
     ]
    },
    {
     "name": "stderr",
     "output_type": "stream",
     "text": [
      "INFO:__main__:Train Epoch: 40 [24000/39000 (62%)]\tLoss: 1.020340\n"
     ]
    },
    {
     "name": "stdout",
     "output_type": "stream",
     "text": [
      "[41,     4] loss: 1.150\n",
      "[41,     4] loss: 1.144\n"
     ]
    },
    {
     "name": "stderr",
     "output_type": "stream",
     "text": [
      "INFO:__main__:Train Epoch: 40 [36000/39000 (92%)]\tLoss: 1.446304\n"
     ]
    },
    {
     "name": "stdout",
     "output_type": "stream",
     "text": [
      "Finished Training epoch:40\n",
      "Epoch 41\n"
     ]
    },
    {
     "name": "stderr",
     "output_type": "stream",
     "text": [
      "INFO:__main__:Train Epoch: 41 [0/39000 (0%)]\tLoss: 1.365241\n"
     ]
    },
    {
     "name": "stdout",
     "output_type": "stream",
     "text": [
      "[42,     4] loss: 1.121\n"
     ]
    },
    {
     "name": "stderr",
     "output_type": "stream",
     "text": [
      "INFO:__main__:Train Epoch: 41 [12000/39000 (31%)]\tLoss: 0.996834\n"
     ]
    },
    {
     "name": "stdout",
     "output_type": "stream",
     "text": [
      "[42,     4] loss: 1.143\n"
     ]
    },
    {
     "name": "stderr",
     "output_type": "stream",
     "text": [
      "INFO:__main__:Train Epoch: 41 [24000/39000 (62%)]\tLoss: 3.446430\n"
     ]
    },
    {
     "name": "stdout",
     "output_type": "stream",
     "text": [
      "[42,     4] loss: 1.118\n",
      "[42,     4] loss: 1.145\n"
     ]
    },
    {
     "name": "stderr",
     "output_type": "stream",
     "text": [
      "INFO:__main__:Train Epoch: 41 [36000/39000 (92%)]\tLoss: 1.513897\n"
     ]
    },
    {
     "name": "stdout",
     "output_type": "stream",
     "text": [
      "Finished Training epoch:41\n",
      "Epoch 42\n"
     ]
    },
    {
     "name": "stderr",
     "output_type": "stream",
     "text": [
      "INFO:__main__:Train Epoch: 42 [0/39000 (0%)]\tLoss: 1.057479\n"
     ]
    },
    {
     "name": "stdout",
     "output_type": "stream",
     "text": [
      "[43,     4] loss: 1.151\n"
     ]
    },
    {
     "name": "stderr",
     "output_type": "stream",
     "text": [
      "INFO:__main__:Train Epoch: 42 [12000/39000 (31%)]\tLoss: 1.135745\n"
     ]
    },
    {
     "name": "stdout",
     "output_type": "stream",
     "text": [
      "[43,     4] loss: 1.116\n"
     ]
    },
    {
     "name": "stderr",
     "output_type": "stream",
     "text": [
      "INFO:__main__:Train Epoch: 42 [24000/39000 (62%)]\tLoss: 1.200946\n"
     ]
    },
    {
     "name": "stdout",
     "output_type": "stream",
     "text": [
      "[43,     4] loss: 1.142\n",
      "[43,     4] loss: 1.143\n"
     ]
    },
    {
     "name": "stderr",
     "output_type": "stream",
     "text": [
      "INFO:__main__:Train Epoch: 42 [36000/39000 (92%)]\tLoss: 0.519256\n"
     ]
    },
    {
     "name": "stdout",
     "output_type": "stream",
     "text": [
      "Finished Training epoch:42\n",
      "Epoch 43\n"
     ]
    },
    {
     "name": "stderr",
     "output_type": "stream",
     "text": [
      "INFO:__main__:Train Epoch: 43 [0/39000 (0%)]\tLoss: 1.548542\n"
     ]
    },
    {
     "name": "stdout",
     "output_type": "stream",
     "text": [
      "[44,     4] loss: 1.129\n"
     ]
    },
    {
     "name": "stderr",
     "output_type": "stream",
     "text": [
      "INFO:__main__:Train Epoch: 43 [12000/39000 (31%)]\tLoss: 0.605347\n"
     ]
    }
   ],
   "source": [
    "import torch\n",
    "import torch.nn as nn\n",
    "import torch.nn.functional as F\n",
    "import torch.optim as optim\n",
    "from torchvision import datasets, transforms\n",
    "from torch.autograd import Variable\n",
    "\n",
    "\n",
    "loss_history = []\n",
    "loss_history_2 = []\n",
    "acc_history = []\n",
    "running_loss = 0.0\n",
    "\n",
    "def train(epoch):\n",
    "    model.train()\n",
    "    running_loss = 0.0\n",
    "    for batch_idx, (data, target) in enumerate(train_loader): #  \n",
    "        # torch.LongTensor of size BATCH_SIZE\n",
    "        # [torch.FloatTensor of size 4x3x32x32] BATCH_SIZE* IMAGE SIZE\n",
    "        if use_cuda:\n",
    "            data, target = Variable(data.cuda(async=True)), Variable(target.cuda(async=True)) # On GPU                \n",
    "        else:            \n",
    "            data, target = Variable(data), Variable(target) \n",
    "            # You will get RuntimeError: expected CPU tensor (got CUDA tensor) if you dont do this \n",
    "        optimizer.zero_grad()        \n",
    "        outputs = model(data)\n",
    "        if use_cuda:\n",
    "            loss = criterion(outputs, target).cuda() \n",
    "#             loss = F.nll_loss(outputs, target).cuda() \n",
    "             \n",
    "        else:\n",
    "            loss = criterion(outputs, target)\n",
    "#             loss = F.nll_loss(outputs, target) \n",
    "\n",
    "        loss.backward()\n",
    "        optimizer.step()        \n",
    "        running_loss += loss.data[0]\n",
    "        if batch_idx % 2000 == 1999:    # print every 2000 mini-batches\n",
    "            print('[%d, %5d] loss: %.3f' % (epoch + 1, i + 1, running_loss / 2000))\n",
    "            loss_history.append(running_loss / 2000)\n",
    "            running_loss = 0.0\n",
    "            \n",
    "        if batch_idx % 3000 == 0:\n",
    "            loss_history_2.append(loss.data[0])\n",
    "            lgr.info('Train Epoch: {} [{}/{} ({:.0f}%)]\\tLoss: {:.6f}'.format(\n",
    "            epoch, batch_idx * len(data), len(train_loader.dataset),\n",
    "            100. * batch_idx / len(train_loader), loss.data[0]))       \n",
    "            \n",
    "start_time = time.time()    \n",
    "\n",
    "for epoch in range(1, N_EPOCHS):\n",
    "    print(\"Epoch %d\" % epoch)\n",
    "    train(epoch)    \n",
    "    print('Finished Training epoch:' + str(epoch))\n",
    "end_time = time.time()\n",
    "\n",
    "%matplotlib inline\n",
    "import matplotlib.pyplot as plt\n",
    "plt.plot(loss_history)\n",
    "plt.show()"
   ]
  },
  {
   "cell_type": "markdown",
   "metadata": {
    "collapsed": true,
    "slideshow": {
     "slide_type": "slide"
    }
   },
   "source": [
    "# Plot LOG_LOSS"
   ]
  },
  {
   "cell_type": "code",
   "execution_count": null,
   "metadata": {},
   "outputs": [],
   "source": [
    "%matplotlib inline\n",
    "import matplotlib.pyplot as plt\n",
    "plt.plot(loss_history_2)\n",
    "plt.show()"
   ]
  },
  {
   "cell_type": "markdown",
   "metadata": {
    "collapsed": true,
    "slideshow": {
     "slide_type": "slide"
    }
   },
   "source": [
    "# Validate the model on a small sample of images"
   ]
  },
  {
   "cell_type": "code",
   "execution_count": null,
   "metadata": {},
   "outputs": [],
   "source": [
    "import torchvision\n",
    "def imshow(img):\n",
    "    img = img / 2 + 0.5     # unnormalize\n",
    "    npimg = img.numpy()\n",
    "    plt.imshow(np.transpose(npimg, (1, 2, 0)))    \n",
    "    \n",
    "dataiter = iter(val_loader)\n",
    "images, labels = dataiter.next()\n",
    "print (labels)\n",
    "imshow(torchvision.utils.make_grid(images))\n",
    "print('GroundTruth: ', ' '.join('%5s' % classes[labels[j]] for j in range(4)))\n",
    "\n",
    "if use_cuda:\n",
    "    images = Variable(images.cuda(async=True))\n",
    "else:            \n",
    "    images= Variable(images)\n",
    "            \n",
    "outputs = model(images)\n",
    "\n",
    "_, predicted = torch.max(outputs.data, 1)\n",
    "predicted=predicted.cpu().numpy()\n",
    "print (predicted)\n",
    "print (type(predicted))\n",
    "\n",
    "for y in np.nditer(predicted, op_flags=['readwrite']):\n",
    "    print (classes[y])                "
   ]
  },
  {
   "cell_type": "code",
   "execution_count": null,
   "metadata": {},
   "outputs": [],
   "source": [
    "def test(epoch):\n",
    "    model.eval() # set model in inference mode (need this because of dropout)\n",
    "    test_loss = 0\n",
    "    correct = 0\n",
    "     \n",
    "    for data, target in val_loader:\n",
    "        if use_cuda:\n",
    "            data, target = Variable(data.cuda(async=True), volatile=True), Variable(target.cuda(async=True)) # On GPU                \n",
    "        else:            \n",
    "            data, target = Variable(data), Variable(target)            \n",
    "         \n",
    "        output = model(data)\n",
    "        test_loss += F.nll_loss(output, target).data[0]\n",
    "#         test_loss += criterion(output, target).data[0]\n",
    "        \n",
    "        pred = output.data.max(1)[1] # get the index of the max log-probability\n",
    "        correct += pred.eq(target.data).cpu().sum()\n",
    " \n",
    "    test_loss = test_loss\n",
    "    test_loss /= len(val_loader) # loss function already averages over batch size\n",
    "    accuracy = 100. * correct / len(val_loader.dataset)\n",
    "    acc_history.append(accuracy)\n",
    "    print('\\nTest set: Average loss: {:.4f}, Accuracy: {}/{} ({:.0f}%)\\n'.format(\n",
    "        test_loss, correct, len(val_loader.dataset),\n",
    "        accuracy))\n",
    "    \n",
    "    \n",
    "for epoch in range(0, 1):\n",
    "    print(\"Epoch %d\" % epoch)    \n",
    "    test(epoch)    "
   ]
  },
  {
   "cell_type": "code",
   "execution_count": 49,
   "metadata": {},
   "outputs": [],
   "source": [
    "# correct = 0\n",
    "# total = 0\n",
    "\n",
    "# for data in val_loader:\n",
    "#     images, labels = data\n",
    "    \n",
    "# if use_cuda:\n",
    "#     outputs = model(Variable(images.cuda(async=True)))\n",
    "# else:            \n",
    "#     outputs = model(Variable(images))                \n",
    "    \n",
    "#     _, predicted = torch.max(outputs.data, 1)\n",
    "#     total += labels.size(0)\n",
    "#     correct += (predicted == labels).sum()\n",
    "\n",
    "# print (\"Total:\"  +  str (total))    \n",
    "# print (\"correct:\" + str (correct))    \n",
    "\n",
    "# print('Accuracy of the network on the 10000 test images: %d %%' % (100 * correct / total))\n"
   ]
  },
  {
   "cell_type": "code",
   "execution_count": 334,
   "metadata": {
    "slideshow": {
     "slide_type": "skip"
    }
   },
   "outputs": [
    {
     "name": "stderr",
     "output_type": "stream",
     "text": [
      "/usr/local/lib/python2.7/dist-packages/requests/__init__.py:80: RequestsDependencyWarning: urllib3 (1.22) or chardet (2.3.0) doesn't match a supported version!\n",
      "  RequestsDependencyWarning)\n",
      "[NbConvertApp] Converting notebook ./09 PyTorch Kaggle Image Data-set loading with CNN.ipynb to slides\n",
      "[NbConvertApp] Writing 394699 bytes to ./py09.html.slides.html\n"
     ]
    }
   ],
   "source": [
    "%%bash\n",
    "jupyter nbconvert \\\n",
    "    --to=slides \\\n",
    "    --reveal-prefix=https://cdnjs.cloudflare.com/ajax/libs/reveal.js/3.2.0/ \\\n",
    "    --output=py09.html \\\n",
    "    './09 PyTorch Kaggle Image Data-set loading with CNN'"
   ]
  }
 ],
 "metadata": {
  "celltoolbar": "Slideshow",
  "kernelspec": {
   "display_name": "Python 2",
   "language": "python",
   "name": "python2"
  },
  "language_info": {
   "codemirror_mode": {
    "name": "ipython",
    "version": 2
   },
   "file_extension": ".py",
   "mimetype": "text/x-python",
   "name": "python",
   "nbconvert_exporter": "python",
   "pygments_lexer": "ipython2",
   "version": "2.7.12"
  },
  "livereveal": {
   "controls": "true",
   "history": "true",
   "mouseWheel": "true",
   "overview": "true",
   "progress": "true",
   "scroll": "true",
   "start_slideshow_at": "selected"
  }
 },
 "nbformat": 4,
 "nbformat_minor": 1
}
