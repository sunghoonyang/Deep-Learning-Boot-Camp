{
 "cells": [
  {
   "cell_type": "markdown",
   "metadata": {
    "slideshow": {
     "slide_type": "slide"
    }
   },
   "source": [
    "# Deep Learning Bootcamp November 2017, GPU Computing for Data Scientists\n",
    "\n",
    "<img src=\"../images/bcamp.png\" align=\"center\">\n",
    "\n",
    "## 17  PyTorch Logistic Regression\n",
    "\n",
    "Web: https://www.meetup.com/Tel-Aviv-Deep-Learning-Bootcamp/events/241762893/\n",
    "\n",
    "Notebooks: <a href=\"https://github.com/QuantScientist/Data-Science-PyCUDA-GPU\"> On GitHub</a>\n",
    "\n",
    "*Shlomo Kashani*\n",
    "\n",
    "<img src=\"../images/pt.jpg\" width=\"35%\" align=\"center\">\n"
   ]
  },
  {
   "cell_type": "markdown",
   "metadata": {
    "collapsed": true,
    "slideshow": {
     "slide_type": "slide"
    }
   },
   "source": [
    "# PyTorch Imports\n"
   ]
  },
  {
   "cell_type": "code",
   "execution_count": 76,
   "metadata": {
    "slideshow": {
     "slide_type": "-"
    }
   },
   "outputs": [
    {
     "name": "stdout",
     "output_type": "stream",
     "text": [
      "tensorflow:1.2.1\n",
      "__Python VERSION: 2.7.6 (default, Oct 26 2016, 20:30:19) \n",
      "[GCC 4.8.4]\n",
      "__pyTorch VERSION: 0.2.0_1\n",
      "__CUDA VERSION\n",
      "__CUDNN VERSION: 6021\n",
      "__Number CUDA Devices: 0\n",
      "__Devices\n"
     ]
    }
   ],
   "source": [
    "# !pip install pycuda\n",
    "%reset -f\n",
    "import numpy\n",
    "import numpy as np\n",
    "from __future__ import print_function\n",
    "from __future__ import division\n",
    "import math\n",
    "import numpy as np\n",
    "import matplotlib.pyplot as plt\n",
    "%matplotlib inline\n",
    "import pandas as pd\n",
    "import os\n",
    "import torch\n",
    "from torch.utils.data.dataset import Dataset\n",
    "from torch.utils.data import DataLoader\n",
    "from torchvision import transforms\n",
    "from torch import nn\n",
    "import torch.nn.functional as F\n",
    "import torch.optim as optim\n",
    "from torch.autograd import Variable\n",
    "from sklearn.preprocessing import MultiLabelBinarizer\n",
    "import time\n",
    "%matplotlib inline\n",
    "from pylab import rcParams\n",
    "rcParams['figure.figsize'] = (6, 6)      # setting default size of plots\n",
    "import tensorflow as tf \n",
    "print(\"tensorflow:\" + tf.__version__)\n",
    "!set \"KERAS_BACKEND=tensorflow\"\n",
    "import torch\n",
    "import sys\n",
    "print('__Python VERSION:', sys.version)\n",
    "print('__pyTorch VERSION:', torch.__version__)\n",
    "print('__CUDA VERSION')\n",
    "from subprocess import call\n",
    "print('__CUDNN VERSION:', torch.backends.cudnn.version())\n",
    "print('__Number CUDA Devices:', torch.cuda.device_count())\n",
    "print('__Devices')\n",
    "\n",
    "# !pip install http://download.pytorch.org/whl/cu75/torch-0.2.0.post1-cp27-cp27mu-manylinux1_x86_64.whl\n",
    "# !pip install torchvision \n",
    "# ! pip install cv2\n",
    "# import cv2"
   ]
  },
  {
   "cell_type": "markdown",
   "metadata": {
    "collapsed": true,
    "slideshow": {
     "slide_type": "slide"
    }
   },
   "source": [
    "#  Load a CSV file for Binary classification"
   ]
  },
  {
   "cell_type": "code",
   "execution_count": 120,
   "metadata": {},
   "outputs": [
    {
     "name": "stdout",
     "output_type": "stream",
     "text": [
      "(759, 8)\n"
     ]
    },
    {
     "data": {
      "text/html": [
       "<div>\n",
       "<style>\n",
       "    .dataframe thead tr:only-child th {\n",
       "        text-align: right;\n",
       "    }\n",
       "\n",
       "    .dataframe thead th {\n",
       "        text-align: left;\n",
       "    }\n",
       "\n",
       "    .dataframe tbody tr th {\n",
       "        vertical-align: top;\n",
       "    }\n",
       "</style>\n",
       "<table border=\"1\" class=\"dataframe\">\n",
       "  <thead>\n",
       "    <tr style=\"text-align: right;\">\n",
       "      <th></th>\n",
       "      <th>0</th>\n",
       "      <th>1</th>\n",
       "      <th>2</th>\n",
       "      <th>3</th>\n",
       "      <th>4</th>\n",
       "      <th>5</th>\n",
       "      <th>6</th>\n",
       "      <th>7</th>\n",
       "    </tr>\n",
       "  </thead>\n",
       "  <tbody>\n",
       "    <tr>\n",
       "      <th>0</th>\n",
       "      <td>-0.294118</td>\n",
       "      <td>0.487437</td>\n",
       "      <td>0.180328</td>\n",
       "      <td>-0.292929</td>\n",
       "      <td>0.000000</td>\n",
       "      <td>0.001490</td>\n",
       "      <td>-0.531170</td>\n",
       "      <td>-0.033333</td>\n",
       "    </tr>\n",
       "    <tr>\n",
       "      <th>1</th>\n",
       "      <td>-0.882353</td>\n",
       "      <td>-0.145729</td>\n",
       "      <td>0.081967</td>\n",
       "      <td>-0.414141</td>\n",
       "      <td>0.000000</td>\n",
       "      <td>-0.207153</td>\n",
       "      <td>-0.766866</td>\n",
       "      <td>-0.666667</td>\n",
       "    </tr>\n",
       "    <tr>\n",
       "      <th>2</th>\n",
       "      <td>-0.058823</td>\n",
       "      <td>0.839196</td>\n",
       "      <td>0.049180</td>\n",
       "      <td>0.000000</td>\n",
       "      <td>0.000000</td>\n",
       "      <td>-0.305514</td>\n",
       "      <td>-0.492741</td>\n",
       "      <td>-0.633333</td>\n",
       "    </tr>\n",
       "    <tr>\n",
       "      <th>3</th>\n",
       "      <td>-0.882353</td>\n",
       "      <td>-0.105528</td>\n",
       "      <td>0.081967</td>\n",
       "      <td>-0.535354</td>\n",
       "      <td>-0.777778</td>\n",
       "      <td>-0.162444</td>\n",
       "      <td>-0.923997</td>\n",
       "      <td>0.000000</td>\n",
       "    </tr>\n",
       "    <tr>\n",
       "      <th>4</th>\n",
       "      <td>0.000000</td>\n",
       "      <td>0.376884</td>\n",
       "      <td>-0.344262</td>\n",
       "      <td>-0.292929</td>\n",
       "      <td>-0.602837</td>\n",
       "      <td>0.284650</td>\n",
       "      <td>0.887276</td>\n",
       "      <td>-0.600000</td>\n",
       "    </tr>\n",
       "  </tbody>\n",
       "</table>\n",
       "</div>"
      ],
      "text/plain": [
       "          0         1         2         3         4         5         6  \\\n",
       "0 -0.294118  0.487437  0.180328 -0.292929  0.000000  0.001490 -0.531170   \n",
       "1 -0.882353 -0.145729  0.081967 -0.414141  0.000000 -0.207153 -0.766866   \n",
       "2 -0.058823  0.839196  0.049180  0.000000  0.000000 -0.305514 -0.492741   \n",
       "3 -0.882353 -0.105528  0.081967 -0.535354 -0.777778 -0.162444 -0.923997   \n",
       "4  0.000000  0.376884 -0.344262 -0.292929 -0.602837  0.284650  0.887276   \n",
       "\n",
       "          7  \n",
       "0 -0.033333  \n",
       "1 -0.666667  \n",
       "2 -0.633333  \n",
       "3  0.000000  \n",
       "4 -0.600000  "
      ]
     },
     "execution_count": 120,
     "metadata": {},
     "output_type": "execute_result"
    }
   ],
   "source": [
    "% reset -f\n",
    "\n",
    "# ! pip install tables\n",
    "\n",
    "import torch\n",
    "from torch.autograd import Variable\n",
    "import numpy as np\n",
    "import pandas\n",
    "import numpy as np\n",
    "import pandas as pd\n",
    "from sklearn import cross_validation\n",
    "from sklearn import metrics\n",
    "from sklearn.metrics import roc_auc_score, log_loss, roc_auc_score, roc_curve, auc\n",
    "import matplotlib.pyplot as plt\n",
    "from sklearn import cross_validation\n",
    "from sklearn import metrics\n",
    "from sklearn.metrics import roc_auc_score, log_loss, roc_auc_score, roc_curve, auc\n",
    "from sklearn.cross_validation import StratifiedKFold, ShuffleSplit, cross_val_score, train_test_split\n",
    "import logging\n",
    "handler=logging.basicConfig(level=logging.INFO)\n",
    "lgr = logging.getLogger(__name__)\n",
    "\n",
    "%matplotlib inline\n",
    "\n",
    "\n",
    "F_NAME_TRAIN= 'data-03-diabetes.csv'\n",
    "# F_NAME_TRAIN='numerai/numerai_training_data.csv'\n",
    "\n",
    "# X_df_train= pd.read_csv(F_NAME_TRAIN)\n",
    "X_df_train= pd.read_csv(F_NAME_TRAIN,header=None, dtype=np.float32)\n",
    "X_df_train_SINGLE=X_df_train.copy(deep=True)   \n",
    "\n",
    "\n",
    "# X_df_train_SINGLE.drop('id', axis=1, inplace=True)\n",
    "# X_df_train_SINGLE.drop('era', axis=1, inplace=True)\n",
    "# X_df_train_SINGLE.drop('data_type', axis=1, inplace=True)\n",
    "# # drop the header\n",
    "\n",
    "# X_df_train_SINGLE.to_csv('numerai/numerai_training_data_clean.csv', header=False)\n",
    "# X_df_train_SINGLE= pd.read_csv('numerai/numerai_training_data_clean.csv', header=None, dtype=np.float32)\n",
    "\n",
    "# X_df_train_SINGLE=X_df_train_SINGLE.dropna()\n",
    "    \n",
    "answers_1_SINGLE = list (X_df_train_SINGLE[X_df_train_SINGLE.columns[-1]].values)\n",
    "answers_1_SINGLE= map(int, answers_1_SINGLE)\n",
    "X_df_train_SINGLE = X_df_train_SINGLE.drop(X_df_train_SINGLE.columns[-1], axis=1)\n",
    "# X_df_train_SINGLE=X_df_train_SINGLE.apply(lambda x: pandas.to_numeric(x, errors='ignore'))  \n",
    "\n",
    "print(X_df_train_SINGLE.shape)\n",
    "\n",
    "# (np.where(np.isnan(X_df_train_SINGLE)))\n",
    "# (np.where(np.isinf(X_df_train_SINGLE)))\n",
    "\n",
    "# X_df_train_SINGLE.info()\n",
    "\n",
    "use_cuda = False\n",
    "FloatTensor = torch.cuda.FloatTensor if use_cuda else torch.FloatTensor\n",
    "LongTensor = torch.cuda.LongTensor if use_cuda else torch.LongTensor\n",
    "Tensor = FloatTensor\n",
    "\n",
    "# fix seed\n",
    "seed=17*19\n",
    "np.random.seed(seed)\n",
    "torch.manual_seed(seed)\n",
    "if use_cuda:\n",
    "    torch.cuda.manual_seed(seed)        \n",
    "\n",
    "# sk learn\n",
    "trainX, testX, trainY, testY = train_test_split(X_df_train_SINGLE, answers_1_SINGLE, test_size=.22, random_state=999)  \n",
    "\n",
    "X_df_train_SINGLE.head(5)"
   ]
  },
  {
   "cell_type": "markdown",
   "metadata": {
    "collapsed": true,
    "slideshow": {
     "slide_type": "slide"
    }
   },
   "source": [
    "#  Create PyTorch GPU tensors\n",
    "\n",
    "- Note how we transfrom the np arrays"
   ]
  },
  {
   "cell_type": "code",
   "execution_count": 121,
   "metadata": {},
   "outputs": [
    {
     "name": "stderr",
     "output_type": "stream",
     "text": [
      "INFO:__main__:Using the CPU\n"
     ]
    },
    {
     "name": "stdout",
     "output_type": "stream",
     "text": [
      "(592, 8) (592, 1)\n",
      "<type 'numpy.ndarray'> <type 'numpy.ndarray'>\n",
      "<class 'torch.FloatTensor'> <class 'torch.LongTensor'>\n",
      "(592, 8) (592, 1)\n",
      "<type 'numpy.ndarray'> <type 'numpy.ndarray'>\n"
     ]
    }
   ],
   "source": [
    "\n",
    "\n",
    "# Train data\n",
    "x_data_np = np.array(trainX.values, dtype=np.float32)\n",
    "y_data_np = np.array(trainY, dtype=np.float32)\n",
    "y_data_np=y_data_np.reshape((y_data_np.shape[0],1)) # Must be reshaped for PyTorch!\n",
    "\n",
    "\n",
    "print(x_data_np.shape, y_data_np.shape)\n",
    "print(type(x_data_np), type(y_data_np))\n",
    "\n",
    "if use_cuda:\n",
    "    lgr.info (\"Using the GPU\")    \n",
    "    X = Variable(torch.from_numpy(x_data_np).cuda()) # Note the conversion for pytorch\n",
    "    Y = Variable(torch.from_numpy(y_data_np).type(torch.LongTensor).cuda())\n",
    "else:\n",
    "    lgr.info (\"Using the CPU\")\n",
    "    X = Variable(torch.from_numpy(x_data_np)) # Note the conversion for pytorch\n",
    "    Y = Variable(torch.squeeze (torch.from_numpy(y_data_np).type(torch.LongTensor)))  #         \n",
    "    \n",
    "print(type(X.data), type(Y.data)) # should be 'torch.cuda.FloatTensor'\n",
    "print(x_data_np.shape, y_data_np.shape)\n",
    "print(type(x_data_np), type(y_data_np))\n",
    "    "
   ]
  },
  {
   "cell_type": "code",
   "execution_count": 177,
   "metadata": {},
   "outputs": [
    {
     "name": "stdout",
     "output_type": "stream",
     "text": [
      "Net (\n",
      "  (hidden): Linear (8 -> 100)\n",
      "  (out): Linear (100 -> 2)\n",
      ")\n"
     ]
    }
   ],
   "source": [
    "import torch\n",
    "from torch.autograd import Variable\n",
    "import torch.nn.functional as F\n",
    "import matplotlib.pyplot as plt\n",
    "\n",
    "\n",
    "\n",
    "class Net(torch.nn.Module):\n",
    "    def __init__(self, n_feature, n_hidden, n_output):\n",
    "        super(Net, self).__init__()\n",
    "        self.hidden = torch.nn.Linear(n_feature, n_hidden)   # hidden layer\n",
    "        self.out = torch.nn.Linear(n_hidden, n_output)   # output layer        \n",
    "#         torch.nn.init.xavier_uniform(self.hidden.weight, gain=np.sqrt(2.0))\n",
    "\n",
    "    def forward(self, x):\n",
    "        x = F.relu(self.hidden(x))      # activation function for hidden layer\n",
    "        x = self.out(x)\n",
    "        return x\n",
    "\n",
    "linear1=torch.nn.Linear(x_data_np.shape[1], 2, bias=True) \n",
    "# xavier initializer\n",
    "torch.nn.init.xavier_uniform(linear1.weight)\n",
    "sigmoid = torch.nn.Sigmoid()\n",
    "# model = torch.nn.Sequential(linear1,dropout, sigmoid)\n",
    "\n",
    "net = torch.nn.Sequential(linear1, sigmoid)    \n",
    "net = Net(n_feature=x_data_np.shape[1], n_hidden=100, n_output=2)     # define the network\n",
    "print(net)  # net architecture\n",
    "\n",
    "optimizer = torch.optim.SGD(net.parameters(), lr=0.02)\n",
    "loss_func = torch.nn.CrossEntropyLoss()  # the target label is NOT an one-hotted"
   ]
  },
  {
   "cell_type": "code",
   "execution_count": 178,
   "metadata": {},
   "outputs": [
    {
     "name": "stdout",
     "output_type": "stream",
     "text": [
      "0 [ 0.6759584]\n",
      "acc=0.623310810811 log_loss=13.010637602 roc_auc=0.491958666278 \n",
      "2000 [ 0.45388964]\n",
      "acc=0.766891891892 log_loss=8.05138497952 roc_auc=0.721339293629 \n",
      "4000 [ 0.44120336]\n",
      "acc=0.775337837838 log_loss=7.75966693837 roc_auc=0.732476857421 \n",
      "6000 [ 0.42901507]\n",
      "acc=0.783783783784 log_loss=7.46795294922 roc_auc=0.740081299783 \n",
      "GPU: 20.715 seconds\n"
     ]
    },
    {
     "data": {
      "image/png": "[encoded data removed]",
      "text/plain": [
       "<matplotlib.figure.Figure at 0x7f318c16af50>"
      ]
     },
     "metadata": {},
     "output_type": "display_data"
    }
   ],
   "source": [
    "import time\n",
    "start_time = time.time()    \n",
    "epochs=8000\n",
    "all_losses = []\n",
    "\n",
    "x,y= X,Y\n",
    "\n",
    "for step in range(epochs):\n",
    "#     net.train()\n",
    "    out = net(x)                 # input x and predict based on x\n",
    "    cost = loss_func(out, y)     # must be (1. nn output, 2. target), the target label is NOT one-hotted\n",
    "\n",
    "    optimizer.zero_grad()   # clear gradients for next train\n",
    "    cost.backward()         # backpropagation, compute gradients\n",
    "    optimizer.step()        # apply gradients\n",
    "       \n",
    "    # Keep loss \n",
    "    if step % 150 == 0:\n",
    "        loss = cost.data[0]\n",
    "        all_losses.append(loss)\n",
    "        \n",
    "    if step % 2000 == 0:        \n",
    "        print(step, cost.data.cpu().numpy())\n",
    "        # RuntimeError: can't convert CUDA tensor to numpy (it doesn't support GPU arrays). \n",
    "        # Use .cpu() to move the tensor to host memory first.        \n",
    "        prediction = torch.max(F.softmax(out), 1)[1]\n",
    "        pred_y = prediction.data.numpy().squeeze()\n",
    "        target_y = y.data.numpy()                \n",
    "        \n",
    "        tu = ((pred_y == target_y).mean(),log_loss(target_y, pred_y),roc_auc_score(target_y,pred_y ))\n",
    "        print ('acc={} log_loss={} roc_auc={} '.format(*tu))\n",
    "                \n",
    "end_time = time.time()\n",
    "print ('{} {:6.3f} seconds'.format('GPU:', end_time-start_time))\n",
    "\n",
    "%matplotlib inline\n",
    "import matplotlib.pyplot as plt\n",
    "plt.plot(all_losses)\n",
    "plt.show()"
   ]
  },
  {
   "cell_type": "code",
   "execution_count": 179,
   "metadata": {},
   "outputs": [
    {
     "name": "stderr",
     "output_type": "stream",
     "text": [
      "INFO:__main__:Using the CPU\n"
     ]
    },
    {
     "name": "stdout",
     "output_type": "stream",
     "text": [
      "(167, 8) (167, 1)\n",
      "<type 'numpy.ndarray'> <type 'numpy.ndarray'>\n",
      "<class 'torch.FloatTensor'> <class 'torch.LongTensor'>\n",
      "(167, 8) (167, 1)\n",
      "<type 'numpy.ndarray'> <type 'numpy.ndarray'>\n",
      "acc=0.77245508982 log_loss=7.85928077678 roc_auc=0.701635514019 \n"
     ]
    },
    {
     "data": {
      "image/png": "[encoded data removed]",
      "text/plain": [
       "<matplotlib.figure.Figure at 0x7f318c16abd0>"
      ]
     },
     "metadata": {},
     "output_type": "display_data"
    }
   ],
   "source": [
    "net.eval()\n",
    "\n",
    "# Validation data\n",
    "x_data_np_val = np.array(testX.values, dtype=np.float32)\n",
    "y_data_np_val = np.array(testY, dtype=np.float32)\n",
    "y_data_np_val=y_data_np_val.reshape((y_data_np_val.shape[0],1)) # Must be reshaped for PyTorch!\n",
    "\n",
    "\n",
    "print(x_data_np_val.shape, y_data_np_val.shape)\n",
    "print(type(x_data_np_val), type(y_data_np_val))\n",
    "\n",
    "if use_cuda:\n",
    "    lgr.info (\"Using the GPU\")    \n",
    "    X_val = Variable(torch.from_numpy(x_data_np_val).cuda()) # Note the conversion for pytorch\n",
    "    Y_val = Variable(torch.from_numpy(y_data_np_val).type(torch.LongTensor).cuda())\n",
    "else:\n",
    "    lgr.info (\"Using the CPU\")\n",
    "    X_val = Variable(torch.from_numpy(x_data_np_val)) # Note the conversion for pytorch\n",
    "    Y_val = Variable(torch.squeeze (torch.from_numpy(y_data_np_val).type(torch.LongTensor)))  #         \n",
    "    \n",
    "print(type(X_val.data), type(Y_val.data)) # should be 'torch.cuda.FloatTensor'\n",
    "print(x_data_np_val.shape, y_data_np_val.shape)\n",
    "print(type(x_data_np_val), type(y_data_np_val))\n",
    "\n",
    "x,y= X_val,Y_val\n",
    "\n",
    "# VALIDATION\n",
    "\n",
    "predicted_val = (net(X_val).data).float()\n",
    "# predicted_val = (net(X_val).data > 0.5).float()\n",
    "# prediction_val = torch.max(F.softmax((net(X_val).data)), 1)[1]\n",
    "pred_y = prediction_val.data.cpu().numpy()\n",
    "# pred_y=predicted_val.cpu().numpy()\n",
    "target_y = Y_val.data.numpy()                \n",
    "\n",
    "tu = (str ((pred_y == target_y).mean()),log_loss(target_y, pred_y),roc_auc_score(target_y,pred_y ))\n",
    "print ('acc={} log_loss={} roc_auc={} '.format(*tu))\n",
    "\n",
    "false_positive_rate, true_positive_rate, thresholds = roc_curve(target_y,pred_y)\n",
    "roc_auc = auc(false_positive_rate, true_positive_rate)\n",
    "\n",
    "plt.title('LOG_LOSS=' + str(log_loss(target_y, pred_y)))\n",
    "plt.plot(false_positive_rate, true_positive_rate, 'b', label='AUC = %0.6f' % roc_auc)\n",
    "plt.legend(loc='lower right')\n",
    "plt.plot([0, 1], [0, 1], 'r--')\n",
    "plt.xlim([-0.1, 1.2])\n",
    "plt.ylim([-0.1, 1.2])\n",
    "plt.ylabel('True Positive Rate')\n",
    "plt.xlabel('False Positive Rate')\n",
    "plt.show()"
   ]
  },
  {
   "cell_type": "code",
   "execution_count": 180,
   "metadata": {},
   "outputs": [
    {
     "name": "stdout",
     "output_type": "stream",
     "text": [
      "Variable              Type                Data/Info\n",
      "---------------------------------------------------\n",
      "F                     module              <module 'torch.nn.functio<...>torch/nn/functional.pyc'>\n",
      "F_NAME_TRAIN          str                 data-03-diabetes.csv\n",
      "FloatTensor           type                <class 'torch.FloatTensor'>\n",
      "LongTensor            type                <class 'torch.LongTensor'>\n",
      "Net                   type                <class '__main__.Net'>\n",
      "R_SCORE_VAL           float64             0.701635514019\n",
      "ShuffleSplit          ABCMeta             <class 'sklearn.cross_validation.ShuffleSplit'>\n",
      "StratifiedKFold       ABCMeta             <class 'sklearn.cross_val<...>idation.StratifiedKFold'>\n",
      "Tensor                type                <class 'torch.FloatTensor'>\n",
      "Variable              type                <class 'torch.autograd.variable.Variable'>\n",
      "X                     Variable            Variable containing:\\n-0.<...>atTensor of size 592x8]\\n\n",
      "X_df_train            DataFrame                       0         1  <...>n\\n[759 rows x 9 columns]\n",
      "X_df_train_SINGLE     DataFrame                       0         1  <...>n\\n[759 rows x 8 columns]\n",
      "X_val                 Variable            Variable containing:\\n-0.<...>atTensor of size 167x8]\\n\n",
      "Y                     Variable            Variable containing:\\n 0\\<...>LongTensor of size 592]\\n\n",
      "Y_val                 Variable            Variable containing:\\n 1\\<...>LongTensor of size 167]\\n\n",
      "accuracy_val          float64             0.77245508982\n",
      "all_losses            list                n=54\n",
      "answers_1_SINGLE      list                n=759\n",
      "auc                   function            <function auc at 0x7f31baf31578>\n",
      "cost                  Variable            Variable containing:\\n 0.<...>.FloatTensor of size 1]\\n\n",
      "cross_val_score       function            <function cross_val_score at 0x7f31b9dc7758>\n",
      "cross_validation      module              <module 'sklearn.cross_va<...>rn/cross_validation.pyc'>\n",
      "end_time              float               1504014203.23\n",
      "epochs                int                 8000\n",
      "false_positive_rate   ndarray             3: 3 elems, type `float64`, 24 bytes\n",
      "handler               NoneType            None\n",
      "lgr                   Logger              <logging.Logger object at 0x7f31baf71a10>\n",
      "linear1               Linear              Linear (8 -> 2)\n",
      "log_loss              function            <function log_loss at 0x7f31ba4866e0>\n",
      "logging               module              <module 'logging' from '/<...>.7/logging/__init__.pyc'>\n",
      "loss                  float               0.418726831675\n",
      "loss_func             CrossEntropyLoss    CrossEntropyLoss (\\n)\n",
      "metrics               module              <module 'sklearn.metrics'<...>rn/metrics/__init__.pyc'>\n",
      "net                   Net                 Net (\\n  (hidden): Linear<...>ut): Linear (100 -> 2)\\n)\n",
      "np                    module              <module 'numpy' from '/us<...>ages/numpy/__init__.pyc'>\n",
      "optimizer             SGD                 <torch.optim.sgd.SGD object at 0x7f318c6e7bd0>\n",
      "out                   Variable            Variable containing:\\n 0.<...>atTensor of size 592x2]\\n\n",
      "pandas                module              <module 'pandas' from '/u<...>ges/pandas/__init__.pyc'>\n",
      "pd                    module              <module 'pandas' from '/u<...>ges/pandas/__init__.pyc'>\n",
      "plt                   module              <module 'matplotlib.pyplo<...>s/matplotlib/pyplot.pyc'>\n",
      "pred_y                ndarray             167: 167 elems, type `int64`, 1336 bytes\n",
      "predicted_val         FloatTensor         \\n-2.2234  1.9412\\n-0.453<...>atTensor of size 167x2]\\n\n",
      "prediction            Variable            Variable containing:\\n 0\\<...>LongTensor of size 592]\\n\n",
      "prediction_val        Variable            Variable containing:\\n 1\\<...>LongTensor of size 167]\\n\n",
      "roc_auc               float64             0.701635514019\n",
      "roc_auc_score         function            <function roc_auc_score at 0x7f31baf31668>\n",
      "roc_curve             function            <function roc_curve at 0x7f31baf317d0>\n",
      "seed                  int                 323\n",
      "sigmoid               Sigmoid             Sigmoid ()\n",
      "start_time            float               1504014182.51\n",
      "step                  int                 7999\n",
      "target_y              ndarray             167: 167 elems, type `int64`, 1336 bytes\n",
      "testX                 DataFrame                       0         1  <...>n\\n[167 rows x 8 columns]\n",
      "testY                 list                n=167\n",
      "thresholds            ndarray             3: 3 elems, type `int64`, 24 bytes\n",
      "time                  module              <module 'time' (built-in)>\n",
      "torch                 module              <module 'torch' from '/us<...>ages/torch/__init__.pyc'>\n",
      "trainX                DataFrame                       0         1  <...>n\\n[592 rows x 8 columns]\n",
      "trainY                list                n=592\n",
      "train_test_split      function            <function train_test_split at 0x7f31b9dc7b18>\n",
      "true_positive_rate    ndarray             3: 3 elems, type `float64`, 24 bytes\n",
      "tu                    tuple               n=3\n",
      "use_cuda              bool                False\n",
      "x                     Variable            Variable containing:\\n-0.<...>atTensor of size 167x8]\\n\n",
      "x_data_np             ndarray             592x8: 4736 elems, type `float32`, 18944 bytes\n",
      "x_data_np_val         ndarray             167x8: 1336 elems, type `float32`, 5344 bytes\n",
      "y                     Variable            Variable containing:\\n 1\\<...>LongTensor of size 167]\\n\n",
      "y_data_np             ndarray             592x1: 592 elems, type `float32`, 2368 bytes\n",
      "y_data_np_val         ndarray             167x1: 167 elems, type `float32`, 668 bytes\n"
     ]
    }
   ],
   "source": [
    "%whos"
   ]
  },
  {
   "cell_type": "code",
   "execution_count": 181,
   "metadata": {},
   "outputs": [
    {
     "name": "stdout",
     "output_type": "stream",
     "text": [
      "Interactive namespace is empty.\n"
     ]
    }
   ],
   "source": [
    "%reset -f\n",
    "%whos"
   ]
  },
  {
   "cell_type": "code",
   "execution_count": null,
   "metadata": {
    "collapsed": true
   },
   "outputs": [],
   "source": []
  },
  {
   "cell_type": "code",
   "execution_count": null,
   "metadata": {
    "collapsed": true
   },
   "outputs": [],
   "source": []
  }
 ],
 "metadata": {
  "celltoolbar": "Slideshow",
  "kernelspec": {
   "display_name": "Python 2",
   "language": "python",
   "name": "python2"
  },
  "language_info": {
   "codemirror_mode": {
    "name": "ipython",
    "version": 2
   },
   "file_extension": ".py",
   "mimetype": "text/x-python",
   "name": "python",
   "nbconvert_exporter": "python",
   "pygments_lexer": "ipython2",
   "version": "2.7.6"
  },
  "livereveal": {
   "controls": "true",
   "history": "true",
   "mouseWheel": "true",
   "overview": "true",
   "progress": "true",
   "scroll": "true",
   "start_slideshow_at": "selected"
  }
 },
 "nbformat": 4,
 "nbformat_minor": 1
}
