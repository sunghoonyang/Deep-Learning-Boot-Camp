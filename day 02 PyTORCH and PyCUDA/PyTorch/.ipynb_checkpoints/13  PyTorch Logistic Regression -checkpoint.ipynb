{
 "cells": [
  {
   "cell_type": "markdown",
   "metadata": {
    "slideshow": {
     "slide_type": "slide"
    }
   },
   "source": [
    "# Deep Learning Bootcamp November 2017, GPU Computing for Data Scientists\n",
    "\n",
    "<img src=\"../images/bcamp.png\" align=\"center\">\n",
    "\n",
    "## 13  PyTorch Logistic Regression \n",
    "\n",
    "Web: https://www.meetup.com/Tel-Aviv-Deep-Learning-Bootcamp/events/241762893/\n",
    "\n",
    "Notebooks: <a href=\"https://github.com/QuantScientist/Data-Science-PyCUDA-GPU\"> On GitHub</a>\n",
    "\n",
    "*Shlomo Kashani*\n",
    "\n",
    "<img src=\"../images/pt.jpg\" width=\"35%\" align=\"center\">\n"
   ]
  },
  {
   "cell_type": "markdown",
   "metadata": {
    "collapsed": true,
    "slideshow": {
     "slide_type": "slide"
    }
   },
   "source": [
    "# PyTorch Imports\n"
   ]
  },
  {
   "cell_type": "code",
   "execution_count": 69,
   "metadata": {
    "slideshow": {
     "slide_type": "-"
    }
   },
   "outputs": [
    {
     "name": "stdout",
     "output_type": "stream",
     "text": [
      "tensorflow:1.2.1\n",
      "__Python VERSION: 2.7.12 (default, Nov 19 2016, 06:48:10) \n",
      "[GCC 5.4.0 20160609]\n",
      "__pyTorch VERSION: 0.1.12+4eb448a\n",
      "__CUDA VERSION\n",
      "__CUDNN VERSION: 5110\n",
      "__Number CUDA Devices: 1\n",
      "__Devices\n"
     ]
    }
   ],
   "source": [
    "# !pip install pycuda\n",
    "%reset -f\n",
    "import numpy\n",
    "import numpy as np\n",
    "from __future__ import print_function\n",
    "from __future__ import division\n",
    "import math\n",
    "import numpy as np\n",
    "import matplotlib.pyplot as plt\n",
    "%matplotlib inline\n",
    "import pandas as pd\n",
    "import os\n",
    "import torch\n",
    "from torch.utils.data.dataset import Dataset\n",
    "from torch.utils.data import DataLoader\n",
    "from torchvision import transforms\n",
    "from torch import nn\n",
    "import torch.nn.functional as F\n",
    "import torch.optim as optim\n",
    "from torch.autograd import Variable\n",
    "from sklearn.preprocessing import MultiLabelBinarizer\n",
    "import time\n",
    "%matplotlib inline\n",
    "from pylab import rcParams\n",
    "rcParams['figure.figsize'] = (6, 6)      # setting default size of plots\n",
    "import tensorflow as tf \n",
    "print(\"tensorflow:\" + tf.__version__)\n",
    "!set \"KERAS_BACKEND=tensorflow\"\n",
    "import torch\n",
    "import sys\n",
    "print('__Python VERSION:', sys.version)\n",
    "print('__pyTorch VERSION:', torch.__version__)\n",
    "print('__CUDA VERSION')\n",
    "from subprocess import call\n",
    "print('__CUDNN VERSION:', torch.backends.cudnn.version())\n",
    "print('__Number CUDA Devices:', torch.cuda.device_count())\n",
    "print('__Devices')\n",
    "\n",
    "# !pip install http://download.pytorch.org/whl/cu75/torch-0.2.0.post1-cp27-cp27mu-manylinux1_x86_64.whl\n",
    "# !pip install torchvision \n",
    "# ! pip install cv2\n",
    "# import cv2"
   ]
  },
  {
   "cell_type": "markdown",
   "metadata": {
    "collapsed": true,
    "slideshow": {
     "slide_type": "slide"
    }
   },
   "source": [
    "#  Load a CSV file for Binary classification"
   ]
  },
  {
   "cell_type": "code",
   "execution_count": 182,
   "metadata": {},
   "outputs": [
    {
     "name": "stdout",
     "output_type": "stream",
     "text": [
      "(759, 8)\n",
      "<class 'pandas.core.frame.DataFrame'>\n",
      "Int64Index: 759 entries, 0 to 758\n",
      "Data columns (total 8 columns):\n",
      "0    759 non-null float32\n",
      "1    759 non-null float32\n",
      "2    759 non-null float32\n",
      "3    759 non-null float32\n",
      "4    759 non-null float32\n",
      "5    759 non-null float32\n",
      "6    759 non-null float32\n",
      "7    759 non-null float32\n",
      "dtypes: float32(8)\n",
      "memory usage: 29.6 KB\n"
     ]
    }
   ],
   "source": [
    "% reset -f\n",
    "\n",
    "# ! pip install tables\n",
    "\n",
    "import torch\n",
    "from torch.autograd import Variable\n",
    "import numpy as np\n",
    "import pandas\n",
    "import numpy as np\n",
    "import pandas as pd\n",
    "from sklearn import cross_validation\n",
    "from sklearn import metrics\n",
    "from sklearn.metrics import roc_auc_score, log_loss, roc_auc_score, roc_curve, auc\n",
    "import matplotlib.pyplot as plt\n",
    "from sklearn import cross_validation\n",
    "from sklearn import metrics\n",
    "from sklearn.metrics import roc_auc_score, log_loss, roc_auc_score, roc_curve, auc\n",
    "from sklearn.cross_validation import StratifiedKFold, ShuffleSplit, cross_val_score, train_test_split\n",
    "import logging\n",
    "handler=logging.basicConfig(level=logging.INFO)\n",
    "lgr = logging.getLogger(__name__)\n",
    "\n",
    "%matplotlib inline\n",
    "\n",
    "\n",
    "F_NAME_TRAIN= 'data-03-diabetes.csv'\n",
    "# F_NAME_TRAIN='numerai/numerai_training_data.csv'\n",
    "\n",
    "# X_df_train= pd.read_csv(F_NAME_TRAIN)\n",
    "X_df_train= pd.read_csv(F_NAME_TRAIN,header=None, dtype=np.float32)\n",
    "X_df_train_SINGLE=X_df_train.copy(deep=True)   \n",
    "\n",
    "\n",
    "# X_df_train_SINGLE.drop('id', axis=1, inplace=True)\n",
    "# X_df_train_SINGLE.drop('era', axis=1, inplace=True)\n",
    "# X_df_train_SINGLE.drop('data_type', axis=1, inplace=True)\n",
    "# drop the header\n",
    "# X_df_train_SINGLE.to_csv('numerai/numerai_training_data_clean.csv', header=False)\n",
    "# X_df_train_SINGLE= pd.read_csv('numerai/numerai_training_data_clean.csv', header=None, dtype=np.float32)\n",
    "\n",
    "# X_df_train_SINGLE=X_df_train_SINGLE.dropna()\n",
    "    \n",
    "answers_1_SINGLE = list (X_df_train_SINGLE[X_df_train_SINGLE.columns[-1]].values)\n",
    "answers_1_SINGLE= map(int, answers_1_SINGLE)\n",
    "X_df_train_SINGLE = X_df_train_SINGLE.drop(X_df_train_SINGLE.columns[-1], axis=1)\n",
    "# X_df_train_SINGLE=X_df_train_SINGLE.apply(lambda x: pandas.to_numeric(x, errors='ignore'))  \n",
    "\n",
    "print(X_df_train_SINGLE.shape)\n",
    "X_df_train_SINGLE.head(5)\n",
    "\n",
    "# (np.where(np.isnan(X_df_train_SINGLE)))\n",
    "# (np.where(np.isinf(X_df_train_SINGLE)))\n",
    "\n",
    "X_df_train_SINGLE.info()"
   ]
  },
  {
   "cell_type": "markdown",
   "metadata": {
    "collapsed": true,
    "slideshow": {
     "slide_type": "slide"
    }
   },
   "source": [
    "#  Create PyTorch GPU tensors\n",
    "\n",
    "- Note how we transfrom the np arrays"
   ]
  },
  {
   "cell_type": "code",
   "execution_count": 183,
   "metadata": {},
   "outputs": [
    {
     "name": "stderr",
     "output_type": "stream",
     "text": [
      "INFO:__main__:Using the GPU\n"
     ]
    },
    {
     "name": "stdout",
     "output_type": "stream",
     "text": [
      "(508, 8) (508, 1)\n",
      "<type 'numpy.ndarray'> <type 'numpy.ndarray'>\n",
      "<class 'torch.cuda.FloatTensor'> <class 'torch.cuda.FloatTensor'>\n",
      "<class 'torch.cuda.FloatTensor'> <class 'torch.cuda.FloatTensor'>\n"
     ]
    }
   ],
   "source": [
    "use_cuda = torch.cuda.is_available()\n",
    "FloatTensor = torch.cuda.FloatTensor if use_cuda else torch.FloatTensor\n",
    "LongTensor = torch.cuda.LongTensor if use_cuda else torch.LongTensor\n",
    "Tensor = FloatTensor\n",
    "\n",
    "\n",
    "# fix seed\n",
    "seed=17*19\n",
    "np.random.seed(seed)\n",
    "torch.manual_seed(seed)\n",
    "if use_cuda:\n",
    "    torch.cuda.manual_seed(seed)\n",
    "        \n",
    "\n",
    "# sk learn\n",
    "trainX, testX, trainY, testY = train_test_split(X_df_train_SINGLE, answers_1_SINGLE, test_size=.33, random_state=999)  \n",
    "\n",
    "# Train data\n",
    "x_data_np = np.array(trainX.values, dtype=np.float32)\n",
    "y_data_np = np.array(trainY, dtype=np.float32)\n",
    "y_data_np=y_data_np.reshape((y_data_np.shape[0],1)) # Must be reshaped for PyTorch!\n",
    "\n",
    "\n",
    "print(x_data_np.shape, y_data_np.shape)\n",
    "print(type(x_data_np), type(y_data_np))\n",
    "\n",
    "if use_cuda:\n",
    "    lgr.info (\"Using the GPU\")    \n",
    "    X = Variable(torch.from_numpy(x_data_np).cuda()) # Note the conversion for pytorch\n",
    "    Y = Variable(torch.from_numpy(y_data_np).cuda())\n",
    "else:\n",
    "    lgr.info (\"Using the CPU\")\n",
    "    X = Variable(torch.from_numpy(x_data_np)) # Note the conversion for pytorch\n",
    "    Y = Variable(torch.from_numpy(y_data_np))    \n",
    "print(type(X.data), type(Y.data)) # should be 'torch.cuda.FloatTensor'\n",
    "    \n",
    "print(type(X.data), type(Y.data)) # should be 'torch.cuda.FloatTensor'"
   ]
  },
  {
   "cell_type": "markdown",
   "metadata": {
    "collapsed": true,
    "slideshow": {
     "slide_type": "slide"
    }
   },
   "source": [
    "#  Define the NN model\n",
    "\n",
    "- First a simple two leyer network and then a more involved version"
   ]
  },
  {
   "cell_type": "markdown",
   "metadata": {
    "collapsed": true,
    "slideshow": {
     "slide_type": "slide"
    }
   },
   "source": [
    "#  Initial weights selection\n",
    "\n",
    "- There are many ways to select the initial weights to a neural network architecture. A common initialization scheme is random initialization, which sets the biases and weights of all the nodes in each hidden layer randomly, so they are in a random point of the space, and objective function, and then find a nearby local minima using an algorithm like SGD or Adam.\n",
    "- We use a *xavier initializer*, in effect (according to theory) initializing the weights of the network to values that would be closer to the optimal, and therefore require less epochs to train.\n",
    "\n",
    "### References: \n",
    "* **`nninit.xavier_uniform(tensor, gain=1)`** - Fills `tensor` with values according to the method described in [\"Understanding the difficulty of training deep feedforward neural networks\" - Glorot, X. and Bengio, Y.](http://jmlr.org/proceedings/papers/v9/glorot10a/glorot10a.pdf), using a uniform distribution.\n",
    "* **`nninit.xavier_normal(tensor, gain=1)`** - Fills `tensor` with values according to the method described in [\"Understanding the difficulty of training deep feedforward neural networks\" - Glorot, X. and Bengio, Y.](http://jmlr.org/proceedings/papers/v9/glorot10a/glorot10a.pdf), using a normal distribution.\n",
    "* **`nninit.kaiming_uniform(tensor, gain=1)`** - Fills `tensor` with values according to the method described in [\"Delving deep into rectifiers: Surpassing human-level performance on ImageNet classification\" - He, K. et al.](https://arxiv.org/abs/1502.01852) using a uniform distribution.\n",
    "* **`nninit.kaiming_normal(tensor, gain=1)`** - Fills `tensor` with values according to the method described in [\"Delving deep into rectifiers: Surpassing human-level performance on ImageNet classification\" - He, K. et al.]\n"
   ]
  },
  {
   "cell_type": "code",
   "execution_count": 184,
   "metadata": {},
   "outputs": [
    {
     "name": "stderr",
     "output_type": "stream",
     "text": [
      "INFO:__main__:Using the GPU\n",
      "INFO:__main__:Model Sequential (\n",
      "  (0): Linear (8 -> 1)\n",
      "  (1): Dropout (p = 0.15)\n",
      "  (2): Sigmoid ()\n",
      ")\n"
     ]
    }
   ],
   "source": [
    "keep_prob=0.85\n",
    "# p is the probability of being dropped in PyTorch\n",
    "dropout = torch.nn.Dropout(p=1 - keep_prob)\n",
    "\n",
    "\n",
    "# hiddenLayer1Size=32\n",
    "# hiddenLayer2Size=16\n",
    "# # # Hypothesis using sigmoid\n",
    "# linear1=torch.nn.Linear(x_data_np.shape[1], hiddenLayer1Size, bias=True) # size mismatch, m1: [5373 x 344], m2: [8 x 1] at /pytorch/torch/lib/TH/generic/THTensorMath.c:1293\n",
    "# # xavier initializer\n",
    "# torch.nn.init.xavier_uniform(linear1.weight)\n",
    "# linear2=torch.nn.Linear(hiddenLayer1Size, hiddenLayer2Size)\n",
    "# # xavier initializer\n",
    "# torch.nn.init.xavier_uniform(linear2.weight)\n",
    "# linear3=torch.nn.Linear(hiddenLayer2Size, 1)\n",
    "# # xavier initializer\n",
    "# torch.nn.init.xavier_uniform(linear3.weight)\n",
    "# sigmoid = torch.nn.Sigmoid()\n",
    "# tanh=torch.nn.Tanh()\n",
    "# model = torch.nn.Sequential(linear1,dropout, tanh, linear2,dropout, tanh, linear3,dropout, sigmoid)\n",
    "\n",
    "\n",
    "#Hypothesis using sigmoid\n",
    "linear1=torch.nn.Linear(x_data_np.shape[1], 1, bias=True) \n",
    "# xavier initializer\n",
    "torch.nn.init.xavier_uniform(linear1.weight)\n",
    "sigmoid = torch.nn.Sigmoid()\n",
    "model = torch.nn.Sequential(linear1,dropout, sigmoid)\n",
    "# model = torch.nn.Sequential(linear1, sigmoid)\n",
    "\n",
    "if use_cuda:\n",
    "    lgr.info (\"Using the GPU\")\n",
    "    model = model.cuda() # On GPU\n",
    "else:\n",
    "    lgr.info (\"Using the CPU\")   \n",
    "\n",
    "lgr.info('Model {}'.format(model))"
   ]
  },
  {
   "cell_type": "code",
   "execution_count": 185,
   "metadata": {},
   "outputs": [
    {
     "name": "stderr",
     "output_type": "stream",
     "text": [
      "INFO:__main__:Optimizer <torch.optim.sgd.SGD object at 0x7fc8528ff810>\n"
     ]
    }
   ],
   "source": [
    "# see https://github.com/facebookresearch/SentEval/blob/master/senteval/tools/classifier.py\n",
    "optimizer = torch.optim.SGD(model.parameters(), lr=0.01)\n",
    "# optimizer = torch.optim.SGD(model.parameters(), lr=1e-1,momentum=0.9, weight_decay=1e-4)\n",
    "# optimizer = torch.optim.Adam(model.parameters())\n",
    "lgr.info('Optimizer {}'.format(optimizer))"
   ]
  },
  {
   "cell_type": "markdown",
   "metadata": {
    "collapsed": true,
    "slideshow": {
     "slide_type": "slide"
    }
   },
   "source": [
    "# The cross-entropy loss function\n"
   ]
  },
  {
   "cell_type": "code",
   "execution_count": 186,
   "metadata": {},
   "outputs": [
    {
     "data": {
      "text/latex": [
       "$$\\mathbf{Loss Function:} J(x, z) = -\\sum_k^d[x_k \\log z_k + (1-x_k)log(1-z_k)]$$"
      ],
      "text/plain": [
       "<IPython.core.display.Math object>"
      ]
     },
     "metadata": {},
     "output_type": "display_data"
    }
   ],
   "source": [
    "import sympy as sp\n",
    "sp.interactive.printing.init_printing(use_latex=True)\n",
    "from IPython.display import display, Math, Latex\n",
    "maths = lambda s: display(Math(s))\n",
    "latex = lambda s: display(Latex(s))\n",
    "\n",
    "#the loss function is as follows:\n",
    "maths(\"\\mathbf{Loss Function:} J(x, z) = -\\sum_k^d[x_k \\log z_k + (1-x_k)log(1-z_k)]\")"
   ]
  },
  {
   "cell_type": "markdown",
   "metadata": {
    "collapsed": true,
    "slideshow": {
     "slide_type": "slide"
    }
   },
   "source": [
    "# Start training in Batches\n"
   ]
  },
  {
   "cell_type": "code",
   "execution_count": 187,
   "metadata": {},
   "outputs": [
    {
     "name": "stdout",
     "output_type": "stream",
     "text": [
      "0 [ 0.72707301]\n",
      "TRAINING ROC AUC:0.382529548788\n",
      "4000 [ 0.54033691]\n",
      "TRAINING ROC AUC:0.780916228108\n",
      "8000 [ 0.53043658]\n",
      "TRAINING ROC AUC:0.798481580537\n",
      "12000 [ 0.50627297]\n",
      "TRAINING ROC AUC:0.780407212492\n",
      "16000 [ 0.51921928]\n",
      "TRAINING ROC AUC:0.789181261323\n",
      "GPU: 13.185 seconds\n"
     ]
    },
    {
     "data": {
      "image/png": "[encoded data removed]",
      "text/plain": [
       "<matplotlib.figure.Figure at 0x7fc855264550>"
      ]
     },
     "metadata": {},
     "output_type": "display_data"
    }
   ],
   "source": [
    "import time\n",
    "start_time = time.time()    \n",
    "epochs=20000\n",
    "all_losses = []\n",
    "\n",
    "\n",
    "for step in range(epochs):\n",
    "    optimizer.zero_grad()\n",
    "    hypothesis = model(X)    \n",
    "    # cost/loss function\n",
    "    cost = -(Y * torch.log(hypothesis) + (1 - Y)\n",
    "             * torch.log(1 - hypothesis)).mean()\n",
    "    cost.backward()\n",
    "    optimizer.step()\n",
    "\n",
    "    # Keep loss \n",
    "    if step % 150 == 0:\n",
    "        loss = cost.data[0]\n",
    "        all_losses.append(loss)\n",
    "        \n",
    "    if step % 4000 == 0:\n",
    "        print(step, cost.data.cpu().numpy())\n",
    "        # RuntimeError: can't convert CUDA tensor to numpy (it doesn't support GPU arrays). \n",
    "        # Use .cpu() to move the tensor to host memory first.\n",
    "#         predicted = (model(X).data > 0.5).float()\n",
    "        predicted = (model(X).data ).float() # This is like predict proba\n",
    "        predictions=predicted.cpu().numpy()\n",
    "#         accuracy = (predicted == Y.data).float().mean()\n",
    "#         print('TRAINNING Accuracy:' + str(accuracy))\n",
    "#         print ('TRAINING LOG_LOSS=' + str(log_loss(trainY, predictions)))\n",
    "        R_SCORE=roc_auc_score(Y.data.cpu().numpy(),predictions )        \n",
    "        print ('TRAINING ROC AUC:' + str(R_SCORE))\n",
    "                \n",
    "end_time = time.time()\n",
    "print ('{} {:6.3f} seconds'.format('GPU:', end_time-start_time))\n",
    "\n",
    "%matplotlib inline\n",
    "import matplotlib.pyplot as plt\n",
    "plt.plot(all_losses)\n",
    "plt.show()"
   ]
  },
  {
   "cell_type": "markdown",
   "metadata": {
    "collapsed": true,
    "slideshow": {
     "slide_type": "slide"
    }
   },
   "source": [
    "# Cross validation, metrics, ROC_AUC etc"
   ]
  },
  {
   "cell_type": "code",
   "execution_count": 87,
   "metadata": {},
   "outputs": [
    {
     "name": "stderr",
     "output_type": "stream",
     "text": [
      "INFO:__main__:Using the GPU\n"
     ]
    },
    {
     "name": "stdout",
     "output_type": "stream",
     "text": [
      "(251, 8) (251, 1)\n",
      "<type 'numpy.ndarray'> <type 'numpy.ndarray'>\n",
      "VALIDATION ROC AUC:0.849068322981\n"
     ]
    },
    {
     "data": {
      "image/png": "[encoded data removed]",
      "text/plain": [
       "<matplotlib.figure.Figure at 0x7fc860f39b10>"
      ]
     },
     "metadata": {},
     "output_type": "display_data"
    }
   ],
   "source": [
    "model.eval()\n",
    "\n",
    "# Validation data\n",
    "x_data_np_val = np.array(testX.values, dtype=np.float32)\n",
    "y_data_np_val = np.array(testY, dtype=np.float32)\n",
    "y_data_np_val=y_data_np_val.reshape((y_data_np_val.shape[0],1)) # Must be reshaped for PyTorch!\n",
    "\n",
    "\n",
    "print(x_data_np_val.shape, y_data_np_val.shape)\n",
    "print(type(x_data_np_val), type(y_data_np_val))\n",
    "\n",
    "if use_cuda:\n",
    "    lgr.info (\"Using the GPU\")    \n",
    "    X_val = Variable(torch.from_numpy(x_data_np_val).cuda()) # Note the conversion for pytorch\n",
    "    Y_val = Variable(torch.from_numpy(y_data_np_val).cuda())\n",
    "else:\n",
    "    lgr.info (\"Using the CPU\")\n",
    "    X_val = Variable(torch.from_numpy(x_data_np_val)) # Note the conversion for pytorch\n",
    "    Y_val = Variable(torch.from_numpy(y_data_np_val))\n",
    "\n",
    "# VALIDATION\n",
    "predicted_val = (model(X_val).data).float()\n",
    "predictions_val=predicted_val.cpu().numpy()\n",
    "accuracy_val = (predicted_val == Y_val.data).float().mean()\n",
    "R_SCORE_VAL=roc_auc_score(Y_val.data.cpu().numpy(),predictions_val)        \n",
    "print ('VALIDATION ROC AUC:' + str(R_SCORE_VAL))\n",
    "\n",
    "\n",
    "false_positive_rate, true_positive_rate, thresholds = roc_curve(testY, predictions_val)\n",
    "roc_auc = auc(false_positive_rate, true_positive_rate)\n",
    "plt.title('LOG_LOSS=' + str(log_loss(testY, predictions_val)))\n",
    "plt.plot(false_positive_rate, true_positive_rate, 'b', label='AUC = %0.6f' % roc_auc)\n",
    "plt.legend(loc='lower right')\n",
    "plt.plot([0, 1], [0, 1], 'r--')\n",
    "plt.xlim([-0.1, 1.2])\n",
    "plt.ylim([-0.1, 1.2])\n",
    "plt.ylabel('True Positive Rate')\n",
    "plt.xlabel('False Positive Rate')\n",
    "plt.show()"
   ]
  },
  {
   "cell_type": "code",
   "execution_count": null,
   "metadata": {
    "collapsed": true
   },
   "outputs": [],
   "source": [
    "# Lab 5 Logistic Regression Classifier\n",
    "import torch\n",
    "from torch.autograd import Variable\n",
    "import numpy as np\n",
    "\n",
    "torch.manual_seed(777)  # for reproducibility\n",
    "\n",
    "xy = np.loadtxt('data-03-diabetes.csv', delimiter=',', dtype=np.float32)\n",
    "x_data = xy[:, 0:-1]\n",
    "y_data = xy[:, [-1]]\n",
    "\n",
    "# Make sure the shape and data are OK\n",
    "print(x_data.shape, y_data.shape)\n",
    "\n",
    "X = Variable(torch.from_numpy(x_data))\n",
    "Y = Variable(torch.from_numpy(y_data))\n",
    "\n",
    "# Hypothesis using sigmoid\n",
    "linear = torch.nn.Linear(8, 1, bias=True)\n",
    "sigmoid = torch.nn.Sigmoid()\n",
    "model = torch.nn.Sequential(linear, sigmoid)\n",
    "\n",
    "optimizer = torch.optim.SGD(model.parameters(), lr=0.01)\n",
    "\n",
    "for step in range(10001):\n",
    "    optimizer.zero_grad()\n",
    "    hypothesis = model(X)\n",
    "    # cost/loss function\n",
    "    cost = -(Y * torch.log(hypothesis) + (1 - Y)\n",
    "             * torch.log(1 - hypothesis)).mean()\n",
    "    cost.backward()\n",
    "    optimizer.step()\n",
    "\n",
    "    if step % 200 == 0:\n",
    "        print(step, cost.data.numpy())\n",
    "\n",
    "# Accuracy computation\n",
    "predicted = (model(X).data > 0.5).float()\n",
    "accuracy = (predicted == Y.data).float().mean()\n",
    "print(\"\\nHypothesis: \", hypothesis.data.numpy(), \"\\nCorrect (Y): \", predicted.numpy(), \"\\nAccuracy: \", accuracy)"
   ]
  }
 ],
 "metadata": {
  "celltoolbar": "Slideshow",
  "kernelspec": {
   "display_name": "Python 2",
   "language": "python",
   "name": "python2"
  },
  "language_info": {
   "codemirror_mode": {
    "name": "ipython",
    "version": 2
   },
   "file_extension": ".py",
   "mimetype": "text/x-python",
   "name": "python",
   "nbconvert_exporter": "python",
   "pygments_lexer": "ipython2",
   "version": "2.7.12"
  },
  "livereveal": {
   "controls": "true",
   "history": "true",
   "mouseWheel": "true",
   "overview": "true",
   "progress": "true",
   "scroll": "true",
   "start_slideshow_at": "selected"
  }
 },
 "nbformat": 4,
 "nbformat_minor": 1
}
