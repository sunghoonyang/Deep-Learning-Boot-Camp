{
 "cells": [
  {
   "cell_type": "markdown",
   "metadata": {},
   "source": [
    "# 02 PyTorch basic Tensor operations"
   ]
  },
  {
   "cell_type": "code",
   "execution_count": 2,
   "metadata": {},
   "outputs": [
    {
     "name": "stdout",
     "output_type": "stream",
     "text": [
      "__Python VERSION: 2.7.12 (default, Nov 19 2016, 06:48:10) \n",
      "[GCC 5.4.0 20160609]\n",
      "__pyTorch VERSION: 0.1.12+4eb448a\n",
      "__CUDA VERSION\n",
      "nvcc: NVIDIA (R) Cuda compiler driver\n",
      "Copyright (c) 2005-2016 NVIDIA Corporation\n",
      "Built on Tue_Jan_10_13:22:03_CST_2017\n",
      "Cuda compilation tools, release 8.0, V8.0.61\n",
      "__CUDNN VERSION: 5110\n",
      "__Number CUDA Devices: 1\n",
      "__Devices\n",
      "Active CUDA Device: GPU 0\n",
      "Available devices  1\n",
      "Current cuda device  0\n"
     ]
    }
   ],
   "source": [
    "% reset -f\n",
    "from __future__ import print_function\n",
    "from __future__ import division\n",
    "import math\n",
    "import numpy as np\n",
    "import matplotlib.pyplot as plt\n",
    "%matplotlib inline\n",
    "\n",
    "import torch\n",
    "import sys\n",
    "print('__Python VERSION:', sys.version)\n",
    "print('__pyTorch VERSION:', torch.__version__)\n",
    "print('__CUDA VERSION')\n",
    "from subprocess import call\n",
    "# call([\"nvcc\", \"--version\"]) does not work\n",
    "! nvcc --version\n",
    "print('__CUDNN VERSION:', torch.backends.cudnn.version())\n",
    "print('__Number CUDA Devices:', torch.cuda.device_count())\n",
    "print('__Devices')\n",
    "call([\"nvidia-smi\", \"--format=csv\", \"--query-gpu=index,name,driver_version,memory.total,memory.used,memory.free\"])\n",
    "print('Active CUDA Device: GPU', torch.cuda.current_device())\n",
    "\n",
    "print ('Available devices ', torch.cuda.device_count())\n",
    "print ('Current cuda device ', torch.cuda.current_device())"
   ]
  },
  {
   "cell_type": "markdown",
   "metadata": {},
   "source": [
    "# Numpy vs PyTorch Syntax\n",
    "\n",
    "Numpy\t            Pytorch\n",
    "\n",
    "- np.zeros((2, 3))\t    torch.zeros(2,3)\n",
    "- np.random.rand(2, 3)\ttorch.rand(2,3)\n",
    "- x.reshape(1, -1)\t    x.view(1, -1)\n",
    "- x.shape\t                x.size()\n",
    "- x.dot(w)\t            x.mm(w)\n",
    "- x.matmul(w)\t            x.bmm(w)\n",
    "- x.T\t                    x.t()\n",
    "- x.transpose(0, 2, 1)\tx.permute(0, 2, 1)\n",
    "- x.argmax(axis=1)\t    _, i = x.max(dim=1)\n",
    "- np.sum(x, axis=1)\t    torch.sum(x, dim=1)\n",
    "- np.maxium(x, 0)\t        torch.clamp(x, min=0)\n",
    "- x.clone()\t            x.copy()\n"
   ]
  },
  {
   "cell_type": "markdown",
   "metadata": {},
   "source": [
    "# Torch Tensors"
   ]
  },
  {
   "cell_type": "code",
   "execution_count": 8,
   "metadata": {
    "collapsed": true
   },
   "outputs": [],
   "source": [
    "from __future__ import print_function\n",
    "import torch\n",
    "from torch.autograd import Variable"
   ]
  },
  {
   "cell_type": "code",
   "execution_count": 10,
   "metadata": {},
   "outputs": [
    {
     "name": "stdout",
     "output_type": "stream",
     "text": [
      "<class 'torch.FloatTensor'>\n",
      "\n",
      "-6.7758e+23  4.5565e-41\n",
      "-6.7758e+23  4.5565e-41\n",
      " 1.4576e-36  0.0000e+00\n",
      "[torch.FloatTensor of size 3x2]\n",
      "\n",
      "x:Variable containing:\n",
      "-6.7758e+23  4.5565e-41\n",
      "-6.7758e+23  4.5565e-41\n",
      " 1.4576e-36  0.0000e+00\n",
      "[torch.FloatTensor of size 3x2]\n",
      "\n",
      "requires grad:False\n",
      "data:\n",
      "-6.7758e+23  4.5565e-41\n",
      "-6.7758e+23  4.5565e-41\n",
      " 1.4576e-36  0.0000e+00\n",
      "[torch.FloatTensor of size 3x2]\n",
      "\n"
     ]
    }
   ],
   "source": [
    "x=torch.Tensor(3,2)\n",
    "print (type(x))\n",
    "print (x)\n",
    "\n",
    "# how variables work\n",
    "x = Variable(x)\n",
    "print (\"x:\" + str (x))\n",
    "print (\"requires grad:\" + str(x.requires_grad))\n",
    "print (\"data:\" + str(x.data))"
   ]
  },
  {
   "cell_type": "code",
   "execution_count": 37,
   "metadata": {},
   "outputs": [
    {
     "name": "stdout",
     "output_type": "stream",
     "text": [
      "<class 'torch.FloatTensor'>\n",
      "\n",
      " 0.2974  0.5440  0.7190  0.2510\n",
      " 0.1557  0.3762  0.7607  0.3714\n",
      " 0.8951  0.0801  0.6384  0.4287\n",
      "[torch.FloatTensor of size 3x4]\n",
      "\n"
     ]
    }
   ],
   "source": [
    "x=torch.rand(3,4)\n",
    "print (type(x))\n",
    "print (x)"
   ]
  },
  {
   "cell_type": "code",
   "execution_count": 38,
   "metadata": {},
   "outputs": [
    {
     "name": "stdout",
     "output_type": "stream",
     "text": [
      "\n",
      " 0.1557  0.3762  0.7607  0.3714\n",
      " 0.8951  0.0801  0.6384  0.4287\n",
      "[torch.FloatTensor of size 2x4]\n",
      "\n"
     ]
    }
   ],
   "source": [
    "print (x[1:])"
   ]
  },
  {
   "cell_type": "code",
   "execution_count": 39,
   "metadata": {},
   "outputs": [
    {
     "data": {
      "text/plain": [
       "array([[ 0.29738018,  0.54403979,  0.7189731 ,  0.25096315],\n",
       "       [ 0.1557121 ,  0.37617177,  0.76072818,  0.37137803],\n",
       "       [ 0.89506912,  0.08008675,  0.63842762,  0.4287166 ]], dtype=float32)"
      ]
     },
     "execution_count": 39,
     "metadata": {},
     "output_type": "execute_result"
    }
   ],
   "source": [
    "x.numpy()"
   ]
  },
  {
   "cell_type": "code",
   "execution_count": 34,
   "metadata": {},
   "outputs": [
    {
     "name": "stdout",
     "output_type": "stream",
     "text": [
      "<class 'torch.cuda.FloatTensor'>\n",
      "\n",
      " 0.9734  0.8315  0.8623  0.2715\n",
      " 0.9024  0.9625  0.1600  0.3012\n",
      " 0.3816  0.8592  1.2577  0.3798\n",
      "[torch.cuda.FloatTensor of size 3x4 (GPU 0)]\n",
      "\n"
     ]
    }
   ],
   "source": [
    "if torch.cuda.is_available():\n",
    "    x = x.cuda()*2 \n",
    "    \n",
    "print (type(x))\n",
    "print (x)    "
   ]
  },
  {
   "cell_type": "code",
   "execution_count": null,
   "metadata": {
    "collapsed": true
   },
   "outputs": [],
   "source": []
  },
  {
   "cell_type": "code",
   "execution_count": null,
   "metadata": {
    "collapsed": true
   },
   "outputs": [],
   "source": []
  }
 ],
 "metadata": {
  "kernelspec": {
   "display_name": "Python 2",
   "language": "python",
   "name": "python2"
  },
  "language_info": {
   "codemirror_mode": {
    "name": "ipython",
    "version": 2
   },
   "file_extension": ".py",
   "mimetype": "text/x-python",
   "name": "python",
   "nbconvert_exporter": "python",
   "pygments_lexer": "ipython2",
   "version": "2.7.12"
  }
 },
 "nbformat": 4,
 "nbformat_minor": 1
}
