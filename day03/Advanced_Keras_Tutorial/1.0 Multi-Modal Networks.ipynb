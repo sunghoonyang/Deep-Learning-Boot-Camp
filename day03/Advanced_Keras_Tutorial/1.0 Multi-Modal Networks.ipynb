{
 "metadata": {
  "anaconda-cloud": {},
  "kernelspec": {
   "display_name": "Python [conda root]",
   "language": "python",
   "name": "conda-root-py"
  },
  "language_info": {
   "codemirror_mode": {
    "name": "ipython",
    "version": 2
   },
   "file_extension": ".py",
   "mimetype": "text/x-python",
   "name": "python",
   "nbconvert_exporter": "python",
   "pygments_lexer": "ipython2",
   "version": "2.7.12"
  },
  "name": "",
  "signature": "sha256:e89b0acbddcb8b64e05dcfa29fac6be6c0825247033bfab6d073a69f9a04307b"
 },
 "nbformat": 3,
 "nbformat_minor": 0,
 "worksheets": [
  {
   "cells": [
    {
     "cell_type": "heading",
     "level": 1,
     "metadata": {},
     "source": [
      "Keras Functional API"
     ]
    },
    {
     "cell_type": "heading",
     "level": 2,
     "metadata": {},
     "source": [
      "Recall: All models (layers) are callables"
     ]
    },
    {
     "cell_type": "markdown",
     "metadata": {},
     "source": [
      "```python\n",
      "from keras.layers import Input, Dense\n",
      "from keras.models import Model\n",
      "\n",
      "# this returns a tensor\n",
      "inputs = Input(shape=(784,))\n",
      "\n",
      "# a layer instance is callable on a tensor, and returns a tensor\n",
      "x = Dense(64, activation='relu')(inputs)\n",
      "x = Dense(64, activation='relu')(x)\n",
      "predictions = Dense(10, activation='softmax')(x)\n",
      "\n",
      "# this creates a model that includes\n",
      "# the Input layer and three Dense layers\n",
      "model = Model(inputs=inputs, outputs=predictions)\n",
      "model.compile(optimizer='rmsprop',\n",
      "              loss='categorical_crossentropy',\n",
      "              metrics=['accuracy'])\n",
      "model.fit(data, labels)  # starts training\n",
      "```"
     ]
    },
    {
     "cell_type": "heading",
     "level": 1,
     "metadata": {},
     "source": [
      "Multi-Input Networks"
     ]
    },
    {
     "cell_type": "heading",
     "level": 2,
     "metadata": {},
     "source": [
      "Keras Merge Layer"
     ]
    },
    {
     "cell_type": "markdown",
     "metadata": {},
     "source": [
      "Here's a good use case for the functional API: models with multiple inputs and outputs. \n",
      "\n",
      "The functional API makes it easy to manipulate a large number of intertwined datastreams.\n",
      "\n",
      "Let's consider the following model. "
     ]
    },
    {
     "cell_type": "markdown",
     "metadata": {},
     "source": [
      "```python\n",
      "from keras.layers import Dense, Input\n",
      "from keras.models import Model\n",
      "from keras.layers.merge import concatenate\n",
      "\n",
      "left_input = Input(shape=(784, ), name='left_input')\n",
      "left_branch = Dense(32, input_dim=784, name='left_branch')(left_input)\n",
      "\n",
      "right_input = Input(shape=(784,), name='right_input')\n",
      "right_branch = Dense(32, input_dim=784, name='right_branch')(right_input)\n",
      "\n",
      "x = concatenate([left_branch, right_branch])\n",
      "predictions = Dense(10, activation='softmax', name='main_output')(x)\n",
      "\n",
      "model = Model(inputs=[left_input, right_input], outputs=predictions)\n",
      "```"
     ]
    },
    {
     "cell_type": "markdown",
     "metadata": {},
     "source": [
      "Resulting Model will look like the following network:"
     ]
    },
    {
     "cell_type": "markdown",
     "metadata": {},
     "source": [
      "<img src=\"../imgs/multi_input_model.png\" />"
     ]
    },
    {
     "cell_type": "markdown",
     "metadata": {},
     "source": [
      "Such a two-branch model can then be trained via e.g.:"
     ]
    },
    {
     "cell_type": "markdown",
     "metadata": {},
     "source": [
      "```python\n",
      "model.compile(optimizer='rmsprop', loss='categorical_crossentropy', metrics=['accuracy'])\n",
      "model.fit([input_data_1, input_data_2], targets)  # we pass one data array per model input\n",
      "```"
     ]
    },
    {
     "cell_type": "heading",
     "level": 2,
     "metadata": {},
     "source": [
      "Try yourself"
     ]
    },
    {
     "cell_type": "heading",
     "level": 4,
     "metadata": {},
     "source": [
      "Step 1: Get Data - MNIST"
     ]
    },
    {
     "cell_type": "code",
     "collapsed": true,
     "input": [
      "!pip install keras==2.0.8\n",
      "\n",
      "from keras.datasets import mnist\n",
      "from keras.layers import *\n",
      "\n",
      "\n",
      "from keras.layers import Dense, Input, Flatten\n",
      "from keras.models import Model\n",
      "from keras.layers.merge import concatenate\n",
      "from keras.utils import np_utils\n",
      "\n",
      "\n",
      "img_rows, img_cols = 28, 28\n",
      "\n",
      "if K.image_data_format() == 'channels_first':\n",
      "    shape_ord = (1, img_rows, img_cols)\n",
      "else:  # channel_last\n",
      "    shape_ord = (img_rows, img_cols, 1)\n",
      "    \n",
      "inputs = Input(shape=(28, 28, 1), name='left_input')\n",
      "random_layer_name = Flatten()(inputs)\n",
      "random_layer_name = Dense(32)(random_layer_name)\n",
      "predictions = Dense(2, activation='softmax')(random_layer_name)\n",
      "\n",
      "model = Model(inputs=[inputs], outputs=predictions)\n",
      "\n",
      "(X_train, y_train), (X_test, y_test) = mnist.load_data()\n",
      "\n",
      "X_train = X_train.reshape((X_train.shape[0],) + shape_ord)\n",
      "X_test = X_test.reshape((X_test.shape[0],) + shape_ord)\n",
      "\n",
      "X_train = X_train.astype('float32')\n",
      "X_test = X_test.astype('float32')\n",
      "\n",
      "X_train /= 255\n",
      "X_test /= 255\n",
      "\n",
      "\n",
      "np.random.seed(1338)  # for reproducibilty!!\n",
      "\n",
      "# Test datafit\n",
      "X_test = X_test.copy()\n",
      "Y = y_test.copy()\n",
      "\n",
      "# Converting the output to binary classification(Six=1,Not Six=0)\n",
      "Y_test = Y == 6\n",
      "Y_test = Y_test.astype(int)\n",
      "\n",
      "# Selecting the 5918 examples where the output is 6\n",
      "X_six = X_train[y_train == 6].copy()\n",
      "Y_six = y_train[y_train == 6].copy()\n",
      "\n",
      "# Selecting the examples where the output is not 6\n",
      "X_not_six = X_train[y_train != 6].copy()\n",
      "Y_not_six = y_train[y_train != 6].copy()\n",
      "\n",
      "# Selecting 6000 random examples from the data that \n",
      "# only contains the data where the output is not 6\n",
      "random_rows = np.random.randint(0,X_six.shape[0],6000)\n",
      "X_not_six = X_not_six[random_rows]\n",
      "Y_not_six = Y_not_six[random_rows]\n",
      "\n",
      "\n",
      "# Appending the data with output as 6 and data with output as <> 6\n",
      "X_train = np.append(X_six,X_not_six)\n",
      "\n",
      "# Reshaping the appended data to appropraite form\n",
      "X_train = X_train.reshape((X_six.shape[0] + X_not_six.shape[0],) + shape_ord)\n",
      "\n",
      "# Appending the labels and converting the labels to \n",
      "# binary classification(Six=1,Not Six=0)\n",
      "Y_labels = np.append(Y_six,Y_not_six)\n",
      "Y_train = Y_labels == 6 \n",
      "Y_train = Y_train.astype(int)\n",
      "\n",
      "\n",
      "# Converting the classes to its binary categorical form\n",
      "nb_classes = 2\n",
      "Y_train = np_utils.to_categorical(Y_train, nb_classes)\n",
      "Y_test = np_utils.to_categorical(Y_test, nb_classes)\n",
      "\n",
      "model.compile(loss='categorical_crossentropy',\n",
      "              optimizer='sgd',\n",
      "              metrics=['accuracy'])\n",
      "hist = model.fit(X_train, Y_train, batch_size=32, \n",
      "                 verbose=1, \n",
      "                 validation_data=(X_test, Y_test))"
     ],
     "language": "python",
     "metadata": {},
     "outputs": [
      {
       "output_type": "stream",
       "stream": "stdout",
       "text": [
        "Requirement already satisfied: keras==2.0.8 in /usr/local/lib/python2.7/dist-packages\r\n",
        "Requirement already satisfied: pyyaml in /usr/local/lib/python2.7/dist-packages (from keras==2.0.8)\r\n"
       ]
      },
      {
       "output_type": "stream",
       "stream": "stdout",
       "text": [
        "Requirement already satisfied: six>=1.9.0 in /usr/local/lib/python2.7/dist-packages (from keras==2.0.8)\r\n",
        "Requirement already satisfied: scipy>=0.14 in /usr/lib/python2.7/dist-packages (from keras==2.0.8)\r\n",
        "Requirement already satisfied: numpy>=1.9.1 in /usr/local/lib/python2.7/dist-packages (from keras==2.0.8)\r\n"
       ]
      },
      {
       "output_type": "stream",
       "stream": "stdout",
       "text": [
        "Train on 11918 samples, validate on 10000 samples\n",
        "Epoch 1/1\n",
        "\r",
        "   32/11918 [..............................] - ETA: 3s - loss: 0.6347 - acc: 0.6250"
       ]
      },
      {
       "output_type": "stream",
       "stream": "stdout",
       "text": [
        "\b\b\b\b\b\b\b\b\b\b\b\b\b\b\b\b\b\b\b\b\b\b\b\b\b\b\b\b\b\b\b\b\b\b\b\b\b\b\b\b\b\b\b\b\b\b\b\b\b\b\b\b\b\b\b\b\b\b\b\b\b\b\b\b\b\b\b\b\b\b\b\b\b\b\b\b\b\b\b\b\b\b\b\r",
        " 1856/11918 [===>..........................] - ETA: 0s - loss: 0.3611 - acc: 0.8696"
       ]
      },
      {
       "output_type": "stream",
       "stream": "stdout",
       "text": [
        "\b\b\b\b\b\b\b\b\b\b\b\b\b\b\b\b\b\b\b\b\b\b\b\b\b\b\b\b\b\b\b\b\b\b\b\b\b\b\b\b\b\b\b\b\b\b\b\b\b\b\b\b\b\b\b\b\b\b\b\b\b\b\b\b\b\b\b\b\b\b\b\b\b\b\b\b\b\b\b\b\b\b\b\r",
        " 4800/11918 [===========>..................] - ETA: 0s - loss: 0.2518 - acc: 0.9129"
       ]
      },
      {
       "output_type": "stream",
       "stream": "stdout",
       "text": [
        "\b\b\b\b\b\b\b\b\b\b\b\b\b\b\b\b\b\b\b\b\b\b\b\b\b\b\b\b\b\b\b\b\b\b\b\b\b\b\b\b\b\b\b\b\b\b\b\b\b\b\b\b\b\b\b\b\b\b\b\b\b\b\b\b\b\b\b\b\b\b\b\b\b\b\b\b\b\b\b\b\b\b\b\r",
        " 6720/11918 [===============>..............] - ETA: 0s - loss: 0.2241 - acc: 0.9253"
       ]
      },
      {
       "output_type": "stream",
       "stream": "stdout",
       "text": [
        "\b\b\b\b\b\b\b\b\b\b\b\b\b\b\b\b\b\b\b\b\b\b\b\b\b\b\b\b\b\b\b\b\b\b\b\b\b\b\b\b\b\b\b\b\b\b\b\b\b\b\b\b\b\b\b\b\b\b\b\b\b\b\b\b\b\b\b\b\b\b\b\b\b\b\b\b\b\b\b\b\b\b\b\r",
        " 9216/11918 [======================>.......] - ETA: 0s - loss: 0.1980 - acc: 0.9352"
       ]
      },
      {
       "output_type": "stream",
       "stream": "stdout",
       "text": [
        "\b\b\b\b\b\b\b\b\b\b\b\b\b\b\b\b\b\b\b\b\b\b\b\b\b\b\b\b\b\b\b\b\b\b\b\b\b\b\b\b\b\b\b\b\b\b\b\b\b\b\b\b\b\b\b\b\b\b\b\b\b\b\b\b\b\b\b\b\b\b\b\b\b\b\b\b\b\b\b\b\b\b\b\r",
        "11616/11918 [============================>.] - ETA: 0s - loss: 0.1834 - acc: 0.9397"
       ]
      },
      {
       "output_type": "stream",
       "stream": "stdout",
       "text": [
        "\b\b\b\b\b\b\b\b\b\b\b\b\b\b\b\b\b\b\b\b\b\b\b\b\b\b\b\b\b\b\b\b\b\b\b\b\b\b\b\b\b\b\b\b\b\b\b\b\b\b\b\b\b\b\b\b\b\b\b\b\b\b\b\b\b\b\b\b\b\b\b\b\b\b\b\b\b\b\b\b\b\b\b\r",
        "11918/11918 [==============================] - 0s - loss: 0.1812 - acc: 0.9403 - val_loss: 0.1185 - val_acc: 0.9604"
       ]
      },
      {
       "output_type": "stream",
       "stream": "stdout",
       "text": [
        "\n"
       ]
      }
     ],
     "prompt_number": 9
    },
    {
     "cell_type": "code",
     "collapsed": true,
     "input": [
      "# %load ../solutions/sol_821.py"
     ],
     "language": "python",
     "metadata": {},
     "outputs": [],
     "prompt_number": 1
    },
    {
     "cell_type": "heading",
     "level": 4,
     "metadata": {},
     "source": [
      "Step 2: Create the Multi-Input Network"
     ]
    },
    {
     "cell_type": "code",
     "collapsed": true,
     "input": [
      "## try yourself\n"
     ],
     "language": "python",
     "metadata": {},
     "outputs": [],
     "prompt_number": null
    },
    {
     "cell_type": "code",
     "collapsed": true,
     "input": [
      "## `evaluate` the model on test data"
     ],
     "language": "python",
     "metadata": {},
     "outputs": [],
     "prompt_number": null
    },
    {
     "cell_type": "markdown",
     "metadata": {},
     "source": [
      "Keras supports different Merge strategies:\n",
      "\n",
      "* `add`: element-wise sum\n",
      "* `concatenate`: tensor concatenation. You can specify the concatenation axis via the argument concat_axis.\n",
      "* `multiply`: element-wise multiplication\n",
      "* `average`: tensor average\n",
      "* `maximum`: element-wise maximum of the inputs.\n",
      "* `dot`: dot product. You can specify which axes to reduce along via the argument dot_axes. You can also specify applying any normalisation. In that case, the output of the dot product is the cosine proximity between the two samples."
     ]
    },
    {
     "cell_type": "markdown",
     "metadata": {},
     "source": [
      "You can also pass a function as the mode argument, allowing for arbitrary transformations:"
     ]
    },
    {
     "cell_type": "markdown",
     "metadata": {},
     "source": [
      "```python\n",
      "merged = Merge([left_branch, right_branch], mode=lambda x: x[0] - x[1])\n",
      "```"
     ]
    },
    {
     "cell_type": "markdown",
     "metadata": {},
     "source": [
      "---"
     ]
    },
    {
     "cell_type": "markdown",
     "metadata": {},
     "source": [
      "# Even more interesting\n",
      "\n",
      "Here's a good use case for the functional API: models with multiple inputs and outputs. \n",
      "\n",
      "The functional API makes it easy to manipulate a large number of intertwined datastreams.\n",
      "\n",
      "Let's consider the following model (from: [https://keras.io/getting-started/functional-api-guide/](https://keras.io/getting-started/functional-api-guide/) )"
     ]
    },
    {
     "cell_type": "markdown",
     "metadata": {},
     "source": [
      "## Problem and Data\n",
      "\n",
      "We seek to predict how many retweets and likes a news headline will receive on Twitter. \n",
      "\n",
      "The main input to the model will be the headline itself, as a sequence of words, but to spice things up, our model will also have an auxiliary input, receiving extra data such as the time of day when the headline was posted, etc. \n",
      "\n",
      "The model will also be supervised via two loss functions. \n",
      "\n",
      "Using the main loss function earlier in a model is a good regularization mechanism for deep models.\n",
      "\n",
      "<img src=\"https://s3.amazonaws.com/keras.io/img/multi-input-multi-output-graph.png\" width=\"40%\" />"
     ]
    },
    {
     "cell_type": "code",
     "collapsed": false,
     "input": [
      "from keras.layers import Input, Embedding, LSTM, Dense\n",
      "from keras.models import Model\n",
      "\n",
      "# Headline input: meant to receive sequences of 100 integers, between 1 and 10000.\n",
      "# Note that we can name any layer by passing it a \"name\" argument.\n",
      "main_input = Input(shape=(100,), dtype='int32', name='main_input')\n",
      "\n",
      "# This embedding layer will encode the input sequence\n",
      "# into a sequence of dense 512-dimensional vectors.\n",
      "x = Embedding(output_dim=512, input_dim=10000, input_length=100)(main_input)\n",
      "\n",
      "# A LSTM will transform the vector sequence into a single vector,\n",
      "# containing information about the entire sequence\n",
      "lstm_out = LSTM(32)(x)"
     ],
     "language": "python",
     "metadata": {},
     "outputs": [
      {
       "output_type": "stream",
       "stream": "stderr",
       "text": [
        "Using TensorFlow backend.\n"
       ]
      }
     ],
     "prompt_number": 1
    },
    {
     "cell_type": "markdown",
     "metadata": {},
     "source": [
      "Here we insert the auxiliary loss, allowing the LSTM and Embedding layer to be trained smoothly even though the main loss will be much higher in the model."
     ]
    },
    {
     "cell_type": "code",
     "collapsed": true,
     "input": [
      "auxiliary_output = Dense(1, activation='sigmoid', name='aux_output')(lstm_out)"
     ],
     "language": "python",
     "metadata": {},
     "outputs": [],
     "prompt_number": 2
    },
    {
     "cell_type": "markdown",
     "metadata": {},
     "source": [
      "At this point, we feed into the model our auxiliary input data by concatenating it with the LSTM output:"
     ]
    },
    {
     "cell_type": "code",
     "collapsed": true,
     "input": [
      "from keras.layers import concatenate\n",
      "\n",
      "auxiliary_input = Input(shape=(5,), name='aux_input')\n",
      "x = concatenate([lstm_out, auxiliary_input])\n",
      "\n",
      "# We stack a deep densely-connected network on top\n",
      "x = Dense(64, activation='relu')(x)\n",
      "x = Dense(64, activation='relu')(x)\n",
      "x = Dense(64, activation='relu')(x)\n",
      "\n",
      "# And finally we add the main logistic regression layer\n",
      "main_output = Dense(1, activation='sigmoid', name='main_output')(x)"
     ],
     "language": "python",
     "metadata": {},
     "outputs": [],
     "prompt_number": 4
    },
    {
     "cell_type": "heading",
     "level": 3,
     "metadata": {},
     "source": [
      "Model Definition"
     ]
    },
    {
     "cell_type": "code",
     "collapsed": true,
     "input": [
      "model = Model(inputs=[main_input, auxiliary_input], outputs=[main_output, auxiliary_output])"
     ],
     "language": "python",
     "metadata": {},
     "outputs": [],
     "prompt_number": 5
    },
    {
     "cell_type": "markdown",
     "metadata": {},
     "source": [
      "We compile the model and assign a weight of 0.2 to the auxiliary loss. \n",
      "\n",
      "To specify different **loss_weights or loss** for each different output, you can use a list or a dictionary. Here we pass a single loss as the loss argument, so the same loss will be used on all outputs."
     ]
    },
    {
     "cell_type": "markdown",
     "metadata": {},
     "source": [
      "#### Note: \n",
      "Since our inputs and outputs are named (we passed them a \"name\" argument), \n",
      "We can compile&fit the model via:"
     ]
    },
    {
     "cell_type": "code",
     "collapsed": true,
     "input": [
      "model.compile(optimizer='rmsprop',\n",
      "              loss={'main_output': 'binary_crossentropy', 'aux_output': 'binary_crossentropy'},\n",
      "              loss_weights={'main_output': 1., 'aux_output': 0.2})"
     ],
     "language": "python",
     "metadata": {},
     "outputs": [],
     "prompt_number": null
    },
    {
     "cell_type": "markdown",
     "metadata": {},
     "source": [
      "```python\n",
      "\n",
      "# And trained it via:\n",
      "model.fit({'main_input': headline_data, 'aux_input': additional_data},\n",
      "          {'main_output': labels, 'aux_output': labels},\n",
      "          epochs=50, batch_size=32)\n",
      "```"
     ]
    },
    {
     "cell_type": "heading",
     "level": 3,
     "metadata": {},
     "source": [
      "Hands On - Resnet"
     ]
    },
    {
     "cell_type": "markdown",
     "metadata": {},
     "source": [
      "Deep residual networks took the deep learning world by storm when Microsoft Research released Deep Residual Learning for Image Recognition. These networks led to 1st-place winning entries in all five main tracks of the ImageNet and COCO 2015 competitions, which covered image classification, object detection, and semantic segmentation. The robustness of ResNets has since been proven by various visual recognition tasks and by non-visual tasks involving speech and language.\n",
      "\n",
      "#### Motivation\n",
      "\n",
      "Network depth is of crucial importance in neural network architectures, but deeper networks are more difficult to train. The residual learning framework eases the training of these networks, and enables them to be substantially deeper\u200a\u2014\u200aleading to improved performance in both visual and non-visual tasks. These residual networks are much deeper than their \u2018plain\u2019 counterparts, yet they require a similar number of parameters (weights).\n",
      "The (degradation) problem:\n",
      "With network depth increasing, accuracy gets saturated (which might be unsurprising) and then degrades rapidly. Unexpectedly, such degradation is not caused by overfitting, and adding more layers to a suitably deep model leads to higher training error.\n",
      "The core insight:\n",
      "Let us consider a shallower architecture and its deeper counterpart that adds more layers onto it. There exists a solution to the deeper model by construction: the layers are copied from the learned shallower model, and the added layers are identity mapping. The existence of this constructed solution indicates that a deeper model should produce no higher training error than its shallower counterpart.\n",
      "#### The proposed solution:\n",
      "\n",
      "\n",
      "<img src=\"https://cdn-images-1.medium.com/max/1600/1*pUyst_ciesOz_LUg0HocYg.png\">\n",
      "\n",
      "\n",
      "A residual block\u200a\u2014\u200athe fundamental building block of residual networks. Figure 2: https://arxiv.org/pdf/1512.03385.pdf\n",
      "Instead of hoping each stack of layers directly fits a desired underlying mapping, we explicitly let these layers fit a residual mapping. The original mapping is recast into F(x)+x. We hypothesize that it is easier to optimize the residual mapping than to optimize the original, unreferenced mapping. To the extreme, if an identity mapping were optimal, it would be easier to push the residual to zero than to fit an identity mapping by a stack of nonlinear layers.\n",
      "We have reformulated the fundamental building block (figure above) of our network under the assumption that the optimal function a block is trying to model is closer to an identity mapping than to a zero mapping, and that it should be easier to find the perturbations with reference to an identity mapping than to a zero mapping. This simplifies the optimization of our network at almost no cost. Subsequent blocks in our network are thus responsible for fine-tuning the output of a previous block, instead of having to generate the desired output from scratch."
     ]
    },
    {
     "cell_type": "markdown",
     "metadata": {},
     "source": [
      "### Hands On - Build Resnet\n",
      "\n",
      "By the time you got here, you should be able to build Resnet and train it on MNIST.\n",
      "\n",
      "Do do :)"
     ]
    },
    {
     "cell_type": "code",
     "collapsed": true,
     "input": [],
     "language": "python",
     "metadata": {},
     "outputs": [],
     "prompt_number": null
    }
   ],
   "metadata": {}
  }
 ]
}