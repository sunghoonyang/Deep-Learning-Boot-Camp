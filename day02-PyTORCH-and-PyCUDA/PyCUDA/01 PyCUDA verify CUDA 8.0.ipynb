{
 "cells": [
  {
   "cell_type": "markdown",
   "metadata": {
    "slideshow": {
     "slide_type": "slide"
    }
   },
   "source": [
    "# Deep Learning Bootcamp November 2017, GPU Computing for Data Scientists\n",
    "\n",
    "<img src=\"../images/bcamp.png\" align=\"center\">\n",
    "\n",
    "## Using CUDA, Jupyter, PyCUDA and PyTorch\n",
    "\n",
    "### 01 PyCUDA verify CUDA 8.0\n",
    "\n",
    "Web: https://www.meetup.com/Tel-Aviv-Deep-Learning-Bootcamp/events/241762893/\n",
    "\n",
    "Notebooks: <a href=\"https://github.com/QuantScientist/Data-Science-PyCUDA-GPU\"> On GitHub</a>\n",
    "\n",
    "*Shlomo Kashani*\n",
    "\n",
    "<img src=\"../images/gtx.png\" width=\"35%\" align=\"center\">\n"
   ]
  },
  {
   "cell_type": "code",
   "execution_count": 1,
   "metadata": {
    "collapsed": true,
    "slideshow": {
     "slide_type": "skip"
    }
   },
   "outputs": [],
   "source": [
    "# Ignore numpy warnings\n",
    "import warnings\n",
    "warnings.filterwarnings('ignore')\n",
    "import matplotlib.pyplot as plt\n",
    "%matplotlib inline\n",
    "# Some defaults:\n",
    "plt.rcParams['figure.figsize'] = (12, 6)  # Default plot size"
   ]
  },
  {
   "cell_type": "markdown",
   "metadata": {
    "collapsed": true,
    "slideshow": {
     "slide_type": "slide"
    }
   },
   "source": [
    "# PyCUDA Imports\n",
    "\n",
    "The compute unified device architecture (CUDA) is a heterogeneous sequential-parallel programming model and software environment that allows for access to the NVIDIA’s GPU resources via so-called kernels. \n",
    "\n",
    "Several programming languages including C/C++, Fortran, and Python are supported for written kernels.\n",
    "\n",
    "Compared to the other non-scripting languages, Python emphasizes quick development and offers a comprehensive mathematics library that has been widely adopted by scientific communities. \n",
    "\n",
    "** PyCUDA involves using Python as a wrapper to the CUDA C kernels, and features Python’s automatic memory management, error checking, and requires no user-visible compilation, which makes it very suitable for interactive testing and quick prototyping in our applications.**"
   ]
  },
  {
   "cell_type": "code",
   "execution_count": 2,
   "metadata": {
    "collapsed": true,
    "slideshow": {
     "slide_type": "-"
    }
   },
   "outputs": [],
   "source": [
    "%reset -f\n",
    "import pycuda\n",
    "from pycuda import compiler\n",
    "import pycuda.driver as drv\n",
    "import pycuda.driver as cuda"
   ]
  },
  {
   "cell_type": "markdown",
   "metadata": {
    "collapsed": true,
    "slideshow": {
     "slide_type": "slide"
    }
   },
   "source": [
    "# Available CUDA Devices"
   ]
  },
  {
   "cell_type": "code",
   "execution_count": 3,
   "metadata": {
    "slideshow": {
     "slide_type": "-"
    }
   },
   "outputs": [
    {
     "name": "stdout",
     "output_type": "stream",
     "text": [
      "1 device(s) found.\n",
      "Device #0: GeForce GTX 1080\n",
      "  Compute Capability: 6.1\n",
      "  Total Memory: 8308736 KB\n",
      "  ASYNC_ENGINE_COUNT: 2\n",
      "  CAN_MAP_HOST_MEMORY: 1\n",
      "  CLOCK_RATE: 1733500\n",
      "  COMPUTE_CAPABILITY_MAJOR: 6\n",
      "  COMPUTE_CAPABILITY_MINOR: 1\n",
      "  COMPUTE_MODE: DEFAULT\n",
      "  CONCURRENT_KERNELS: 1\n",
      "  ECC_ENABLED: 0\n",
      "  GLOBAL_L1_CACHE_SUPPORTED: 1\n",
      "  GLOBAL_MEMORY_BUS_WIDTH: 256\n",
      "  GPU_OVERLAP: 1\n",
      "  INTEGRATED: 0\n",
      "  KERNEL_EXEC_TIMEOUT: 0\n",
      "  L2_CACHE_SIZE: 2097152\n",
      "  LOCAL_L1_CACHE_SUPPORTED: 1\n",
      "  MANAGED_MEMORY: 1\n",
      "  MAXIMUM_SURFACE1D_LAYERED_LAYERS: 2048\n",
      "  MAXIMUM_SURFACE1D_LAYERED_WIDTH: 32768\n",
      "  MAXIMUM_SURFACE1D_WIDTH: 32768\n",
      "  MAXIMUM_SURFACE2D_HEIGHT: 65536\n",
      "  MAXIMUM_SURFACE2D_LAYERED_HEIGHT: 32768\n",
      "  MAXIMUM_SURFACE2D_LAYERED_LAYERS: 2048\n",
      "  MAXIMUM_SURFACE2D_LAYERED_WIDTH: 32768\n",
      "  MAXIMUM_SURFACE2D_WIDTH: 131072\n",
      "  MAXIMUM_SURFACE3D_DEPTH: 16384\n",
      "  MAXIMUM_SURFACE3D_HEIGHT: 16384\n",
      "  MAXIMUM_SURFACE3D_WIDTH: 16384\n",
      "  MAXIMUM_SURFACECUBEMAP_LAYERED_LAYERS: 2046\n",
      "  MAXIMUM_SURFACECUBEMAP_LAYERED_WIDTH: 32768\n",
      "  MAXIMUM_SURFACECUBEMAP_WIDTH: 32768\n",
      "  MAXIMUM_TEXTURE1D_LAYERED_LAYERS: 2048\n",
      "  MAXIMUM_TEXTURE1D_LAYERED_WIDTH: 32768\n",
      "  MAXIMUM_TEXTURE1D_LINEAR_WIDTH: 134217728\n",
      "  MAXIMUM_TEXTURE1D_MIPMAPPED_WIDTH: 16384\n",
      "  MAXIMUM_TEXTURE1D_WIDTH: 131072\n",
      "  MAXIMUM_TEXTURE2D_ARRAY_HEIGHT: 32768\n",
      "  MAXIMUM_TEXTURE2D_ARRAY_NUMSLICES: 2048\n",
      "  MAXIMUM_TEXTURE2D_ARRAY_WIDTH: 32768\n",
      "  MAXIMUM_TEXTURE2D_GATHER_HEIGHT: 32768\n",
      "  MAXIMUM_TEXTURE2D_GATHER_WIDTH: 32768\n",
      "  MAXIMUM_TEXTURE2D_HEIGHT: 65536\n",
      "  MAXIMUM_TEXTURE2D_LINEAR_HEIGHT: 65000\n",
      "  MAXIMUM_TEXTURE2D_LINEAR_PITCH: 2097120\n",
      "  MAXIMUM_TEXTURE2D_LINEAR_WIDTH: 131072\n",
      "  MAXIMUM_TEXTURE2D_MIPMAPPED_HEIGHT: 32768\n",
      "  MAXIMUM_TEXTURE2D_MIPMAPPED_WIDTH: 32768\n",
      "  MAXIMUM_TEXTURE2D_WIDTH: 131072\n",
      "  MAXIMUM_TEXTURE3D_DEPTH: 16384\n",
      "  MAXIMUM_TEXTURE3D_DEPTH_ALTERNATE: 32768\n",
      "  MAXIMUM_TEXTURE3D_HEIGHT: 16384\n",
      "  MAXIMUM_TEXTURE3D_HEIGHT_ALTERNATE: 8192\n",
      "  MAXIMUM_TEXTURE3D_WIDTH: 16384\n",
      "  MAXIMUM_TEXTURE3D_WIDTH_ALTERNATE: 8192\n",
      "  MAXIMUM_TEXTURECUBEMAP_LAYERED_LAYERS: 2046\n",
      "  MAXIMUM_TEXTURECUBEMAP_LAYERED_WIDTH: 32768\n",
      "  MAXIMUM_TEXTURECUBEMAP_WIDTH: 32768\n",
      "  MAX_BLOCK_DIM_X: 1024\n",
      "  MAX_BLOCK_DIM_Y: 1024\n",
      "  MAX_BLOCK_DIM_Z: 64\n",
      "  MAX_GRID_DIM_X: 2147483647\n",
      "  MAX_GRID_DIM_Y: 65535\n",
      "  MAX_GRID_DIM_Z: 65535\n",
      "  MAX_PITCH: 2147483647\n",
      "  MAX_REGISTERS_PER_BLOCK: 65536\n",
      "  MAX_REGISTERS_PER_MULTIPROCESSOR: 65536\n",
      "  MAX_SHARED_MEMORY_PER_BLOCK: 49152\n",
      "  MAX_SHARED_MEMORY_PER_MULTIPROCESSOR: 98304\n",
      "  MAX_THREADS_PER_BLOCK: 1024\n",
      "  MAX_THREADS_PER_MULTIPROCESSOR: 2048\n",
      "  MEMORY_CLOCK_RATE: 5005000\n",
      "  MULTIPROCESSOR_COUNT: 20\n",
      "  MULTI_GPU_BOARD: 0\n",
      "  MULTI_GPU_BOARD_GROUP_ID: 0\n",
      "  PCI_BUS_ID: 1\n",
      "  PCI_DEVICE_ID: 0\n",
      "  PCI_DOMAIN_ID: 0\n",
      "  STREAM_PRIORITIES_SUPPORTED: 1\n",
      "  SURFACE_ALIGNMENT: 512\n",
      "  TCC_DRIVER: 0\n",
      "  TEXTURE_ALIGNMENT: 512\n",
      "  TEXTURE_PITCH_ALIGNMENT: 32\n",
      "  TOTAL_CONSTANT_MEMORY: 65536\n",
      "  UNIFIED_ADDRESSING: 1\n",
      "  WARP_SIZE: 32\n"
     ]
    }
   ],
   "source": [
    "drv.init()\n",
    "print(\"%d device(s) found.\" % drv.Device.count())\n",
    "           \n",
    "for ordinal in range(drv.Device.count()):\n",
    "    dev = drv.Device(ordinal)\n",
    "    print \"Device #%d: %s\" % (ordinal, dev.name())\n",
    "    print \"  Compute Capability: %d.%d\" % dev.compute_capability()\n",
    "    print \"  Total Memory: %s KB\" % (dev.total_memory()//(1024))\n",
    "    atts = [(str(att), value) \n",
    "            for att, value in dev.get_attributes().iteritems()]\n",
    "    atts.sort()\n",
    "  \n",
    "    for att, value in atts:\n",
    "        print \"  %s: %s\" % (att, value)"
   ]
  },
  {
   "cell_type": "code",
   "execution_count": 4,
   "metadata": {
    "slideshow": {
     "slide_type": "-"
    }
   },
   "outputs": [
    {
     "name": "stdout",
     "output_type": "stream",
     "text": [
      "Global memory occupancy:95.000000% free\n",
      "\n",
      "===Attributes for device 0\n",
      "MAX_THREADS_PER_BLOCK:1024\n",
      "MAX_BLOCK_DIM_X:1024\n",
      "MAX_BLOCK_DIM_Y:1024\n",
      "MAX_BLOCK_DIM_Z:64\n",
      "MAX_GRID_DIM_X:2147483647\n",
      "MAX_GRID_DIM_Y:65535\n",
      "MAX_GRID_DIM_Z:65535\n",
      "MAX_SHARED_MEMORY_PER_BLOCK:49152\n",
      "TOTAL_CONSTANT_MEMORY:65536\n",
      "WARP_SIZE:32\n",
      "MAX_PITCH:2147483647\n",
      "MAX_REGISTERS_PER_BLOCK:65536\n",
      "CLOCK_RATE:1733500\n",
      "TEXTURE_ALIGNMENT:512\n",
      "GPU_OVERLAP:1\n",
      "MULTIPROCESSOR_COUNT:20\n",
      "KERNEL_EXEC_TIMEOUT:0\n",
      "INTEGRATED:0\n",
      "CAN_MAP_HOST_MEMORY:1\n",
      "COMPUTE_MODE:DEFAULT\n",
      "MAXIMUM_TEXTURE1D_WIDTH:131072\n",
      "MAXIMUM_TEXTURE2D_WIDTH:131072\n",
      "MAXIMUM_TEXTURE2D_HEIGHT:65536\n",
      "MAXIMUM_TEXTURE3D_WIDTH:16384\n",
      "MAXIMUM_TEXTURE3D_HEIGHT:16384\n",
      "MAXIMUM_TEXTURE3D_DEPTH:16384\n",
      "MAXIMUM_TEXTURE2D_ARRAY_WIDTH:32768\n",
      "MAXIMUM_TEXTURE2D_ARRAY_HEIGHT:32768\n",
      "MAXIMUM_TEXTURE2D_ARRAY_NUMSLICES:2048\n",
      "SURFACE_ALIGNMENT:512\n",
      "CONCURRENT_KERNELS:1\n",
      "ECC_ENABLED:0\n",
      "PCI_BUS_ID:1\n",
      "PCI_DEVICE_ID:0\n",
      "TCC_DRIVER:0\n",
      "MEMORY_CLOCK_RATE:5005000\n",
      "GLOBAL_MEMORY_BUS_WIDTH:256\n",
      "L2_CACHE_SIZE:2097152\n",
      "MAX_THREADS_PER_MULTIPROCESSOR:2048\n",
      "ASYNC_ENGINE_COUNT:2\n",
      "UNIFIED_ADDRESSING:1\n",
      "MAXIMUM_TEXTURE1D_LAYERED_WIDTH:32768\n",
      "MAXIMUM_TEXTURE1D_LAYERED_LAYERS:2048\n",
      "MAXIMUM_TEXTURE2D_GATHER_WIDTH:32768\n",
      "MAXIMUM_TEXTURE2D_GATHER_HEIGHT:32768\n",
      "MAXIMUM_TEXTURE3D_WIDTH_ALTERNATE:8192\n",
      "MAXIMUM_TEXTURE3D_HEIGHT_ALTERNATE:8192\n",
      "MAXIMUM_TEXTURE3D_DEPTH_ALTERNATE:32768\n",
      "PCI_DOMAIN_ID:0\n",
      "TEXTURE_PITCH_ALIGNMENT:32\n",
      "MAXIMUM_TEXTURECUBEMAP_WIDTH:32768\n",
      "MAXIMUM_TEXTURECUBEMAP_LAYERED_WIDTH:32768\n",
      "MAXIMUM_TEXTURECUBEMAP_LAYERED_LAYERS:2046\n",
      "MAXIMUM_SURFACE1D_WIDTH:32768\n",
      "MAXIMUM_SURFACE2D_WIDTH:131072\n",
      "MAXIMUM_SURFACE2D_HEIGHT:65536\n",
      "MAXIMUM_SURFACE3D_WIDTH:16384\n",
      "MAXIMUM_SURFACE3D_HEIGHT:16384\n",
      "MAXIMUM_SURFACE3D_DEPTH:16384\n",
      "MAXIMUM_SURFACE1D_LAYERED_WIDTH:32768\n",
      "MAXIMUM_SURFACE1D_LAYERED_LAYERS:2048\n",
      "MAXIMUM_SURFACE2D_LAYERED_WIDTH:32768\n",
      "MAXIMUM_SURFACE2D_LAYERED_HEIGHT:32768\n",
      "MAXIMUM_SURFACE2D_LAYERED_LAYERS:2048\n",
      "MAXIMUM_SURFACECUBEMAP_WIDTH:32768\n",
      "MAXIMUM_SURFACECUBEMAP_LAYERED_WIDTH:32768\n",
      "MAXIMUM_SURFACECUBEMAP_LAYERED_LAYERS:2046\n",
      "MAXIMUM_TEXTURE1D_LINEAR_WIDTH:134217728\n",
      "MAXIMUM_TEXTURE2D_LINEAR_WIDTH:131072\n",
      "MAXIMUM_TEXTURE2D_LINEAR_HEIGHT:65000\n",
      "MAXIMUM_TEXTURE2D_LINEAR_PITCH:2097120\n",
      "MAXIMUM_TEXTURE2D_MIPMAPPED_WIDTH:32768\n",
      "MAXIMUM_TEXTURE2D_MIPMAPPED_HEIGHT:32768\n",
      "COMPUTE_CAPABILITY_MAJOR:6\n",
      "COMPUTE_CAPABILITY_MINOR:1\n",
      "MAXIMUM_TEXTURE1D_MIPMAPPED_WIDTH:16384\n",
      "STREAM_PRIORITIES_SUPPORTED:1\n",
      "GLOBAL_L1_CACHE_SUPPORTED:1\n",
      "LOCAL_L1_CACHE_SUPPORTED:1\n",
      "MAX_SHARED_MEMORY_PER_MULTIPROCESSOR:98304\n",
      "MAX_REGISTERS_PER_MULTIPROCESSOR:65536\n",
      "MANAGED_MEMORY:1\n",
      "MULTI_GPU_BOARD:0\n",
      "MULTI_GPU_BOARD_GROUP_ID:0\n"
     ]
    }
   ],
   "source": [
    "import pycuda.autoinit\n",
    "import pycuda.driver as cuda\n",
    "\n",
    "(free,total)=cuda.mem_get_info()\n",
    "print(\"Global memory occupancy:%f%% free\"%(free*100/total))\n",
    "\n",
    "for devicenum in range(cuda.Device.count()):\n",
    "    device=cuda.Device(devicenum)\n",
    "    attrs=device.get_attributes()\n",
    "\n",
    "    #Beyond this point is just pretty printing\n",
    "    print(\"\\n===Attributes for device %d\"%devicenum)\n",
    "    for (key,value) in attrs.iteritems():\n",
    "        print(\"%s:%s\"%(str(key),str(value)))"
   ]
  },
  {
   "cell_type": "code",
   "execution_count": null,
   "metadata": {
    "slideshow": {
     "slide_type": "skip"
    }
   },
   "outputs": [
    {
     "name": "stdout",
     "output_type": "stream",
     "text": [
      "[NbConvertApp] Converting notebook 01 PyCUDA verify CUDA 8.0.ipynb to slides\n",
      "[NbConvertApp] Writing 269541 bytes to 01 PyCUDA verify CUDA 8.0.slides.html\n",
      "[NbConvertApp] Redirecting reveal.js requests to https://cdnjs.cloudflare.com/ajax/libs/reveal.js/3.1.0\n",
      "Serving your slides at http://127.0.0.1:8000/01 PyCUDA verify CUDA 8.0.slides.html\n",
      "Use Control-C to stop this server\n"
     ]
    }
   ],
   "source": [
    "! jupyter-nbconvert \"01 PyCUDA verify CUDA 8.0.ipynb\" --to slides --reveal-prefix=reveal.js --post serve --ServerPostProcessor.ip=\"0.0.0.0\""
   ]
  },
  {
   "cell_type": "code",
   "execution_count": null,
   "metadata": {
    "collapsed": true
   },
   "outputs": [],
   "source": []
  }
 ],
 "metadata": {
  "celltoolbar": "Slideshow",
  "kernelspec": {
   "display_name": "Python 2",
   "language": "python",
   "name": "python2"
  },
  "language_info": {
   "codemirror_mode": {
    "name": "ipython",
    "version": 2
   },
   "file_extension": ".py",
   "mimetype": "text/x-python",
   "name": "python",
   "nbconvert_exporter": "python",
   "pygments_lexer": "ipython2",
   "version": "2.7.12"
  },
  "livereveal": {
   "controls": "true",
   "history": "true",
   "mouseWheel": "true",
   "overview": "true",
   "progress": "true",
   "scroll": "true",
   "start_slideshow_at": "selected"
  }
 },
 "nbformat": 4,
 "nbformat_minor": 1
}
